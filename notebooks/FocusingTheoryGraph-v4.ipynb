{
 "cells": [
  {
   "cell_type": "markdown",
   "metadata": {},
   "source": [
    "# Focusing Theory figure\n",
    "\n"
   ]
  },
  {
   "cell_type": "code",
   "execution_count": 1,
   "metadata": {
    "collapsed": false
   },
   "outputs": [
    {
     "name": "stderr",
     "output_type": "stream",
     "text": [
      "\n",
      "Attaching package: ‘dplyr’\n",
      "\n",
      "The following objects are masked from ‘package:stats’:\n",
      "\n",
      "    filter, lag\n",
      "\n",
      "The following objects are masked from ‘package:base’:\n",
      "\n",
      "    intersect, setdiff, setequal, union\n",
      "\n",
      "\n",
      "Attaching package: ‘cowplot’\n",
      "\n",
      "The following object is masked from ‘package:ggplot2’:\n",
      "\n",
      "    ggsave\n",
      "\n",
      "\n",
      "Attaching package: ‘tidyr’\n",
      "\n",
      "The following object is masked from ‘package:magrittr’:\n",
      "\n",
      "    extract\n",
      "\n"
     ]
    }
   ],
   "source": [
    "library(dplyr)\n",
    "library(ggplot2)\n",
    "library(cowplot)\n",
    "library(magrittr)\n",
    "library(tidyr)\n"
   ]
  },
  {
   "cell_type": "code",
   "execution_count": 2,
   "metadata": {
    "collapsed": false
   },
   "outputs": [],
   "source": [
    "focusing = read.csv(\"../data/Enzyme_60sec.csv\",header = FALSE)\n"
   ]
  },
  {
   "cell_type": "code",
   "execution_count": 3,
   "metadata": {
    "collapsed": false
   },
   "outputs": [],
   "source": [
    "focusing %<>% rename(Add_ATP = V1) %>% \n",
    "    mutate(Distance =seq(0,400,length.out = length(Add_ATP)) ) %>%\n",
    "    filter(Distance <= 360, Distance >= 40) %>%\n",
    "    mutate(Distance =seq(-160,160,length.out = length(Add_ATP)) )"
   ]
  },
  {
   "cell_type": "code",
   "execution_count": 4,
   "metadata": {
    "collapsed": false
   },
   "outputs": [],
   "source": [
    "focusing$channel[focusing$Distance <= -60] <- 'left'\n",
    "focusing$channel[focusing$Distance > -60 & focusing$Distance <= 60] <- 'center'\n",
    "focusing$channel[focusing$Distance > 60] <- 'right'\n",
    "focusing$channel <- factor(focusing$channel, levels = c ('left','center','right'))"
   ]
  },
  {
   "cell_type": "code",
   "execution_count": 5,
   "metadata": {
    "collapsed": false
   },
   "outputs": [],
   "source": [
    "focusing %<>% mutate(Control = 0.2) %>% gather(Experiment,Concentration,Control,Add_ATP)"
   ]
  },
  {
   "cell_type": "code",
   "execution_count": 8,
   "metadata": {
    "collapsed": false
   },
   "outputs": [
    {
     "data": {
      "image/png": "[encoded data removed]",
      "text/plain": [
       "plot without title"
      ]
     },
     "metadata": {},
     "output_type": "display_data"
    }
   ],
   "source": [
    "\n",
    "options(repr.plot.width = 3.5, repr.plot.height = 2)\n",
    "model <- ggplot(data = focusing,aes(x = Distance,color = Experiment)) + \n",
    "    geom_line(aes(y = Concentration*1000)) +\n",
    "    theme_bw() +\n",
    "xlab(expression(paste(\"Distance from center (\", mu, \"m)\", sep = \"\"))) +\n",
    "ylab(expression(paste(\"Concentration (nM)\", sep = \"\"))) +\n",
    "theme(panel.border = element_rect(size = .8, colour = \"black\"),\n",
    "         axis.text.y = element_text(size=8),\n",
    "         legend.title=element_blank(),\n",
    "         strip.text = element_text(size = 9, vjust = -150),\n",
    "         strip.background = element_rect(fill = NA, size = NA),\n",
    "         panel.grid.major = element_line()) +\n",
    "    scale_color_brewer(palette = 'Set1', labels = c('With ATP','Control'), direction=-1) +\n",
    "    scale_y_continuous(breaks = c(195,200,205))\n",
    "\n",
    "print(model)"
   ]
  },
  {
   "cell_type": "markdown",
   "metadata": {},
   "source": [
    "#### Getting Experimental Data"
   ]
  },
  {
   "cell_type": "code",
   "execution_count": 9,
   "metadata": {
    "collapsed": false
   },
   "outputs": [
    {
     "data": {
      "text/html": [
       "<table>\n",
       "<thead><tr><th scope=col>Experiment</th><th scope=col>channel</th><th scope=col>concentration</th><th scope=col>normalized</th></tr></thead>\n",
       "<tbody>\n",
       "\t<tr><td>Add_ATP  </td><td>left     </td><td> 9.993177</td><td>0.3085717</td></tr>\n",
       "\t<tr><td>Add_ATP  </td><td>center   </td><td>12.398915</td><td>0.3828566</td></tr>\n",
       "\t<tr><td>Add_ATP  </td><td>right    </td><td> 9.993177</td><td>0.3085717</td></tr>\n",
       "\t<tr><td>Control  </td><td>left     </td><td>10.000000</td><td>0.3125000</td></tr>\n",
       "\t<tr><td>Control  </td><td>center   </td><td>12.000000</td><td>0.3750000</td></tr>\n",
       "\t<tr><td>Control  </td><td>right    </td><td>10.000000</td><td>0.3125000</td></tr>\n",
       "</tbody>\n",
       "</table>\n"
      ],
      "text/latex": [
       "\\begin{tabular}{r|llll}\n",
       " Experiment & channel & concentration & normalized\\\\\n",
       "\\hline\n",
       "\t Add\\_ATP & left      &  9.993177 & 0.3085717\\\\\n",
       "\t Add\\_ATP & center    & 12.398915 & 0.3828566\\\\\n",
       "\t Add\\_ATP & right     &  9.993177 & 0.3085717\\\\\n",
       "\t Control   & left      & 10.000000 & 0.3125000\\\\\n",
       "\t Control   & center    & 12.000000 & 0.3750000\\\\\n",
       "\t Control   & right     & 10.000000 & 0.3125000\\\\\n",
       "\\end{tabular}\n"
      ],
      "text/markdown": [
       "\n",
       "Experiment | channel | concentration | normalized | \n",
       "|---|---|---|---|---|---|\n",
       "| Add_ATP   | left      |  9.993177 | 0.3085717 | \n",
       "| Add_ATP   | center    | 12.398915 | 0.3828566 | \n",
       "| Add_ATP   | right     |  9.993177 | 0.3085717 | \n",
       "| Control   | left      | 10.000000 | 0.3125000 | \n",
       "| Control   | center    | 12.000000 | 0.3750000 | \n",
       "| Control   | right     | 10.000000 | 0.3125000 | \n",
       "\n",
       "\n"
      ],
      "text/plain": [
       "  Experiment channel concentration normalized\n",
       "1 Add_ATP    left     9.993177     0.3085717 \n",
       "2 Add_ATP    center  12.398915     0.3828566 \n",
       "3 Add_ATP    right    9.993177     0.3085717 \n",
       "4 Control    left    10.000000     0.3125000 \n",
       "5 Control    center  12.000000     0.3750000 \n",
       "6 Control    right   10.000000     0.3125000 "
      ]
     },
     "metadata": {},
     "output_type": "display_data"
    }
   ],
   "source": [
    "bychannel <- focusing %>% group_by(Experiment,channel) %>%\n",
    "    summarise(concentration = sum(Concentration))\n",
    "\n",
    "bychannel %<>% group_by(Experiment) %>% mutate(normalized = concentration / sum(concentration))\n",
    "bychannel"
   ]
  },
  {
   "cell_type": "code",
   "execution_count": 53,
   "metadata": {
    "collapsed": false
   },
   "outputs": [],
   "source": [
    "bychannel_recap <- read.csv(\"../data/bychannel_recap2.csv\", header=TRUE, stringsAsFactors=FALSE)"
   ]
  },
  {
   "cell_type": "code",
   "execution_count": 54,
   "metadata": {
    "collapsed": false
   },
   "outputs": [
    {
     "data": {
      "text/html": [
       "<table>\n",
       "<thead><tr><th scope=col>X</th><th scope=col>channel</th><th scope=col>Substrate</th><th scope=col>Experiment</th><th scope=col>orig</th><th scope=col>smooth</th><th scope=col>lo</th><th scope=col>hi</th></tr></thead>\n",
       "<tbody>\n",
       "\t<tr><td> 1       </td><td>left     </td><td>dg       </td><td>ctrl     </td><td> 46.68531</td><td> 47.05010</td><td> 45.06864</td><td> 49.03530</td></tr>\n",
       "\t<tr><td> 2       </td><td>left     </td><td>dg       </td><td>substrate</td><td> 31.90805</td><td> 32.69220</td><td> 30.59474</td><td> 35.32258</td></tr>\n",
       "\t<tr><td> 3       </td><td>left     </td><td>mannose  </td><td>ctrl     </td><td> 64.12445</td><td> 63.67301</td><td> 60.45472</td><td> 66.59443</td></tr>\n",
       "\t<tr><td> 4       </td><td>left     </td><td>mannose  </td><td>substrate</td><td> 44.50118</td><td> 44.52957</td><td> 42.01694</td><td> 47.08725</td></tr>\n",
       "\t<tr><td> 5       </td><td>left     </td><td>lg       </td><td>ctrl     </td><td> 63.04916</td><td> 62.91964</td><td> 58.06020</td><td> 67.91187</td></tr>\n",
       "\t<tr><td> 6       </td><td>left     </td><td>lg       </td><td>substrate</td><td> 65.12966</td><td> 64.28462</td><td> 59.92722</td><td> 68.80208</td></tr>\n",
       "\t<tr><td> 7       </td><td>left     </td><td>amppcp   </td><td>ctrl     </td><td> 54.19623</td><td> 53.90575</td><td> 50.25103</td><td> 57.77995</td></tr>\n",
       "\t<tr><td> 8       </td><td>left     </td><td>amppcp   </td><td>substrate</td><td> 54.79734</td><td> 54.13189</td><td> 50.79065</td><td> 57.38445</td></tr>\n",
       "\t<tr><td> 9       </td><td>center   </td><td>dg       </td><td>ctrl     </td><td>100.63459</td><td>100.00000</td><td> 98.49681</td><td>101.40718</td></tr>\n",
       "\t<tr><td>10       </td><td>center   </td><td>dg       </td><td>substrate</td><td>129.75743</td><td>128.62129</td><td>124.50580</td><td>132.67915</td></tr>\n",
       "\t<tr><td>11       </td><td>center   </td><td>mannose  </td><td>ctrl     </td><td> 91.26515</td><td> 90.97689</td><td> 88.24161</td><td> 93.63860</td></tr>\n",
       "\t<tr><td>12       </td><td>center   </td><td>mannose  </td><td>substrate</td><td>111.87728</td><td>112.19112</td><td>108.43117</td><td>115.83945</td></tr>\n",
       "\t<tr><td>13       </td><td>center   </td><td>lg       </td><td>ctrl     </td><td> 93.82867</td><td> 92.93707</td><td> 89.77701</td><td> 96.03293</td></tr>\n",
       "\t<tr><td>14       </td><td>center   </td><td>lg       </td><td>substrate</td><td> 86.87385</td><td> 86.68031</td><td> 83.08119</td><td> 90.14661</td></tr>\n",
       "\t<tr><td>15       </td><td>center   </td><td>amppcp   </td><td>ctrl     </td><td> 95.75317</td><td> 95.29142</td><td> 93.88797</td><td> 96.73997</td></tr>\n",
       "\t<tr><td>16       </td><td>center   </td><td>amppcp   </td><td>substrate</td><td> 97.27642</td><td> 97.35687</td><td> 95.04509</td><td> 99.59095</td></tr>\n",
       "\t<tr><td>17       </td><td>right    </td><td>dg       </td><td>ctrl     </td><td> 51.41913</td><td> 52.02912</td><td> 50.43853</td><td> 53.79907</td></tr>\n",
       "\t<tr><td>18       </td><td>right    </td><td>dg       </td><td>substrate</td><td> 37.07355</td><td> 38.02950</td><td> 35.35993</td><td> 41.74547</td></tr>\n",
       "\t<tr><td>19       </td><td>right    </td><td>mannose  </td><td>ctrl     </td><td> 43.34943</td><td> 43.92464</td><td> 41.55840</td><td> 46.57328</td></tr>\n",
       "\t<tr><td>20       </td><td>right    </td><td>mannose  </td><td>substrate</td><td> 42.36057</td><td> 42.03774</td><td> 39.13127</td><td> 44.81980</td></tr>\n",
       "\t<tr><td>21       </td><td>right    </td><td>lg       </td><td>ctrl     </td><td> 41.86119</td><td> 41.92469</td><td> 40.11119</td><td> 43.72889</td></tr>\n",
       "\t<tr><td>22       </td><td>right    </td><td>lg       </td><td>substrate</td><td> 46.73552</td><td> 46.78423</td><td> 44.63335</td><td> 49.00624</td></tr>\n",
       "\t<tr><td>23       </td><td>right    </td><td>amppcp   </td><td>ctrl     </td><td> 48.78963</td><td> 49.51672</td><td> 48.33500</td><td> 50.65353</td></tr>\n",
       "\t<tr><td>24       </td><td>right    </td><td>amppcp   </td><td>substrate</td><td> 46.66527</td><td> 46.54140</td><td> 44.75807</td><td> 48.24550</td></tr>\n",
       "</tbody>\n",
       "</table>\n"
      ],
      "text/latex": [
       "\\begin{tabular}{r|llllllll}\n",
       " X & channel & Substrate & Experiment & orig & smooth & lo & hi\\\\\n",
       "\\hline\n",
       "\t  1        & left      & dg        & ctrl      &  46.68531 &  47.05010 &  45.06864 &  49.03530\\\\\n",
       "\t  2        & left      & dg        & substrate &  31.90805 &  32.69220 &  30.59474 &  35.32258\\\\\n",
       "\t  3        & left      & mannose   & ctrl      &  64.12445 &  63.67301 &  60.45472 &  66.59443\\\\\n",
       "\t  4        & left      & mannose   & substrate &  44.50118 &  44.52957 &  42.01694 &  47.08725\\\\\n",
       "\t  5        & left      & lg        & ctrl      &  63.04916 &  62.91964 &  58.06020 &  67.91187\\\\\n",
       "\t  6        & left      & lg        & substrate &  65.12966 &  64.28462 &  59.92722 &  68.80208\\\\\n",
       "\t  7        & left      & amppcp    & ctrl      &  54.19623 &  53.90575 &  50.25103 &  57.77995\\\\\n",
       "\t  8        & left      & amppcp    & substrate &  54.79734 &  54.13189 &  50.79065 &  57.38445\\\\\n",
       "\t  9        & center    & dg        & ctrl      & 100.63459 & 100.00000 &  98.49681 & 101.40718\\\\\n",
       "\t 10        & center    & dg        & substrate & 129.75743 & 128.62129 & 124.50580 & 132.67915\\\\\n",
       "\t 11        & center    & mannose   & ctrl      &  91.26515 &  90.97689 &  88.24161 &  93.63860\\\\\n",
       "\t 12        & center    & mannose   & substrate & 111.87728 & 112.19112 & 108.43117 & 115.83945\\\\\n",
       "\t 13        & center    & lg        & ctrl      &  93.82867 &  92.93707 &  89.77701 &  96.03293\\\\\n",
       "\t 14        & center    & lg        & substrate &  86.87385 &  86.68031 &  83.08119 &  90.14661\\\\\n",
       "\t 15        & center    & amppcp    & ctrl      &  95.75317 &  95.29142 &  93.88797 &  96.73997\\\\\n",
       "\t 16        & center    & amppcp    & substrate &  97.27642 &  97.35687 &  95.04509 &  99.59095\\\\\n",
       "\t 17        & right     & dg        & ctrl      &  51.41913 &  52.02912 &  50.43853 &  53.79907\\\\\n",
       "\t 18        & right     & dg        & substrate &  37.07355 &  38.02950 &  35.35993 &  41.74547\\\\\n",
       "\t 19        & right     & mannose   & ctrl      &  43.34943 &  43.92464 &  41.55840 &  46.57328\\\\\n",
       "\t 20        & right     & mannose   & substrate &  42.36057 &  42.03774 &  39.13127 &  44.81980\\\\\n",
       "\t 21        & right     & lg        & ctrl      &  41.86119 &  41.92469 &  40.11119 &  43.72889\\\\\n",
       "\t 22        & right     & lg        & substrate &  46.73552 &  46.78423 &  44.63335 &  49.00624\\\\\n",
       "\t 23        & right     & amppcp    & ctrl      &  48.78963 &  49.51672 &  48.33500 &  50.65353\\\\\n",
       "\t 24        & right     & amppcp    & substrate &  46.66527 &  46.54140 &  44.75807 &  48.24550\\\\\n",
       "\\end{tabular}\n"
      ],
      "text/markdown": [
       "\n",
       "X | channel | Substrate | Experiment | orig | smooth | lo | hi | \n",
       "|---|---|---|---|---|---|---|---|---|---|---|---|---|---|---|---|---|---|---|---|---|---|---|---|\n",
       "|  1        | left      | dg        | ctrl      |  46.68531 |  47.05010 |  45.06864 |  49.03530 | \n",
       "|  2        | left      | dg        | substrate |  31.90805 |  32.69220 |  30.59474 |  35.32258 | \n",
       "|  3        | left      | mannose   | ctrl      |  64.12445 |  63.67301 |  60.45472 |  66.59443 | \n",
       "|  4        | left      | mannose   | substrate |  44.50118 |  44.52957 |  42.01694 |  47.08725 | \n",
       "|  5        | left      | lg        | ctrl      |  63.04916 |  62.91964 |  58.06020 |  67.91187 | \n",
       "|  6        | left      | lg        | substrate |  65.12966 |  64.28462 |  59.92722 |  68.80208 | \n",
       "|  7        | left      | amppcp    | ctrl      |  54.19623 |  53.90575 |  50.25103 |  57.77995 | \n",
       "|  8        | left      | amppcp    | substrate |  54.79734 |  54.13189 |  50.79065 |  57.38445 | \n",
       "|  9        | center    | dg        | ctrl      | 100.63459 | 100.00000 |  98.49681 | 101.40718 | \n",
       "| 10        | center    | dg        | substrate | 129.75743 | 128.62129 | 124.50580 | 132.67915 | \n",
       "| 11        | center    | mannose   | ctrl      |  91.26515 |  90.97689 |  88.24161 |  93.63860 | \n",
       "| 12        | center    | mannose   | substrate | 111.87728 | 112.19112 | 108.43117 | 115.83945 | \n",
       "| 13        | center    | lg        | ctrl      |  93.82867 |  92.93707 |  89.77701 |  96.03293 | \n",
       "| 14        | center    | lg        | substrate |  86.87385 |  86.68031 |  83.08119 |  90.14661 | \n",
       "| 15        | center    | amppcp    | ctrl      |  95.75317 |  95.29142 |  93.88797 |  96.73997 | \n",
       "| 16        | center    | amppcp    | substrate |  97.27642 |  97.35687 |  95.04509 |  99.59095 | \n",
       "| 17        | right     | dg        | ctrl      |  51.41913 |  52.02912 |  50.43853 |  53.79907 | \n",
       "| 18        | right     | dg        | substrate |  37.07355 |  38.02950 |  35.35993 |  41.74547 | \n",
       "| 19        | right     | mannose   | ctrl      |  43.34943 |  43.92464 |  41.55840 |  46.57328 | \n",
       "| 20        | right     | mannose   | substrate |  42.36057 |  42.03774 |  39.13127 |  44.81980 | \n",
       "| 21        | right     | lg        | ctrl      |  41.86119 |  41.92469 |  40.11119 |  43.72889 | \n",
       "| 22        | right     | lg        | substrate |  46.73552 |  46.78423 |  44.63335 |  49.00624 | \n",
       "| 23        | right     | amppcp    | ctrl      |  48.78963 |  49.51672 |  48.33500 |  50.65353 | \n",
       "| 24        | right     | amppcp    | substrate |  46.66527 |  46.54140 |  44.75807 |  48.24550 | \n",
       "\n",
       "\n"
      ],
      "text/plain": [
       "   X  channel Substrate Experiment orig      smooth    lo        hi       \n",
       "1   1 left    dg        ctrl        46.68531  47.05010  45.06864  49.03530\n",
       "2   2 left    dg        substrate   31.90805  32.69220  30.59474  35.32258\n",
       "3   3 left    mannose   ctrl        64.12445  63.67301  60.45472  66.59443\n",
       "4   4 left    mannose   substrate   44.50118  44.52957  42.01694  47.08725\n",
       "5   5 left    lg        ctrl        63.04916  62.91964  58.06020  67.91187\n",
       "6   6 left    lg        substrate   65.12966  64.28462  59.92722  68.80208\n",
       "7   7 left    amppcp    ctrl        54.19623  53.90575  50.25103  57.77995\n",
       "8   8 left    amppcp    substrate   54.79734  54.13189  50.79065  57.38445\n",
       "9   9 center  dg        ctrl       100.63459 100.00000  98.49681 101.40718\n",
       "10 10 center  dg        substrate  129.75743 128.62129 124.50580 132.67915\n",
       "11 11 center  mannose   ctrl        91.26515  90.97689  88.24161  93.63860\n",
       "12 12 center  mannose   substrate  111.87728 112.19112 108.43117 115.83945\n",
       "13 13 center  lg        ctrl        93.82867  92.93707  89.77701  96.03293\n",
       "14 14 center  lg        substrate   86.87385  86.68031  83.08119  90.14661\n",
       "15 15 center  amppcp    ctrl        95.75317  95.29142  93.88797  96.73997\n",
       "16 16 center  amppcp    substrate   97.27642  97.35687  95.04509  99.59095\n",
       "17 17 right   dg        ctrl        51.41913  52.02912  50.43853  53.79907\n",
       "18 18 right   dg        substrate   37.07355  38.02950  35.35993  41.74547\n",
       "19 19 right   mannose   ctrl        43.34943  43.92464  41.55840  46.57328\n",
       "20 20 right   mannose   substrate   42.36057  42.03774  39.13127  44.81980\n",
       "21 21 right   lg        ctrl        41.86119  41.92469  40.11119  43.72889\n",
       "22 22 right   lg        substrate   46.73552  46.78423  44.63335  49.00624\n",
       "23 23 right   amppcp    ctrl        48.78963  49.51672  48.33500  50.65353\n",
       "24 24 right   amppcp    substrate   46.66527  46.54140  44.75807  48.24550"
      ]
     },
     "metadata": {},
     "output_type": "display_data"
    }
   ],
   "source": [
    "bychannel_recap"
   ]
  },
  {
   "cell_type": "code",
   "execution_count": 55,
   "metadata": {
    "collapsed": false
   },
   "outputs": [],
   "source": [
    "exp.df <- select(filter(bychannel_recap,Substrate == 'mannose'),channel,Experiment,orig,smooth,lo,hi)"
   ]
  },
  {
   "cell_type": "code",
   "execution_count": 56,
   "metadata": {
    "collapsed": false
   },
   "outputs": [],
   "source": [
    "exp.df %<>% rename(concentration = smooth)"
   ]
  },
  {
   "cell_type": "code",
   "execution_count": 57,
   "metadata": {
    "collapsed": false
   },
   "outputs": [
    {
     "data": {
      "text/html": [
       "<table>\n",
       "<thead><tr><th scope=col>channel</th><th scope=col>Experiment</th><th scope=col>orig</th><th scope=col>concentration</th><th scope=col>lo</th><th scope=col>hi</th></tr></thead>\n",
       "<tbody>\n",
       "\t<tr><td>left     </td><td>ctrl     </td><td> 64.12445</td><td> 63.67301</td><td> 60.45472</td><td> 66.59443</td></tr>\n",
       "\t<tr><td>left     </td><td>substrate</td><td> 44.50118</td><td> 44.52957</td><td> 42.01694</td><td> 47.08725</td></tr>\n",
       "\t<tr><td>center   </td><td>ctrl     </td><td> 91.26515</td><td> 90.97689</td><td> 88.24161</td><td> 93.63860</td></tr>\n",
       "\t<tr><td>center   </td><td>substrate</td><td>111.87728</td><td>112.19112</td><td>108.43117</td><td>115.83945</td></tr>\n",
       "\t<tr><td>right    </td><td>ctrl     </td><td> 43.34943</td><td> 43.92464</td><td> 41.55840</td><td> 46.57328</td></tr>\n",
       "\t<tr><td>right    </td><td>substrate</td><td> 42.36057</td><td> 42.03774</td><td> 39.13127</td><td> 44.81980</td></tr>\n",
       "</tbody>\n",
       "</table>\n"
      ],
      "text/latex": [
       "\\begin{tabular}{r|llllll}\n",
       " channel & Experiment & orig & concentration & lo & hi\\\\\n",
       "\\hline\n",
       "\t left      & ctrl      &  64.12445 &  63.67301 &  60.45472 &  66.59443\\\\\n",
       "\t left      & substrate &  44.50118 &  44.52957 &  42.01694 &  47.08725\\\\\n",
       "\t center    & ctrl      &  91.26515 &  90.97689 &  88.24161 &  93.63860\\\\\n",
       "\t center    & substrate & 111.87728 & 112.19112 & 108.43117 & 115.83945\\\\\n",
       "\t right     & ctrl      &  43.34943 &  43.92464 &  41.55840 &  46.57328\\\\\n",
       "\t right     & substrate &  42.36057 &  42.03774 &  39.13127 &  44.81980\\\\\n",
       "\\end{tabular}\n"
      ],
      "text/markdown": [
       "\n",
       "channel | Experiment | orig | concentration | lo | hi | \n",
       "|---|---|---|---|---|---|\n",
       "| left      | ctrl      |  64.12445 |  63.67301 |  60.45472 |  66.59443 | \n",
       "| left      | substrate |  44.50118 |  44.52957 |  42.01694 |  47.08725 | \n",
       "| center    | ctrl      |  91.26515 |  90.97689 |  88.24161 |  93.63860 | \n",
       "| center    | substrate | 111.87728 | 112.19112 | 108.43117 | 115.83945 | \n",
       "| right     | ctrl      |  43.34943 |  43.92464 |  41.55840 |  46.57328 | \n",
       "| right     | substrate |  42.36057 |  42.03774 |  39.13127 |  44.81980 | \n",
       "\n",
       "\n"
      ],
      "text/plain": [
       "  channel Experiment orig      concentration lo        hi       \n",
       "1 left    ctrl        64.12445  63.67301      60.45472  66.59443\n",
       "2 left    substrate   44.50118  44.52957      42.01694  47.08725\n",
       "3 center  ctrl        91.26515  90.97689      88.24161  93.63860\n",
       "4 center  substrate  111.87728 112.19112     108.43117 115.83945\n",
       "5 right   ctrl        43.34943  43.92464      41.55840  46.57328\n",
       "6 right   substrate   42.36057  42.03774      39.13127  44.81980"
      ]
     },
     "metadata": {},
     "output_type": "display_data"
    }
   ],
   "source": [
    "exp.df"
   ]
  },
  {
   "cell_type": "code",
   "execution_count": 58,
   "metadata": {
    "collapsed": false
   },
   "outputs": [],
   "source": [
    "exp.df %<>% mutate(Experiment=replace(Experiment, Experiment=='ctrl', 'Control')) %>%\n",
    "    mutate(Experiment=replace(Experiment, Experiment=='substrate', 'Add_ATP')) \n"
   ]
  },
  {
   "cell_type": "markdown",
   "metadata": {},
   "source": [
    "### Plotting histogram for theoretical data"
   ]
  },
  {
   "cell_type": "code",
   "execution_count": 59,
   "metadata": {
    "collapsed": false
   },
   "outputs": [
    {
     "data": {
      "image/png": "[encoded data removed]",
      "text/plain": [
       "plot without title"
      ]
     },
     "metadata": {},
     "output_type": "display_data"
    }
   ],
   "source": [
    "options(repr.plot.width = 5, repr.plot.height = 2)\n",
    "integrated <- ggplot(data = bychannel , \n",
    "                     aes(x=channel, y=normalized, fill = Experiment)) + \n",
    "    geom_bar(stat = 'identity',position = 'dodge') +\n",
    "    xlab(\"Channel\") +\n",
    "    ylab(\"Concentration\") +\n",
    "    theme_bw() +\n",
    "    theme(panel.border = element_rect(size = .8, colour = \"black\"),\n",
    "         axis.text.y = element_text(size=0),\n",
    "         legend.title=element_blank(),\n",
    "         strip.text = element_text(size = 9, vjust = -150),\n",
    "         strip.background = element_rect(fill = NA, size = NA),\n",
    "         panel.grid.major = element_line()) + \n",
    "\n",
    "    annotate(\"rect\", xmin = 0.5, xmax = 1.5, ymin = 0, ymax = +0.5, alpha = .2) +\n",
    "    annotate(\"rect\", xmin = 2.5, xmax = 3.5, ymin = 0, ymax = +.55, alpha = .2) +\n",
    "        coord_cartesian(ylim = c(0., .4)) +\n",
    "    scale_fill_brewer(palette = \"Set1\",labels = c(\"Control\",\"With Catalysis\"))\n",
    "\n",
    "print(integrated)"
   ]
  },
  {
   "cell_type": "markdown",
   "metadata": {
    "collapsed": true
   },
   "source": [
    "### Plotting Comparison Histogram\n",
    "First we need to merge the data frames then plot a joined histogram."
   ]
  },
  {
   "cell_type": "code",
   "execution_count": 60,
   "metadata": {
    "collapsed": false
   },
   "outputs": [
    {
     "name": "stderr",
     "output_type": "stream",
     "text": [
      "Joining, by = c(\"channel\", \"Experiment\", \"concentration\")\n",
      "Warning message in full_join_impl(x, y, by$x, by$y, suffix$x, suffix$y):\n",
      "“joining factor and character vector, coercing into character vector”"
     ]
    }
   ],
   "source": [
    "tot.df <- full_join(exp.df,bychannel)"
   ]
  },
  {
   "cell_type": "code",
   "execution_count": 61,
   "metadata": {
    "collapsed": false
   },
   "outputs": [],
   "source": [
    "tot.df$Experiment.Type = c(\"exp\",\"exp\",\"exp\",\"exp\",\"exp\",\"exp\",\"theo\",\"theo\",\"theo\",\"theo\",\"theo\",\"theo\")"
   ]
  },
  {
   "cell_type": "code",
   "execution_count": 66,
   "metadata": {
    "collapsed": false
   },
   "outputs": [
    {
     "name": "stdout",
     "output_type": "stream",
     "text": [
      "Observations: 4\n",
      "Variables: 8\n",
      "$ channel         <chr> \"center\", \"center\", \"center\", \"center\"\n",
      "$ Experiment      <chr> \"Control\", \"Add_ATP\", \"Add_ATP\", \"Control\"\n",
      "$ orig            <dbl> 91.26515, 111.87728, NA, NA\n",
      "$ concentration   <dbl> 90.97689, 112.19112, 12.39892, 12.00000\n",
      "$ lo              <dbl> 0.9699343, 1.1918540, NA, NA\n",
      "$ hi              <dbl> 1.029257, 1.273284, NA, NA\n",
      "$ normalized      <dbl> 1.000000, 1.233183, 1.033243, 1.000000\n",
      "$ Experiment.Type <chr> \"exp\", \"exp\", \"theo\", \"theo\"\n"
     ]
    }
   ],
   "source": [
    "center.tot.df <- filter(tot.df,channel == 'center') %>% \n",
    "    group_by(Experiment.Type) %>% mutate(normalized = concentration / min(concentration)) %>%\n",
    "    mutate(lo = lo/min(concentration)) %>%\n",
    "    mutate(hi = hi/min(concentration))\n",
    "glimpse(center.tot.df)"
   ]
  },
  {
   "cell_type": "code",
   "execution_count": 67,
   "metadata": {
    "collapsed": true
   },
   "outputs": [],
   "source": [
    "center.tot.df$Experiment <- factor(center.tot.df$Experiment, levels = c ('Control','Add_ATP'))"
   ]
  },
  {
   "cell_type": "code",
   "execution_count": 114,
   "metadata": {
    "collapsed": false
   },
   "outputs": [
    {
     "name": "stderr",
     "output_type": "stream",
     "text": [
      "Warning message:\n",
      "“Removed 2 rows containing missing values (geom_errorbar).”"
     ]
    },
    {
     "data": {
      "image/png": "[encoded data removed]",
      "text/plain": [
       "plot without title"
      ]
     },
     "metadata": {},
     "output_type": "display_data"
    }
   ],
   "source": [
    "options(repr.plot.width = 5, repr.plot.height = 2)\n",
    "comparison <- ggplot(data = center.tot.df , \n",
    "                     aes(x=Experiment, y=normalized, fill = Experiment)) + \n",
    "    geom_bar(stat = 'identity',position = 'dodge') +\n",
    "    xlab(\"\") +\n",
    "    ylab(\"Normalized \\nConcentration\") +\n",
    "    theme_bw() +\n",
    "    coord_cartesian(ylim = c(0.978, 1.265))  +\n",
    "    facet_grid(. ~Experiment.Type,\n",
    "               labeller = labeller(Experiment.Type =c(exp = 'Experiment',theo = 'Model'))) +\n",
    "    theme(panel.border = element_rect(size = .8, colour = \"black\"),\n",
    "         axis.text.y = element_text(size=8),\n",
    "         legend.title=element_blank(),\n",
    "         strip.text = element_text(size = 9, vjust =20),\n",
    "         strip.background = element_rect(fill = NA, size = NA),\n",
    "         panel.grid.major = element_line(),\n",
    "         legend.position = \"none\")  +\n",
    "    geom_errorbar(aes(ymin = lo,ymax = hi ),position = position_dodge(1), width = 0) +\n",
    "scale_fill_brewer(palette = \"Set1\") +\n",
    "scale_x_discrete(labels=c('Control','With ATP'))\n",
    "\n",
    "print(comparison)"
   ]
  },
  {
   "cell_type": "code",
   "execution_count": 115,
   "metadata": {
    "collapsed": false
   },
   "outputs": [
    {
     "name": "stderr",
     "output_type": "stream",
     "text": [
      "Warning message:\n",
      "“Removed 2 rows containing missing values (geom_errorbar).”"
     ]
    },
    {
     "data": {},
     "metadata": {},
     "output_type": "display_data"
    },
    {
     "data": {
      "image/png": "[encoded data removed]",
      "text/plain": [
       "plot without title"
      ]
     },
     "metadata": {},
     "output_type": "display_data"
    }
   ],
   "source": [
    "options(repr.plot.width = 7, repr.plot.height = 2.2)\n",
    "\n",
    "plot_grid(model, comparison, labels = c(\"   A\",\"B\"),ncol = 2, rel_widths = c (1.45,1.5))"
   ]
  },
  {
   "cell_type": "code",
   "execution_count": 116,
   "metadata": {
    "collapsed": false
   },
   "outputs": [],
   "source": [
    "ggsave('../img/theoryfigv6.png',width =7, height = 2.2, dpi = 300)"
   ]
  },
  {
   "cell_type": "code",
   "execution_count": null,
   "metadata": {
    "collapsed": true
   },
   "outputs": [],
   "source": []
  },
  {
   "cell_type": "code",
   "execution_count": null,
   "metadata": {
    "collapsed": true
   },
   "outputs": [],
   "source": []
  },
  {
   "cell_type": "code",
   "execution_count": null,
   "metadata": {
    "collapsed": true
   },
   "outputs": [],
   "source": []
  },
  {
   "cell_type": "code",
   "execution_count": null,
   "metadata": {
    "collapsed": true
   },
   "outputs": [],
   "source": []
  }
 ],
 "metadata": {
  "kernelspec": {
   "display_name": "R",
   "language": "R",
   "name": "ir"
  },
  "language_info": {
   "codemirror_mode": "r",
   "file_extension": ".r",
   "mimetype": "text/x-r-source",
   "name": "R",
   "pygments_lexer": "r",
   "version": "3.3.3"
  }
 },
 "nbformat": 4,
 "nbformat_minor": 0
}
