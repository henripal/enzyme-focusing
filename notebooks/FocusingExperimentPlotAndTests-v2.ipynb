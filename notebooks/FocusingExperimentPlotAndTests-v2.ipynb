{
 "cells": [
  {
   "cell_type": "markdown",
   "metadata": {},
   "source": [
    "# Focusing Data figure\n",
    "Temporarily called figure 3. Could change. We want to smooth and plot bars with confidence intervals for the data in xixi's new experiments\n"
   ]
  },
  {
   "cell_type": "code",
   "execution_count": 1,
   "metadata": {
    "collapsed": false
   },
   "outputs": [
    {
     "name": "stderr",
     "output_type": "stream",
     "text": [
      "\n",
      "Attaching package: ‘dplyr’\n",
      "\n",
      "The following objects are masked from ‘package:stats’:\n",
      "\n",
      "    filter, lag\n",
      "\n",
      "The following objects are masked from ‘package:base’:\n",
      "\n",
      "    intersect, setdiff, setequal, union\n",
      "\n",
      "\n",
      "Attaching package: ‘cowplot’\n",
      "\n",
      "The following object is masked from ‘package:ggplot2’:\n",
      "\n",
      "    ggsave\n",
      "\n",
      "\n",
      "Attaching package: ‘tidyr’\n",
      "\n",
      "The following object is masked from ‘package:magrittr’:\n",
      "\n",
      "    extract\n",
      "\n"
     ]
    },
    {
     "ename": "ERROR",
     "evalue": "Error in library(broom): there is no package called ‘broom’\n",
     "output_type": "error",
     "traceback": [
      "Error in library(broom): there is no package called ‘broom’\n"
     ]
    }
   ],
   "source": [
    "library(dplyr)\n",
    "library(ggplot2)\n",
    "library(cowplot)\n",
    "library(magrittr)\n",
    "library(tidyr)\n",
    "library(broom)\n",
    "library(splines)"
   ]
  },
  {
   "cell_type": "code",
   "execution_count": 2,
   "metadata": {
    "collapsed": false
   },
   "outputs": [
    {
     "name": "stderr",
     "output_type": "stream",
     "text": [
      "Warning message:\n",
      "In file(file, \"rt\"): cannot open file './rawdata/focusing2.csv': No such file or directory"
     ]
    },
    {
     "ename": "ERROR",
     "evalue": "Error in file(file, \"rt\"): cannot open the connection\n",
     "output_type": "error",
     "traceback": [
      "Error in file(file, \"rt\"): cannot open the connection\n"
     ]
    },
    {
     "ename": "ERROR",
     "evalue": "Error in eval(expr, envir, enclos): object 'focusing' not found\n",
     "output_type": "error",
     "traceback": [
      "Error in eval(expr, envir, enclos): object 'focusing' not found\n"
     ]
    }
   ],
   "source": [
    "focusing = read.csv(\"./rawdata/focusing2.csv\")\n",
    "focusing %<>% rename(Substrate = Experiment)"
   ]
  },
  {
   "cell_type": "code",
   "execution_count": 3,
   "metadata": {
    "collapsed": false
   },
   "outputs": [
    {
     "ename": "ERROR",
     "evalue": "Error in eval(expr, envir, enclos): object 'focusing' not found\n",
     "output_type": "error",
     "traceback": [
      "Error in eval(expr, envir, enclos): object 'focusing' not found\n"
     ]
    },
    {
     "ename": "ERROR",
     "evalue": "Error in focusing$channel[focusing$Distance <= 100] <- \"left\": object 'focusing' not found\n",
     "output_type": "error",
     "traceback": [
      "Error in focusing$channel[focusing$Distance <= 100] <- \"left\": object 'focusing' not found\n"
     ]
    },
    {
     "ename": "ERROR",
     "evalue": "Error in focusing$channel[focusing$Distance > 100 & focusing$Distance <= : object 'focusing' not found\n",
     "output_type": "error",
     "traceback": [
      "Error in focusing$channel[focusing$Distance > 100 & focusing$Distance <= : object 'focusing' not found\n"
     ]
    },
    {
     "ename": "ERROR",
     "evalue": "Error in focusing$channel[focusing$Distance > 220] <- \"right\": object 'focusing' not found\n",
     "output_type": "error",
     "traceback": [
      "Error in focusing$channel[focusing$Distance > 220] <- \"right\": object 'focusing' not found\n"
     ]
    }
   ],
   "source": [
    "focusing %<>% gather(Experiment,Concentration,Control, Add_ATP,Wait)\n",
    "focusing$channel[focusing$Distance <= 100] <- 'left'\n",
    "focusing$channel[focusing$Distance > 100 & focusing$Distance <= 220] <- 'center'\n",
    "focusing$channel[focusing$Distance > 220] <- 'right'"
   ]
  },
  {
   "cell_type": "code",
   "execution_count": 4,
   "metadata": {
    "collapsed": true
   },
   "outputs": [],
   "source": [
    "m <- function(df,m) {\n",
    "    temp <- df %>%\n",
    "        bootstrap(m) %>%\n",
    "#          do(augment(glm(data = ., Concentration ~ ns(Distance, df = 6)),.))\n",
    "         do(augment(loess(data = ., Concentration ~ Distance, span =0.5),.))\n",
    "    temp\n",
    "}"
   ]
  },
  {
   "cell_type": "code",
   "execution_count": 5,
   "metadata": {
    "collapsed": false
   },
   "outputs": [
    {
     "ename": "ERROR",
     "evalue": "Error in eval(expr, envir, enclos): object 'focusing' not found\n",
     "output_type": "error",
     "traceback": [
      "Error in eval(expr, envir, enclos): object 'focusing' not found\n"
     ]
    }
   ],
   "source": [
    "focusing_bs <- focusing %>%\n",
    "    group_by(Substrate, Experiment) %>%\n",
    "    do(m(.,25))"
   ]
  },
  {
   "cell_type": "markdown",
   "metadata": {},
   "source": [
    "Now we need to normalize each bootstrap sample integral to 1. We do this by sorting the distance then integrating concnetration with distances."
   ]
  },
  {
   "cell_type": "code",
   "execution_count": 6,
   "metadata": {
    "collapsed": false
   },
   "outputs": [
    {
     "ename": "ERROR",
     "evalue": "Error in focusing_bs$channel <- 0: object 'focusing_bs' not found\n",
     "output_type": "error",
     "traceback": [
      "Error in focusing_bs$channel <- 0: object 'focusing_bs' not found\n"
     ]
    },
    {
     "ename": "ERROR",
     "evalue": "Error in focusing_bs$channel[focusing_bs$Distance <= 100] <- \"left\": object 'focusing_bs' not found\n",
     "output_type": "error",
     "traceback": [
      "Error in focusing_bs$channel[focusing_bs$Distance <= 100] <- \"left\": object 'focusing_bs' not found\n"
     ]
    },
    {
     "ename": "ERROR",
     "evalue": "Error in focusing_bs$channel[focusing_bs$Distance > 100 & focusing_bs$Distance <= : object 'focusing_bs' not found\n",
     "output_type": "error",
     "traceback": [
      "Error in focusing_bs$channel[focusing_bs$Distance > 100 & focusing_bs$Distance <= : object 'focusing_bs' not found\n"
     ]
    },
    {
     "ename": "ERROR",
     "evalue": "Error in focusing_bs$channel[focusing_bs$Distance > 220] <- \"right\": object 'focusing_bs' not found\n",
     "output_type": "error",
     "traceback": [
      "Error in focusing_bs$channel[focusing_bs$Distance > 220] <- \"right\": object 'focusing_bs' not found\n"
     ]
    },
    {
     "ename": "ERROR",
     "evalue": "Error in factor(focusing_bs$channel, levels = c(\"left\", \"center\", \"right\")): object 'focusing_bs' not found\n",
     "output_type": "error",
     "traceback": [
      "Error in factor(focusing_bs$channel, levels = c(\"left\", \"center\", \"right\")): object 'focusing_bs' not found\n"
     ]
    }
   ],
   "source": [
    "focusing_bs$channel <- 0\n",
    "focusing_bs$channel[focusing_bs$Distance <= 100] <- 'left'\n",
    "focusing_bs$channel[focusing_bs$Distance > 100 & focusing_bs$Distance <= 220] <- 'center'\n",
    "focusing_bs$channel[focusing_bs$Distance > 220] <- 'right'\n",
    "focusing_bs$channel <- factor(focusing_bs$channel, levels = c ('left','center','right'))"
   ]
  },
  {
   "cell_type": "code",
   "execution_count": 7,
   "metadata": {
    "collapsed": false
   },
   "outputs": [
    {
     "ename": "ERROR",
     "evalue": "Error in eval(expr, envir, enclos): object 'focusing_bs' not found\n",
     "output_type": "error",
     "traceback": [
      "Error in eval(expr, envir, enclos): object 'focusing_bs' not found\n"
     ]
    },
    {
     "ename": "ERROR",
     "evalue": "Error in eval(expr, envir, enclos): object 'focusing_bs' not found\n",
     "output_type": "error",
     "traceback": [
      "Error in eval(expr, envir, enclos): object 'focusing_bs' not found\n"
     ]
    },
    {
     "ename": "ERROR",
     "evalue": "Error in eval(expr, envir, enclos): object 'focusing_bs' not found\n",
     "output_type": "error",
     "traceback": [
      "Error in eval(expr, envir, enclos): object 'focusing_bs' not found\n"
     ]
    },
    {
     "ename": "ERROR",
     "evalue": "Error in eval(expr, envir, enclos): object 'focusing_bs' not found\n",
     "output_type": "error",
     "traceback": [
      "Error in eval(expr, envir, enclos): object 'focusing_bs' not found\n"
     ]
    },
    {
     "ename": "ERROR",
     "evalue": "Error in eval(expr, envir, enclos): object 'focusing_bs' not found\n",
     "output_type": "error",
     "traceback": [
      "Error in eval(expr, envir, enclos): object 'focusing_bs' not found\n"
     ]
    },
    {
     "ename": "ERROR",
     "evalue": "Error in as.vector(focusing_bs$.fitted): object 'focusing_bs' not found\n",
     "output_type": "error",
     "traceback": [
      "Error in as.vector(focusing_bs$.fitted): object 'focusing_bs' not found\n"
     ]
    },
    {
     "ename": "ERROR",
     "evalue": "Error in as.vector(focusing_bs$.fitted.channel.integral): object 'focusing_bs' not found\n",
     "output_type": "error",
     "traceback": [
      "Error in as.vector(focusing_bs$.fitted.channel.integral): object 'focusing_bs' not found\n"
     ]
    },
    {
     "ename": "ERROR",
     "evalue": "Error in nrow(tbl): object 'focusing_bs' not found\n",
     "output_type": "error",
     "traceback": [
      "Error in nrow(tbl): object 'focusing_bs' not found\n"
     ]
    }
   ],
   "source": [
    "focusing_bs %<>% group_by(replicate,Substrate,Experiment,channel) %>% arrange(Distance) %>%\n",
    "    mutate(concentration.channel.integral = t(diff(Distance)) %*% Concentration[1:(length(Concentration)-1)])\n",
    "focusing_bs %<>% group_by(replicate,Substrate,Experiment,channel) %>% arrange(Distance) %>%\n",
    "    mutate(.fitted.channel.integral = t(diff(Distance)) %*% .fitted[1:(length(.fitted)-1)])\n",
    "focusing_bs %<>% ungroup() %>% group_by(Substrate,Experiment,replicate) %>% \n",
    "    mutate(concentration.integral = sum(concentration.channel.integral))\n",
    "focusing_bs %<>% ungroup() %>% group_by(Substrate,Experiment,replicate) %>% \n",
    "    mutate(.fitted.integral = sum(.fitted.channel.integral))\n",
    "# focusing_bs %<>% ungroup() %>% group_by(Experiment,replicate,channel,Substrate) %>% \n",
    "#     mutate(concentration.normalized = sum(Integral)/mean(normalized))\n",
    "focusing_bs$concentration.normalized <- focusing_bs$Concentration / focusing_bs$concentration.integral\n",
    "focusing_bs$.fitted.normalized <- as.vector(focusing_bs$.fitted) / as.vector(focusing_bs$.fitted.integral)\n",
    "focusing_bs$.fitted.normalized.channel.integral <- as.vector(focusing_bs$.fitted.channel.integral) / as.vector(focusing_bs$.fitted.integral )\n",
    "glimpse(focusing_bs)"
   ]
  },
  {
   "cell_type": "code",
   "execution_count": 8,
   "metadata": {
    "collapsed": false
   },
   "outputs": [
    {
     "ename": "ERROR",
     "evalue": "Error in eval(expr, envir, enclos): object 'focusing_bs' not found\n",
     "output_type": "error",
     "traceback": [
      "Error in eval(expr, envir, enclos): object 'focusing_bs' not found\n"
     ]
    },
    {
     "ename": "ERROR",
     "evalue": "Error in eval(expr, envir, enclos): object 'focusing_bs' not found\n",
     "output_type": "error",
     "traceback": [
      "Error in eval(expr, envir, enclos): object 'focusing_bs' not found\n"
     ]
    }
   ],
   "source": [
    "alpha <- 0.05\n",
    "bs_recap <- focusing_bs %>%\n",
    "    group_by(Experiment, Substrate, Distance,channel) %>% \n",
    "    summarise(lo = quantile(.fitted.normalized,alpha/2), \n",
    "              hi = quantile(.fitted.normalized,1-alpha/2), \n",
    "              smooth = mean(.fitted.normalized), \n",
    "              orig = mean(concentration.normalized))\n",
    "focusing_bs %<>% group_by(Experiment, Substrate, Distance,channel) %>% \n",
    "    mutate(lo = quantile(.fitted.normalized,alpha/2), hi = quantile(.fitted.normalized,1-alpha/2))"
   ]
  },
  {
   "cell_type": "code",
   "execution_count": 9,
   "metadata": {
    "collapsed": false
   },
   "outputs": [
    {
     "ename": "ERROR",
     "evalue": "Error in eval(expr, envir, enclos): object 'focusing_bs' not found\n",
     "output_type": "error",
     "traceback": [
      "Error in eval(expr, envir, enclos): object 'focusing_bs' not found\n"
     ]
    },
    {
     "ename": "ERROR",
     "evalue": "Error in eval(expr, envir, enclos): object 'bychannel_bs' not found\n",
     "output_type": "error",
     "traceback": [
      "Error in eval(expr, envir, enclos): object 'bychannel_bs' not found\n"
     ]
    },
    {
     "ename": "ERROR",
     "evalue": "Error in eval(expr, envir, enclos): object 'bychannel_bs' not found\n",
     "output_type": "error",
     "traceback": [
      "Error in eval(expr, envir, enclos): object 'bychannel_bs' not found\n"
     ]
    },
    {
     "ename": "ERROR",
     "evalue": "Error in eval(expr, envir, enclos): object 'bychannel_bs' not found\n",
     "output_type": "error",
     "traceback": [
      "Error in eval(expr, envir, enclos): object 'bychannel_bs' not found\n"
     ]
    },
    {
     "ename": "ERROR",
     "evalue": "Error in head(check): object 'check' not found\n",
     "output_type": "error",
     "traceback": [
      "Error in head(check): object 'check' not found\n"
     ]
    }
   ],
   "source": [
    "bychannel_bs <- focusing_bs %>% group_by(replicate,Substrate,Experiment,channel) %>% arrange(Distance) %>%\n",
    "    summarise(Integral = t(diff(Distance)) %*% Concentration[1:(length(Concentration)-1)])\n",
    "bychannel_bs %<>% ungroup() %>% group_by(Substrate,Experiment,replicate) %>% mutate(normalized = sum(Integral))\n",
    "bychannel_bs %<>% ungroup() %>% group_by(Experiment,replicate,channel,Substrate) %>% mutate(concentration = sum(Integral)/mean(normalized))\n",
    "check <- bychannel_bs %>% ungroup() %>% group_by(Substrate,Experiment,replicate) %>% summarise(sum = sum(concentration))\n",
    "head(check)"
   ]
  },
  {
   "cell_type": "code",
   "execution_count": 10,
   "metadata": {
    "collapsed": false
   },
   "outputs": [
    {
     "ename": "ERROR",
     "evalue": "Error in eval(expr, envir, enclos): object 'bs_recap' not found\n",
     "output_type": "error",
     "traceback": [
      "Error in eval(expr, envir, enclos): object 'bs_recap' not found\n"
     ]
    }
   ],
   "source": [
    "bychannel_recap <- bs_recap %>% \n",
    "    group_by(channel,Substrate,Experiment) %>% \n",
    "    summarise(orig = sum(orig), smooth = sum(smooth), lo = sum(lo), hi = sum(hi))"
   ]
  },
  {
   "cell_type": "code",
   "execution_count": 11,
   "metadata": {
    "collapsed": false
   },
   "outputs": [
    {
     "ename": "ERROR",
     "evalue": "Error in filter_(.data, .dots = lazyeval::lazy_dots(...)): object 'bychannel_recap' not found\n",
     "output_type": "error",
     "traceback": [
      "Error in filter_(.data, .dots = lazyeval::lazy_dots(...)): object 'bychannel_recap' not found\n"
     ]
    }
   ],
   "source": [
    "# glimpse(bychannel_recap)\n",
    "write.csv(filter(bychannel_recap, Experiment !=\"Wait\"),\"./bychannel_recap.csv\")"
   ]
  },
  {
   "cell_type": "code",
   "execution_count": 12,
   "metadata": {
    "collapsed": false,
    "scrolled": false
   },
   "outputs": [
    {
     "ename": "ERROR",
     "evalue": "Error in filter_(.data, .dots = lazyeval::lazy_dots(...)): object 'bychannel_recap' not found\n",
     "output_type": "error",
     "traceback": [
      "Error in filter_(.data, .dots = lazyeval::lazy_dots(...)): object 'bychannel_recap' not found\n"
     ]
    },
    {
     "ename": "ERROR",
     "evalue": "Error in eval(expr, envir, enclos): object 'integrated' not found\n",
     "output_type": "error",
     "traceback": [
      "Error in eval(expr, envir, enclos): object 'integrated' not found\n"
     ]
    },
    {
     "ename": "ERROR",
     "evalue": "Error in print(integrated): object 'integrated' not found\n",
     "output_type": "error",
     "traceback": [
      "Error in print(integrated): object 'integrated' not found\n"
     ]
    }
   ],
   "source": [
    "options(repr.plot.width = 5, repr.plot.height = 2)\n",
    "integrated <- ggplot(data = filter(bychannel_recap, Experiment !=\"Wait\") , \n",
    "                     aes(x=channel, y= smooth,fill = Experiment)) + \n",
    "    geom_bar(stat = \"identity\",position = \"dodge\") +\n",
    "    xlab(\"Channel\") +\n",
    "    ylab(\"Integrated N.F.I\") +\n",
    "    facet_grid(. ~ Substrate,\n",
    "        labeller = labeller(Substrate =c(DG = 'D-Glucose',LG = 'L-Glucose'))) +\n",
    "    theme_bw() +\n",
    "    theme(panel.border = element_rect(size = .8, colour = \"black\"),\n",
    "         axis.text.y = element_text(size=0),\n",
    "         legend.title=element_blank(),\n",
    "         strip.text = element_text(size = 9, vjust = -150),\n",
    "         strip.background = element_rect(fill = NA, size = NA),\n",
    "         panel.grid.major = element_line()) + \n",
    "    annotate(\"rect\", xmin = 0.5, xmax = 1.5, ymin = 0, ymax = +.0055, alpha = .2) +\n",
    "    annotate(\"rect\", xmin = 2.5, xmax = 3.5, ymin = 0, ymax = +.0055, alpha = .2) + \n",
    "    geom_bar(stat = \"identity\",position = \"dodge\") +\n",
    "    geom_errorbar(aes(ymin = lo,ymax = hi ),position = position_dodge(1), width = 0) +\n",
    "scale_fill_brewer(palette = 'Set1',labels = c(\"Control\",\"ATP in\\ncentral channel\"))\n",
    "\n",
    "# data frame for annotation bar\n",
    "\n",
    "ann.data <- data.frame(Substrate = c(\"DG\",\"LG\"), Experiment = c(\"Control\",\"Add_ATP\"), \n",
    "                      ann.x = c(0.75, 0.75), ann.xend = c(1.25,1.25), ann.y = c(0.0033, 0.0037),\n",
    "                      ann.yend = c(0.0033,0.0037), ann.text = c(\"***\",\" n.s.\"), ann.textoffset = c (0.0001,0.0004))\n",
    "\n",
    "ann.data <- ann.data[rep(seq_len(nrow(ann.data)), each = 3),]\n",
    "ann.data$channel <- factor(c('left','center','right','left','center','right'), levels = c ('left','center','right'))\n",
    "#order is DG l,c,r LG l,c,r\n",
    "ann.data$x.offset <- c(0,1,2,0,1,2)\n",
    "ann.data$y.offset <- c(0,0.002,0,0,0.001,0)\n",
    "\n",
    "\n",
    "integrated <- integrated + \n",
    "    geom_segment(data = ann.data, size=.3,\n",
    "                 aes(x = ann.x+x.offset, y=ann.y+y.offset, xend=ann.xend+x.offset, yend=ann.yend+y.offset)) +\n",
    "    geom_segment(data = ann.data, size = .3,\n",
    "                 aes(x = ann.x+x.offset,xend=ann.x+x.offset,y=ann.y-0.0002+y.offset,yend=ann.y+y.offset)) +\n",
    "    geom_segment(data = ann.data, size =.3,\n",
    "                 aes(x = ann.xend+x.offset,xend=ann.xend+x.offset,y=ann.y-0.0002+y.offset,yend=ann.y+y.offset)) +\n",
    "    geom_text(data = ann.data, size= 3.5,\n",
    "              aes(x = ann.x+.25+x.offset, y = ann.y+ann.textoffset+y.offset,label = ann.text))\n",
    "                \n",
    "print(integrated)"
   ]
  },
  {
   "cell_type": "code",
   "execution_count": 13,
   "metadata": {
    "collapsed": false
   },
   "outputs": [
    {
     "ename": "ERROR",
     "evalue": "Error in filter_(.data, .dots = lazyeval::lazy_dots(...)): object 'bs_recap' not found\n",
     "output_type": "error",
     "traceback": [
      "Error in filter_(.data, .dots = lazyeval::lazy_dots(...)): object 'bs_recap' not found\n"
     ]
    },
    {
     "name": "stdout",
     "output_type": "stream",
     "text": [
      "function (length = 0L) \n",
      ".Internal(vector(\"raw\", length))\n",
      "<bytecode: 0x2071150>\n",
      "<environment: namespace:base>\n"
     ]
    }
   ],
   "source": [
    "options(repr.plot.width = 5, repr.plot.height = 2)\n",
    "\n",
    "raw <- ggplot(data = filter(bs_recap, Experiment != \"Wait\"),aes(x = Distance-160,color = Experiment)) + \n",
    "    geom_point(aes(y = orig), size = 0.1) +\n",
    "    geom_line(aes(y = smooth)) +\n",
    "    ylab(\"N.F.I.\") +\n",
    "    xlab(expression(paste(\"Distance from center (\", mu, \"m)\", sep = \"\"))) +\n",
    "    facet_grid(. ~ Substrate,\n",
    "               labeller = labeller(Substrate =c(DG = 'D-Glucose',LG = 'L-Glucose'))) +\n",
    "    theme_bw() +     \n",
    "    theme(panel.border = element_rect(size = 0.8, colour = \"black\"),\n",
    "        axis.text.y = element_text(size=0),\n",
    "        legend.title=element_blank(),\n",
    "         strip.text = element_text(size = 9, vjust = -150),\n",
    "         strip.background = element_rect(fill = NA, size = NA)) +\n",
    "    annotate(\"rect\", xmin = -160, xmax = -60, ymin = 0.0000, ymax = +.000091, alpha = .2) +\n",
    "    annotate(\"rect\", xmin = 60, xmax = 160, ymin = 0.00000, ymax = +.000091, alpha = .2) +\n",
    "scale_color_brewer(palette = 'Set1',labels = c(\"Control\",\"ATP in\\ncentral channel\"))\n",
    "\n",
    "    \n",
    "print(raw)"
   ]
  },
  {
   "cell_type": "code",
   "execution_count": 14,
   "metadata": {
    "collapsed": false
   },
   "outputs": [
    {
     "ename": "ERROR",
     "evalue": "Error in plot_grid(raw, integrated, labels = c(\"A\", \"B\"), ncol = 1): object 'integrated' not found\n",
     "output_type": "error",
     "traceback": [
      "Error in plot_grid(raw, integrated, labels = c(\"A\", \"B\"), ncol = 1): object 'integrated' not found\n"
     ]
    }
   ],
   "source": [
    "options(repr.plot.width = 5, repr.plot.height = 4)\n",
    "\n",
    "plot_grid(raw,integrated, labels = c(\"A\",\"B\"),ncol = 1)"
   ]
  },
  {
   "cell_type": "code",
   "execution_count": 15,
   "metadata": {
    "collapsed": false
   },
   "outputs": [
    {
     "ename": "ERROR",
     "evalue": "Error in UseMethod(\"grid.draw\"): no applicable method for 'grid.draw' applied to an object of class \"NULL\"\n",
     "output_type": "error",
     "traceback": [
      "Error in UseMethod(\"grid.draw\"): no applicable method for 'grid.draw' applied to an object of class \"NULL\"\n"
     ]
    }
   ],
   "source": [
    "ggsave(\"./img/FocusingExperimentPlot.png\",width = 5, height = 4)"
   ]
  },
  {
   "cell_type": "code",
   "execution_count": 16,
   "metadata": {
    "collapsed": false
   },
   "outputs": [
    {
     "ename": "ERROR",
     "evalue": "Error in filter_(.data, .dots = lazyeval::lazy_dots(...)): object 'bychannel_bs' not found\n",
     "output_type": "error",
     "traceback": [
      "Error in filter_(.data, .dots = lazyeval::lazy_dots(...)): object 'bychannel_bs' not found\n"
     ]
    },
    {
     "ename": "ERROR",
     "evalue": "Error in subset$Experiment: object of type 'closure' is not subsettable\n",
     "output_type": "error",
     "traceback": [
      "Error in subset$Experiment: object of type 'closure' is not subsettable\n"
     ]
    }
   ],
   "source": [
    "subset <- filter(bychannel_bs,Substrate == \"LG\", channel == \"left\")\n",
    "pairwise.t.test(x = subset$concentration, g =subset$Experiment)"
   ]
  },
  {
   "cell_type": "code",
   "execution_count": 17,
   "metadata": {
    "collapsed": false
   },
   "outputs": [
    {
     "ename": "ERROR",
     "evalue": "Error in filter_(.data, .dots = lazyeval::lazy_dots(...)): object 'bychannel_bs' not found\n",
     "output_type": "error",
     "traceback": [
      "Error in filter_(.data, .dots = lazyeval::lazy_dots(...)): object 'bychannel_bs' not found\n"
     ]
    },
    {
     "ename": "ERROR",
     "evalue": "Error in subset$Experiment: object of type 'closure' is not subsettable\n",
     "output_type": "error",
     "traceback": [
      "Error in subset$Experiment: object of type 'closure' is not subsettable\n"
     ]
    }
   ],
   "source": [
    "subset <- filter(bychannel_bs,Substrate == \"DG\", channel == \"left\")\n",
    "pairwise.t.test(x = subset$concentration, g =subset$Experiment)"
   ]
  },
  {
   "cell_type": "code",
   "execution_count": 18,
   "metadata": {
    "collapsed": false
   },
   "outputs": [
    {
     "ename": "ERROR",
     "evalue": "Error in terms.formula(formula, \"Error\", data = data): 'data' argument is of the wrong type\n",
     "output_type": "error",
     "traceback": [
      "Error in terms.formula(formula, \"Error\", data = data): 'data' argument is of the wrong type\n"
     ]
    }
   ],
   "source": [
    "my.anova <- aov(formula = concentration.integral*10000 ~ Experiment, data = subset)"
   ]
  },
  {
   "cell_type": "code",
   "execution_count": 19,
   "metadata": {
    "collapsed": false
   },
   "outputs": [
    {
     "ename": "ERROR",
     "evalue": "Error in summary(my.anova): object 'my.anova' not found\n",
     "output_type": "error",
     "traceback": [
      "Error in summary(my.anova): object 'my.anova' not found\n"
     ]
    }
   ],
   "source": [
    "summary(my.anova)"
   ]
  },
  {
   "cell_type": "code",
   "execution_count": 20,
   "metadata": {
    "collapsed": false
   },
   "outputs": [
    {
     "ename": "ERROR",
     "evalue": "Error in subset$Experiment: object of type 'closure' is not subsettable\n",
     "output_type": "error",
     "traceback": [
      "Error in subset$Experiment: object of type 'closure' is not subsettable\n"
     ]
    }
   ],
   "source": [
    "pairwise.t.test(x = subset$concentration.integral, g =subset$Experiment)"
   ]
  },
  {
   "cell_type": "code",
   "execution_count": 21,
   "metadata": {
    "collapsed": false
   },
   "outputs": [
    {
     "ename": "ERROR",
     "evalue": "Error in if (is.waive(data) || empty(data)) return(cbind(data, PANEL = integer(0))): missing value where TRUE/FALSE needed\n",
     "output_type": "error",
     "traceback": [
      "Error in if (is.waive(data) || empty(data)) return(cbind(data, PANEL = integer(0))): missing value where TRUE/FALSE needed\n"
     ]
    },
    {
     "ename": "ERROR",
     "evalue": "Error in file(con, \"rb\"): cannot open the connection\n",
     "output_type": "error",
     "traceback": [
      "Error in file(con, \"rb\"): cannot open the connection\n"
     ]
    },
    {
     "ename": "ERROR",
     "evalue": "Error in file(con, \"rb\"): cannot open the connection\n",
     "output_type": "error",
     "traceback": [
      "Error in file(con, \"rb\"): cannot open the connection\n"
     ]
    },
    {
     "data": {
      "text/plain": [
       "plot without title"
      ]
     },
     "metadata": {
      "image/svg+xml": {
       "isolated": true
      }
     },
     "output_type": "display_data"
    }
   ],
   "source": [
    "ggplot(data = subset, aes(x = Experiment, y=concentration)) + geom_boxplot()"
   ]
  },
  {
   "cell_type": "code",
   "execution_count": 22,
   "metadata": {
    "collapsed": false
   },
   "outputs": [
    {
     "ename": "ERROR",
     "evalue": "Error in filter_(.data, .dots = lazyeval::lazy_dots(...)): object 'bychannel_bs' not found\n",
     "output_type": "error",
     "traceback": [
      "Error in filter_(.data, .dots = lazyeval::lazy_dots(...)): object 'bychannel_bs' not found\n"
     ]
    },
    {
     "ename": "ERROR",
     "evalue": "Error in UseMethod(\"filter_\"): no applicable method for 'filter_' applied to an object of class \"function\"\n",
     "output_type": "error",
     "traceback": [
      "Error in UseMethod(\"filter_\"): no applicable method for 'filter_' applied to an object of class \"function\"\n"
     ]
    },
    {
     "ename": "ERROR",
     "evalue": "Error in UseMethod(\"filter_\"): no applicable method for 'filter_' applied to an object of class \"function\"\n",
     "output_type": "error",
     "traceback": [
      "Error in UseMethod(\"filter_\"): no applicable method for 'filter_' applied to an object of class \"function\"\n"
     ]
    }
   ],
   "source": [
    "subset <- filter(bychannel_bs,Substrate == \"LG\", channel == \"left\")\n",
    "control_LG <- filter(subset, Experiment == \"Control\")$concentration\n",
    "atp_LG <- filter(subset, Experiment == \"Add_ATP\")$concentration"
   ]
  },
  {
   "cell_type": "code",
   "execution_count": 23,
   "metadata": {
    "collapsed": false
   },
   "outputs": [
    {
     "ename": "ERROR",
     "evalue": "Error in mean(control_LG): object 'control_LG' not found\n",
     "output_type": "error",
     "traceback": [
      "Error in mean(control_LG): object 'control_LG' not found\n"
     ]
    }
   ],
   "source": [
    "mean(control_LG)"
   ]
  },
  {
   "cell_type": "code",
   "execution_count": 24,
   "metadata": {
    "collapsed": false
   },
   "outputs": [
    {
     "ename": "ERROR",
     "evalue": "Error in mean(atp_LG): object 'atp_LG' not found\n",
     "output_type": "error",
     "traceback": [
      "Error in mean(atp_LG): object 'atp_LG' not found\n"
     ]
    }
   ],
   "source": [
    "mean(atp_LG)"
   ]
  },
  {
   "cell_type": "code",
   "execution_count": 25,
   "metadata": {
    "collapsed": false
   },
   "outputs": [
    {
     "ename": "ERROR",
     "evalue": "Error in is.data.frame(x): object 'control_LG' not found\n",
     "output_type": "error",
     "traceback": [
      "Error in is.data.frame(x): object 'control_LG' not found\n"
     ]
    },
    {
     "ename": "ERROR",
     "evalue": "Error in is.data.frame(x): object 'atp_LG' not found\n",
     "output_type": "error",
     "traceback": [
      "Error in is.data.frame(x): object 'atp_LG' not found\n"
     ]
    }
   ],
   "source": [
    "sd_ctrl_LG <- sd(control_LG)\n",
    "sd_atp_LG <- sd(atp_LG)"
   ]
  },
  {
   "cell_type": "code",
   "execution_count": 26,
   "metadata": {
    "collapsed": false
   },
   "outputs": [
    {
     "ename": "ERROR",
     "evalue": "Error in eval(expr, envir, enclos): object 'sd_atp_LG' not found\n",
     "output_type": "error",
     "traceback": [
      "Error in eval(expr, envir, enclos): object 'sd_atp_LG' not found\n"
     ]
    }
   ],
   "source": [
    "sd_atp_LG"
   ]
  },
  {
   "cell_type": "code",
   "execution_count": 27,
   "metadata": {
    "collapsed": false
   },
   "outputs": [
    {
     "ename": "ERROR",
     "evalue": "Error in eval(expr, envir, enclos): object 'sd_ctrl_LG' not found\n",
     "output_type": "error",
     "traceback": [
      "Error in eval(expr, envir, enclos): object 'sd_ctrl_LG' not found\n"
     ]
    }
   ],
   "source": [
    "sd_ctrl_LG"
   ]
  },
  {
   "cell_type": "code",
   "execution_count": 28,
   "metadata": {
    "collapsed": false
   },
   "outputs": [
    {
     "ename": "ERROR",
     "evalue": "Error in mean(control_LG): object 'control_LG' not found\n",
     "output_type": "error",
     "traceback": [
      "Error in mean(control_LG): object 'control_LG' not found\n"
     ]
    }
   ],
   "source": [
    "t <- (mean(control_LG)-mean(atp_LG)) / sqrt(var(control_LG)/25+var(atp_LG)/25)"
   ]
  },
  {
   "cell_type": "code",
   "execution_count": 29,
   "metadata": {
    "collapsed": false
   },
   "outputs": [
    {
     "data": {
      "text/html": [
       "<pre class=language-r><code>function (x) \n",
       "UseMethod(\"t\")</code></pre>"
      ],
      "text/latex": [
       "\\begin{minted}{r}\n",
       "function (x) \n",
       "UseMethod(\"t\")\n",
       "\\end{minted}"
      ],
      "text/markdown": [
       "```r\n",
       "function (x) \n",
       "UseMethod(\"t\")\n",
       "```"
      ],
      "text/plain": [
       "function (x) \n",
       "UseMethod(\"t\")\n",
       "<bytecode: 0x3c804b8>\n",
       "<environment: namespace:base>"
      ]
     },
     "execution_count": 29,
     "metadata": {},
     "output_type": "execute_result"
    }
   ],
   "source": [
    "t"
   ]
  },
  {
   "cell_type": "code",
   "execution_count": 30,
   "metadata": {
    "collapsed": false
   },
   "outputs": [
    {
     "ename": "ERROR",
     "evalue": "Error in t.test(control_LG, atp_LG): object 'control_LG' not found\n",
     "output_type": "error",
     "traceback": [
      "Error in t.test(control_LG, atp_LG): object 'control_LG' not found\n"
     ]
    }
   ],
   "source": [
    "t.test(control_LG,atp_LG)"
   ]
  },
  {
   "cell_type": "markdown",
   "metadata": {
    "collapsed": true
   },
   "source": [
    "# Figure 3, August 15 2016\n",
    "Redoing figure 3 with xixi's new data for focusing for Mannose, and using AMPCPP. Also, just received the triplicate data for the glucose experiment, so should account for this as well. Since the format is different than before i am going to copy the data anaysis part from RoleOfCatalysisPlot-v4."
   ]
  },
  {
   "cell_type": "code",
   "execution_count": 31,
   "metadata": {
    "collapsed": true
   },
   "outputs": [],
   "source": [
    "fig3<- read.csv(\"../newdata/alldata_081516.csv\")"
   ]
  },
  {
   "cell_type": "code",
   "execution_count": 32,
   "metadata": {
    "collapsed": true
   },
   "outputs": [],
   "source": [
    "n<-dim(fig3)[1]\n",
    "fig3<-fig3[1:(n-1),]"
   ]
  },
  {
   "cell_type": "code",
   "execution_count": 33,
   "metadata": {
    "collapsed": false
   },
   "outputs": [
    {
     "data": {
      "text/html": [
       "<table>\n",
       "<thead><tr><th></th><th scope=col>distance</th><th scope=col>dg</th><th scope=col>dg.ctrl</th><th scope=col>amppcp</th><th scope=col>amppcp.ctrl</th><th scope=col>mannose.ctrl</th><th scope=col>mannose</th><th scope=col>lg.ctrl</th><th scope=col>lg</th></tr></thead>\n",
       "<tbody>\n",
       "\t<tr><th scope=row>161</th><td>302.1419</td><td>33.7738</td><td>43.3214</td><td>114.667</td><td>129.333</td><td>161.333</td><td>137.5</td><td>37</td><td>44</td></tr>\n",
       "\t<tr><th scope=row>162</th><td>304.0303</td><td>31.6875</td><td>41.6875</td><td>108.667</td><td>131.667</td><td>160.5</td><td>136</td><td>39.6667</td><td>40.6667</td></tr>\n",
       "\t<tr><th scope=row>163</th><td>305.9187</td><td>31</td><td>37.9286</td><td>108.333</td><td>131</td><td>153.667</td><td>135.333</td><td>40</td><td>41.3333</td></tr>\n",
       "\t<tr><th scope=row>164</th><td>307.8071</td><td>30.2351</td><td>37</td><td>107</td><td>131.333</td><td>142</td><td>137.5</td><td>39</td><td>41</td></tr>\n",
       "\t<tr><th scope=row>165</th><td>309.6955</td><td>29.2381</td><td>37</td><td>111.333</td><td>130</td><td>138</td><td>128.667</td><td>38.6667</td><td>40.3333</td></tr>\n",
       "\t<tr><th scope=row>166</th><td>311.5839</td><td>26.7232</td><td>38.5179</td><td>108</td><td>133</td><td>134.5</td><td>132.167</td><td>36.3333</td><td>37</td></tr>\n",
       "</tbody>\n",
       "</table>\n"
      ],
      "text/latex": [
       "\\begin{tabular}{r|lllllllll}\n",
       "  & distance & dg & dg.ctrl & amppcp & amppcp.ctrl & mannose.ctrl & mannose & lg.ctrl & lg\\\\\n",
       "\\hline\n",
       "\t161 & 302.1419 & 33.7738 & 43.3214 & 114.667 & 129.333 & 161.333 & 137.5 & 37 & 44\\\\\n",
       "\t162 & 304.0303 & 31.6875 & 41.6875 & 108.667 & 131.667 & 160.5 & 136 & 39.6667 & 40.6667\\\\\n",
       "\t163 & 305.9187 & 31 & 37.9286 & 108.333 & 131 & 153.667 & 135.333 & 40 & 41.3333\\\\\n",
       "\t164 & 307.8071 & 30.2351 & 37 & 107 & 131.333 & 142 & 137.5 & 39 & 41\\\\\n",
       "\t165 & 309.6955 & 29.2381 & 37 & 111.333 & 130 & 138 & 128.667 & 38.6667 & 40.3333\\\\\n",
       "\t166 & 311.5839 & 26.7232 & 38.5179 & 108 & 133 & 134.5 & 132.167 & 36.3333 & 37\\\\\n",
       "\\end{tabular}\n"
      ],
      "text/plain": [
       "    distance      dg dg.ctrl  amppcp amppcp.ctrl mannose.ctrl mannose lg.ctrl\n",
       "161 302.1419 33.7738 43.3214 114.667     129.333      161.333 137.500 37.0000\n",
       "162 304.0303 31.6875 41.6875 108.667     131.667      160.500 136.000 39.6667\n",
       "163 305.9187 31.0000 37.9286 108.333     131.000      153.667 135.333 40.0000\n",
       "164 307.8071 30.2351 37.0000 107.000     131.333      142.000 137.500 39.0000\n",
       "165 309.6955 29.2381 37.0000 111.333     130.000      138.000 128.667 38.6667\n",
       "166 311.5839 26.7232 38.5179 108.000     133.000      134.500 132.167 36.3333\n",
       "         lg\n",
       "161 44.0000\n",
       "162 40.6667\n",
       "163 41.3333\n",
       "164 41.0000\n",
       "165 40.3333\n",
       "166 37.0000"
      ]
     },
     "execution_count": 33,
     "metadata": {},
     "output_type": "execute_result"
    }
   ],
   "source": [
    "tail(fig3)"
   ]
  },
  {
   "cell_type": "code",
   "execution_count": 34,
   "metadata": {
    "collapsed": false
   },
   "outputs": [],
   "source": [
    "fig3 <- gather(fig3,\"Experiment\",\"Concentration\",dg:lg)"
   ]
  },
  {
   "cell_type": "code",
   "execution_count": 35,
   "metadata": {
    "collapsed": false
   },
   "outputs": [
    {
     "data": {
      "text/html": [
       "<table>\n",
       "<thead><tr><th></th><th scope=col>distance</th><th scope=col>Experiment</th><th scope=col>Concentration</th></tr></thead>\n",
       "<tbody>\n",
       "\t<tr><th scope=row>1</th><td>0</td><td>dg</td><td>31.25</td></tr>\n",
       "\t<tr><th scope=row>2</th><td>1.8884</td><td>dg</td><td>32.247</td></tr>\n",
       "\t<tr><th scope=row>3</th><td>3.7768</td><td>dg</td><td>33</td></tr>\n",
       "\t<tr><th scope=row>4</th><td>5.6652</td><td>dg</td><td>33.4821</td></tr>\n",
       "\t<tr><th scope=row>5</th><td>7.5535</td><td>dg</td><td>35.2381</td></tr>\n",
       "\t<tr><th scope=row>6</th><td>9.4419</td><td>dg</td><td>36</td></tr>\n",
       "</tbody>\n",
       "</table>\n"
      ],
      "text/latex": [
       "\\begin{tabular}{r|lll}\n",
       "  & distance & Experiment & Concentration\\\\\n",
       "\\hline\n",
       "\t1 & 0 & dg & 31.25\\\\\n",
       "\t2 & 1.8884 & dg & 32.247\\\\\n",
       "\t3 & 3.7768 & dg & 33\\\\\n",
       "\t4 & 5.6652 & dg & 33.4821\\\\\n",
       "\t5 & 7.5535 & dg & 35.2381\\\\\n",
       "\t6 & 9.4419 & dg & 36\\\\\n",
       "\\end{tabular}\n"
      ],
      "text/plain": [
       "  distance Experiment Concentration\n",
       "1   0.0000         dg       31.2500\n",
       "2   1.8884         dg       32.2470\n",
       "3   3.7768         dg       33.0000\n",
       "4   5.6652         dg       33.4821\n",
       "5   7.5535         dg       35.2381\n",
       "6   9.4419         dg       36.0000"
      ]
     },
     "execution_count": 35,
     "metadata": {},
     "output_type": "execute_result"
    }
   ],
   "source": [
    "head(fig3)"
   ]
  },
  {
   "cell_type": "code",
   "execution_count": 36,
   "metadata": {
    "collapsed": true
   },
   "outputs": [],
   "source": [
    " normalit<-function(m){\n",
    "   (m - min(m))/sum(m-min(m))\n",
    " }"
   ]
  },
  {
   "cell_type": "code",
   "execution_count": 37,
   "metadata": {
    "collapsed": false
   },
   "outputs": [],
   "source": [
    "library(stringr)"
   ]
  },
  {
   "cell_type": "code",
   "execution_count": 38,
   "metadata": {
    "collapsed": false
   },
   "outputs": [],
   "source": [
    "fig3 %<>% group_by(Experiment) %>% mutate(Concentration.norm = normalit(Concentration))"
   ]
  },
  {
   "cell_type": "code",
   "execution_count": 39,
   "metadata": {
    "collapsed": false
   },
   "outputs": [],
   "source": [
    "fig3$Substrate = NA\n",
    "fig3$Substrate <- str_extract(fig3$Experiment, \"[a-z]+\")\n",
    "fig3$Experiment <- str_match(fig3$Experiment, \"[.]([a-z]+)\")[,2]\n",
    "fig3$Experiment[is.na(fig3$Experiment)] = \"substrate\""
   ]
  },
  {
   "cell_type": "code",
   "execution_count": 40,
   "metadata": {
    "collapsed": false
   },
   "outputs": [
    {
     "data": {
      "text/html": [
       "<table>\n",
       "<thead><tr><th></th><th scope=col>distance</th><th scope=col>Experiment</th><th scope=col>Concentration</th><th scope=col>Concentration.norm</th><th scope=col>Substrate</th></tr></thead>\n",
       "<tbody>\n",
       "\t<tr><th scope=row>1</th><td>62.3168</td><td>ctrl</td><td>46.5446</td><td>0.005145322</td><td>dg</td></tr>\n",
       "\t<tr><th scope=row>2</th><td>64.2052</td><td>ctrl</td><td>44</td><td>0.00424514</td><td>dg</td></tr>\n",
       "\t<tr><th scope=row>3</th><td>66.0936</td><td>ctrl</td><td>44.2917</td><td>0.004348332</td><td>dg</td></tr>\n",
       "\t<tr><th scope=row>4</th><td>67.9819</td><td>ctrl</td><td>46.1429</td><td>0.005003216</td><td>dg</td></tr>\n",
       "\t<tr><th scope=row>5</th><td>69.8703</td><td>ctrl</td><td>47.4196</td><td>0.005454864</td><td>dg</td></tr>\n",
       "\t<tr><th scope=row>6</th><td>71.7587</td><td>ctrl</td><td>49.7262</td><td>0.00627085</td><td>dg</td></tr>\n",
       "\t<tr><th scope=row>7</th><td>73.6471</td><td>ctrl</td><td>47.7321</td><td>0.005565414</td><td>dg</td></tr>\n",
       "\t<tr><th scope=row>8</th><td>75.5355</td><td>ctrl</td><td>46.131</td><td>0.004999006</td><td>dg</td></tr>\n",
       "\t<tr><th scope=row>9</th><td>77.4239</td><td>ctrl</td><td>46.872</td><td>0.005261144</td><td>dg</td></tr>\n",
       "\t<tr><th scope=row>10</th><td>79.3123</td><td>ctrl</td><td>46</td><td>0.004952664</td><td>dg</td></tr>\n",
       "\t<tr><th scope=row>11</th><td>81.2006</td><td>ctrl</td><td>46.122</td><td>0.004995822</td><td>dg</td></tr>\n",
       "</tbody>\n",
       "</table>\n"
      ],
      "text/latex": [
       "\\begin{tabular}{r|lllll}\n",
       "  & distance & Experiment & Concentration & Concentration.norm & Substrate\\\\\n",
       "\\hline\n",
       "\t1 & 62.3168 & ctrl & 46.5446 & 0.005145322 & dg\\\\\n",
       "\t2 & 64.2052 & ctrl & 44 & 0.00424514 & dg\\\\\n",
       "\t3 & 66.0936 & ctrl & 44.2917 & 0.004348332 & dg\\\\\n",
       "\t4 & 67.9819 & ctrl & 46.1429 & 0.005003216 & dg\\\\\n",
       "\t5 & 69.8703 & ctrl & 47.4196 & 0.005454864 & dg\\\\\n",
       "\t6 & 71.7587 & ctrl & 49.7262 & 0.00627085 & dg\\\\\n",
       "\t7 & 73.6471 & ctrl & 47.7321 & 0.005565414 & dg\\\\\n",
       "\t8 & 75.5355 & ctrl & 46.131 & 0.004999006 & dg\\\\\n",
       "\t9 & 77.4239 & ctrl & 46.872 & 0.005261144 & dg\\\\\n",
       "\t10 & 79.3123 & ctrl & 46 & 0.004952664 & dg\\\\\n",
       "\t11 & 81.2006 & ctrl & 46.122 & 0.004995822 & dg\\\\\n",
       "\\end{tabular}\n"
      ],
      "text/plain": [
       "Source: local data frame [11 x 5]\n",
       "Groups: Experiment [1]\n",
       "\n",
       "   distance Experiment Concentration Concentration.norm Substrate\n",
       "      (dbl)      (chr)         (dbl)              (dbl)     (chr)\n",
       "1   62.3168       ctrl       46.5446        0.005145322        dg\n",
       "2   64.2052       ctrl       44.0000        0.004245140        dg\n",
       "3   66.0936       ctrl       44.2917        0.004348332        dg\n",
       "4   67.9819       ctrl       46.1429        0.005003216        dg\n",
       "5   69.8703       ctrl       47.4196        0.005454864        dg\n",
       "6   71.7587       ctrl       49.7262        0.006270850        dg\n",
       "7   73.6471       ctrl       47.7321        0.005565414        dg\n",
       "8   75.5355       ctrl       46.1310        0.004999006        dg\n",
       "9   77.4239       ctrl       46.8720        0.005261144        dg\n",
       "10  79.3123       ctrl       46.0000        0.004952664        dg\n",
       "11  81.2006       ctrl       46.1220        0.004995822        dg"
      ]
     },
     "execution_count": 40,
     "metadata": {},
     "output_type": "execute_result"
    }
   ],
   "source": [
    "fig3[200:210,]"
   ]
  },
  {
   "cell_type": "code",
   "execution_count": 41,
   "metadata": {
    "collapsed": false
   },
   "outputs": [],
   "source": [
    "fig3$channel <- NA\n",
    "fig3$channel[fig3$distance <= 100] <- 'left'\n",
    "fig3$channel[fig3$distance > 100 & fig3$Distance <= 220] <- 'center'\n",
    "fig3$channel[fig3$distance > 220] <- 'right'"
   ]
  },
  {
   "cell_type": "code",
   "execution_count": 42,
   "metadata": {
    "collapsed": false
   },
   "outputs": [
    {
     "data": {
      "text/html": [
       "<table>\n",
       "<thead><tr><th></th><th scope=col>distance</th><th scope=col>Experiment</th><th scope=col>Concentration</th><th scope=col>Concentration.norm</th><th scope=col>Substrate</th><th scope=col>channel</th></tr></thead>\n",
       "<tbody>\n",
       "\t<tr><th scope=row>1</th><td>0</td><td>substrate</td><td>31.25</td><td>0.001244312</td><td>dg</td><td>left</td></tr>\n",
       "\t<tr><th scope=row>2</th><td>1.8884</td><td>substrate</td><td>32.247</td><td>0.001518365</td><td>dg</td><td>left</td></tr>\n",
       "\t<tr><th scope=row>3</th><td>3.7768</td><td>substrate</td><td>33</td><td>0.001725347</td><td>dg</td><td>left</td></tr>\n",
       "\t<tr><th scope=row>4</th><td>5.6652</td><td>substrate</td><td>33.4821</td><td>0.001857865</td><td>dg</td><td>left</td></tr>\n",
       "\t<tr><th scope=row>5</th><td>7.5535</td><td>substrate</td><td>35.2381</td><td>0.002340549</td><td>dg</td><td>left</td></tr>\n",
       "\t<tr><th scope=row>6</th><td>9.4419</td><td>substrate</td><td>36</td><td>0.002549977</td><td>dg</td><td>left</td></tr>\n",
       "</tbody>\n",
       "</table>\n"
      ],
      "text/latex": [
       "\\begin{tabular}{r|llllll}\n",
       "  & distance & Experiment & Concentration & Concentration.norm & Substrate & channel\\\\\n",
       "\\hline\n",
       "\t1 & 0 & substrate & 31.25 & 0.001244312 & dg & left\\\\\n",
       "\t2 & 1.8884 & substrate & 32.247 & 0.001518365 & dg & left\\\\\n",
       "\t3 & 3.7768 & substrate & 33 & 0.001725347 & dg & left\\\\\n",
       "\t4 & 5.6652 & substrate & 33.4821 & 0.001857865 & dg & left\\\\\n",
       "\t5 & 7.5535 & substrate & 35.2381 & 0.002340549 & dg & left\\\\\n",
       "\t6 & 9.4419 & substrate & 36 & 0.002549977 & dg & left\\\\\n",
       "\\end{tabular}\n"
      ],
      "text/plain": [
       "Source: local data frame [6 x 6]\n",
       "Groups: Experiment [1]\n",
       "\n",
       "  distance Experiment Concentration Concentration.norm Substrate channel\n",
       "     (dbl)      (chr)         (dbl)              (dbl)     (chr)   (chr)\n",
       "1   0.0000  substrate       31.2500        0.001244312        dg    left\n",
       "2   1.8884  substrate       32.2470        0.001518365        dg    left\n",
       "3   3.7768  substrate       33.0000        0.001725347        dg    left\n",
       "4   5.6652  substrate       33.4821        0.001857865        dg    left\n",
       "5   7.5535  substrate       35.2381        0.002340549        dg    left\n",
       "6   9.4419  substrate       36.0000        0.002549977        dg    left"
      ]
     },
     "execution_count": 42,
     "metadata": {},
     "output_type": "execute_result"
    }
   ],
   "source": [
    "head(fig3)"
   ]
  },
  {
   "cell_type": "code",
   "execution_count": 43,
   "metadata": {
    "collapsed": false
   },
   "outputs": [],
   "source": [
    "fig3$Substrate <- factor(fig3$Substrate, levels = c ('dg','mannose','lg','amppcp'))"
   ]
  },
  {
   "cell_type": "code",
   "execution_count": 44,
   "metadata": {
    "collapsed": true
   },
   "outputs": [],
   "source": [
    "m <- function(df,m) {\n",
    "    temp <- df %>%\n",
    "        bootstrap(m) %>%\n",
    "#          do(augment(glm(data = ., Concentration ~ ns(Distance, df = 6)),.))\n",
    "         do(augment(loess(data = ., Concentration ~ distance, span =0.5),.))\n",
    "    temp\n",
    "}"
   ]
  },
  {
   "cell_type": "code",
   "execution_count": 45,
   "metadata": {
    "collapsed": false
   },
   "outputs": [
    {
     "ename": "ERROR",
     "evalue": "Error in function_list[[i]](value): could not find function \"bootstrap\"\n",
     "output_type": "error",
     "traceback": [
      "Error in function_list[[i]](value): could not find function \"bootstrap\"\n"
     ]
    }
   ],
   "source": [
    "fig3_bs <- fig3 %>%\n",
    "    group_by(Substrate,Experiment) %>%\n",
    "    do(m(.,200))"
   ]
  },
  {
   "cell_type": "code",
   "execution_count": 46,
   "metadata": {
    "collapsed": false
   },
   "outputs": [
    {
     "ename": "ERROR",
     "evalue": "Error in fig3_bs$channel <- 0: object 'fig3_bs' not found\n",
     "output_type": "error",
     "traceback": [
      "Error in fig3_bs$channel <- 0: object 'fig3_bs' not found\n"
     ]
    },
    {
     "ename": "ERROR",
     "evalue": "Error in fig3_bs$channel[fig3_bs$distance <= 100] <- \"left\": object 'fig3_bs' not found\n",
     "output_type": "error",
     "traceback": [
      "Error in fig3_bs$channel[fig3_bs$distance <= 100] <- \"left\": object 'fig3_bs' not found\n"
     ]
    },
    {
     "ename": "ERROR",
     "evalue": "Error in fig3_bs$channel[fig3_bs$distance > 100 & fig3_bs$distance <= : object 'fig3_bs' not found\n",
     "output_type": "error",
     "traceback": [
      "Error in fig3_bs$channel[fig3_bs$distance > 100 & fig3_bs$distance <= : object 'fig3_bs' not found\n"
     ]
    },
    {
     "ename": "ERROR",
     "evalue": "Error in fig3_bs$channel[fig3_bs$distance > 220] <- \"right\": object 'fig3_bs' not found\n",
     "output_type": "error",
     "traceback": [
      "Error in fig3_bs$channel[fig3_bs$distance > 220] <- \"right\": object 'fig3_bs' not found\n"
     ]
    },
    {
     "ename": "ERROR",
     "evalue": "Error in factor(fig3_bs$channel, levels = c(\"left\", \"center\", \"right\")): object 'fig3_bs' not found\n",
     "output_type": "error",
     "traceback": [
      "Error in factor(fig3_bs$channel, levels = c(\"left\", \"center\", \"right\")): object 'fig3_bs' not found\n"
     ]
    }
   ],
   "source": [
    "fig3_bs$channel <- 0\n",
    "fig3_bs$channel[fig3_bs$distance <= 100] <- 'left'\n",
    "fig3_bs$channel[fig3_bs$distance > 100 & fig3_bs$distance <= 220] <- 'center'\n",
    "fig3_bs$channel[fig3_bs$distance > 220] <- 'right'\n",
    "fig3_bs$channel <- factor(fig3_bs$channel, levels = c ('left','center','right'))"
   ]
  },
  {
   "cell_type": "code",
   "execution_count": 47,
   "metadata": {
    "collapsed": false
   },
   "outputs": [
    {
     "ename": "ERROR",
     "evalue": "Error in eval(expr, envir, enclos): object 'fig3_bs' not found\n",
     "output_type": "error",
     "traceback": [
      "Error in eval(expr, envir, enclos): object 'fig3_bs' not found\n"
     ]
    },
    {
     "ename": "ERROR",
     "evalue": "Error in eval(expr, envir, enclos): object 'fig3_bs' not found\n",
     "output_type": "error",
     "traceback": [
      "Error in eval(expr, envir, enclos): object 'fig3_bs' not found\n"
     ]
    },
    {
     "ename": "ERROR",
     "evalue": "Error in eval(expr, envir, enclos): object 'fig3_bs' not found\n",
     "output_type": "error",
     "traceback": [
      "Error in eval(expr, envir, enclos): object 'fig3_bs' not found\n"
     ]
    },
    {
     "ename": "ERROR",
     "evalue": "Error in eval(expr, envir, enclos): object 'fig3_bs' not found\n",
     "output_type": "error",
     "traceback": [
      "Error in eval(expr, envir, enclos): object 'fig3_bs' not found\n"
     ]
    },
    {
     "ename": "ERROR",
     "evalue": "Error in eval(expr, envir, enclos): object 'fig3_bs' not found\n",
     "output_type": "error",
     "traceback": [
      "Error in eval(expr, envir, enclos): object 'fig3_bs' not found\n"
     ]
    },
    {
     "ename": "ERROR",
     "evalue": "Error in as.vector(fig3_bs$.fitted): object 'fig3_bs' not found\n",
     "output_type": "error",
     "traceback": [
      "Error in as.vector(fig3_bs$.fitted): object 'fig3_bs' not found\n"
     ]
    },
    {
     "ename": "ERROR",
     "evalue": "Error in as.vector(fig3_bs$.fitted.channel.integral): object 'fig3_bs' not found\n",
     "output_type": "error",
     "traceback": [
      "Error in as.vector(fig3_bs$.fitted.channel.integral): object 'fig3_bs' not found\n"
     ]
    },
    {
     "ename": "ERROR",
     "evalue": "Error in nrow(tbl): object 'fig3_bs' not found\n",
     "output_type": "error",
     "traceback": [
      "Error in nrow(tbl): object 'fig3_bs' not found\n"
     ]
    }
   ],
   "source": [
    "fig3_bs %<>% group_by(replicate,Substrate,Experiment,channel) %>% arrange(distance) %>%\n",
    "    mutate(concentration.channel.integral = t(diff(distance)) %*% Concentration[1:(length(Concentration)-1)])\n",
    "fig3_bs %<>% group_by(replicate,Substrate,Experiment,channel) %>% arrange(distance) %>%\n",
    "    mutate(.fitted.channel.integral = t(diff(distance)) %*% .fitted[1:(length(.fitted)-1)])\n",
    "fig3_bs %<>% ungroup() %>% group_by(Substrate,Experiment,replicate) %>% \n",
    "    mutate(concentration.integral = sum(concentration.channel.integral))\n",
    "fig3_bs %<>% ungroup() %>% group_by(Substrate,Experiment,replicate) %>% \n",
    "    mutate(.fitted.integral = sum(.fitted.channel.integral))\n",
    "# fig3_bs %<>% ungroup() %>% group_by(Experiment,replicate,channel,Substrate) %>% \n",
    "#     mutate(concentration.normalized = sum(Integral)/mean(normalized))\n",
    "fig3_bs$concentration.normalized <- fig3_bs$Concentration / fig3_bs$concentration.integral\n",
    "fig3_bs$.fitted.normalized <- as.vector(fig3_bs$.fitted) / as.vector(fig3_bs$.fitted.integral)\n",
    "fig3_bs$.fitted.normalized.channel.integral <- as.vector(fig3_bs$.fitted.channel.integral) / as.vector(fig3_bs$.fitted.integral )\n",
    "glimpse(fig3_bs)"
   ]
  },
  {
   "cell_type": "code",
   "execution_count": 48,
   "metadata": {
    "collapsed": false
   },
   "outputs": [
    {
     "ename": "ERROR",
     "evalue": "Error in eval(expr, envir, enclos): object 'fig3_bs' not found\n",
     "output_type": "error",
     "traceback": [
      "Error in eval(expr, envir, enclos): object 'fig3_bs' not found\n"
     ]
    },
    {
     "ename": "ERROR",
     "evalue": "Error in eval(expr, envir, enclos): object 'fig3_bs' not found\n",
     "output_type": "error",
     "traceback": [
      "Error in eval(expr, envir, enclos): object 'fig3_bs' not found\n"
     ]
    }
   ],
   "source": [
    "alpha <- 0.05\n",
    "fig3_recap <- fig3_bs %>%\n",
    "    group_by(Experiment, Substrate, distance,channel) %>% \n",
    "    summarise(lo = quantile(.fitted.normalized,alpha/2), \n",
    "              hi = quantile(.fitted.normalized,1-alpha/2), \n",
    "              smooth = mean(.fitted.normalized), \n",
    "              orig = mean(concentration.normalized))\n",
    "fig3_bs %<>% group_by(Experiment, Substrate, distance,channel) %>% \n",
    "    mutate(lo = quantile(.fitted.normalized,alpha/2), hi = quantile(.fitted.normalized,1-alpha/2))"
   ]
  },
  {
   "cell_type": "code",
   "execution_count": 49,
   "metadata": {
    "collapsed": false
   },
   "outputs": [
    {
     "ename": "ERROR",
     "evalue": "Error in eval(expr, envir, enclos): object 'fig3_bs' not found\n",
     "output_type": "error",
     "traceback": [
      "Error in eval(expr, envir, enclos): object 'fig3_bs' not found\n"
     ]
    },
    {
     "ename": "ERROR",
     "evalue": "Error in eval(expr, envir, enclos): object 'bychannel_bs' not found\n",
     "output_type": "error",
     "traceback": [
      "Error in eval(expr, envir, enclos): object 'bychannel_bs' not found\n"
     ]
    },
    {
     "ename": "ERROR",
     "evalue": "Error in eval(expr, envir, enclos): object 'bychannel_bs' not found\n",
     "output_type": "error",
     "traceback": [
      "Error in eval(expr, envir, enclos): object 'bychannel_bs' not found\n"
     ]
    },
    {
     "ename": "ERROR",
     "evalue": "Error in eval(expr, envir, enclos): object 'bychannel_bs' not found\n",
     "output_type": "error",
     "traceback": [
      "Error in eval(expr, envir, enclos): object 'bychannel_bs' not found\n"
     ]
    },
    {
     "ename": "ERROR",
     "evalue": "Error in head(check): object 'check' not found\n",
     "output_type": "error",
     "traceback": [
      "Error in head(check): object 'check' not found\n"
     ]
    }
   ],
   "source": [
    "bychannel_bs <- fig3_bs %>% group_by(replicate,Substrate,Experiment,channel) %>% arrange(distance) %>%\n",
    "    summarise(Integral = t(diff(distance)) %*% Concentration[1:(length(Concentration)-1)])\n",
    "bychannel_bs %<>% ungroup() %>% group_by(Substrate,Experiment,replicate) %>% mutate(normalized = sum(Integral))\n",
    "bychannel_bs %<>% ungroup() %>% group_by(Experiment,replicate,channel,Substrate) %>% mutate(concentration = sum(Integral)/mean(normalized))\n",
    "check <- bychannel_bs %>% ungroup() %>% group_by(Substrate,Experiment,replicate) %>% summarise(sum = sum(concentration))\n",
    "head(check)"
   ]
  },
  {
   "cell_type": "code",
   "execution_count": 50,
   "metadata": {
    "collapsed": false
   },
   "outputs": [
    {
     "ename": "ERROR",
     "evalue": "Error in eval(expr, envir, enclos): object 'fig3_recap' not found\n",
     "output_type": "error",
     "traceback": [
      "Error in eval(expr, envir, enclos): object 'fig3_recap' not found\n"
     ]
    }
   ],
   "source": [
    "bychannel_recap <- fig3_recap %>% \n",
    "    group_by(channel,Substrate,Experiment) %>% \n",
    "    summarise(orig = sum(orig), smooth = sum(smooth), lo = sum(lo), hi = sum(hi))"
   ]
  },
  {
   "cell_type": "code",
   "execution_count": 51,
   "metadata": {
    "collapsed": false
   },
   "outputs": [
    {
     "ename": "ERROR",
     "evalue": "Error in ggplot(data = bychannel_recap, aes(x = channel, y = smooth, fill = Experiment)): object 'bychannel_recap' not found\n",
     "output_type": "error",
     "traceback": [
      "Error in ggplot(data = bychannel_recap, aes(x = channel, y = smooth, fill = Experiment)): object 'bychannel_recap' not found\n"
     ]
    },
    {
     "ename": "ERROR",
     "evalue": "Error in eval(expr, envir, enclos): object 'integrated' not found\n",
     "output_type": "error",
     "traceback": [
      "Error in eval(expr, envir, enclos): object 'integrated' not found\n"
     ]
    },
    {
     "ename": "ERROR",
     "evalue": "Error in print(integrated): object 'integrated' not found\n",
     "output_type": "error",
     "traceback": [
      "Error in print(integrated): object 'integrated' not found\n"
     ]
    }
   ],
   "source": [
    "options(repr.plot.width = 7.5, repr.plot.height = 2)\n",
    "integrated <- ggplot(data = bychannel_recap, \n",
    "                     aes(x=channel, y= smooth,fill = Experiment)) + \n",
    "    geom_bar(stat = \"identity\",position = \"dodge\") +\n",
    "    xlab(\"Channel\") +\n",
    "    ylab(\"Integrated N.F.I\") +\n",
    "    facet_grid(. ~ Substrate,\n",
    "       labeller = labeller(Substrate =c(dg = 'D-Glucose/ATP',lg = 'L-Glucose/ATP', mannose = 'Mannose/ATP',\n",
    "                                       amppcp = \"D-Glucose/AMP-PCP\"))) +\n",
    "    theme_bw() +\n",
    "    theme(panel.border = element_rect(size = .8, colour = \"black\"),\n",
    "         axis.text.y = element_text(size=0),\n",
    "         legend.title=element_blank(),\n",
    "         strip.text = element_text(size = 9, vjust = -150),\n",
    "         strip.background = element_rect(fill = NA, size = NA),\n",
    "         panel.grid.major = element_line()) + \n",
    "    annotate(\"rect\", xmin = 0.5, xmax = 1.5, ymin = 0, ymax = +.0056, alpha = .2) +\n",
    "    annotate(\"rect\", xmin = 2.5, xmax = 3.5, ymin = 0, ymax = +.0056, alpha = .2) + \n",
    "    geom_bar(stat = \"identity\",position = \"dodge\") +\n",
    "    geom_errorbar(aes(ymin = lo,ymax = hi ),position = position_dodge(1), width = 0) +\n",
    "scale_fill_brewer(palette = 'Set1',labels = c(\"Control\",\"Substrate in\\ncentral channel\"))\n",
    "\n",
    "# data frame for annotation bar\n",
    "\n",
    "ann.data <- data.frame(Substrate = c(\"dg\",\"mannose\",\"lg\",\"amppcp\"), Experiment = c(\"substrate\",\"ctrl\"), \n",
    "                      ann.x = c(0.75, 0.75), ann.xend = c(1.25,1.25), ann.y = c(0.0033, 0.0037),\n",
    "                      ann.yend = c(0.0033,0.0037), ann.text = c(\"***\",\"***\",\" n.s.\",\" n.s.\"), \n",
    "                       ann.textoffset = c (0.0001,0.0001,0.0004,0.0004))\n",
    "\n",
    "ann.data <- ann.data[rep(seq_len(nrow(ann.data)), each = 1),]\n",
    "#ann.data$channel <- factor(c('left','center','right','left','center','right'), levels = c ('left','center','right'))\n",
    "ann.data$channel <- factor(c('left'))\n",
    "#order is DG l,c,r LG l,c,r\n",
    "ann.data$x.offset <- c(1,1,1,1)\n",
    "ann.data$y.offset <- c(0.0021,0.0012,0.0012,0.001)\n",
    "\n",
    "\n",
    "integrated <- integrated + \n",
    "    geom_segment(data = ann.data, size=.3,\n",
    "                 aes(x = ann.x+x.offset, y=ann.y+y.offset, xend=ann.xend+x.offset, yend=ann.yend+y.offset)) +\n",
    "    geom_segment(data = ann.data, size = .3,\n",
    "                 aes(x = ann.x+x.offset,xend=ann.x+x.offset,y=ann.y-0.0002+y.offset,yend=ann.y+y.offset)) +\n",
    "    geom_segment(data = ann.data, size =.3,\n",
    "                 aes(x = ann.xend+x.offset,xend=ann.xend+x.offset,y=ann.y-0.0002+y.offset,yend=ann.y+y.offset)) +\n",
    "    geom_text(data = ann.data, size= 3.5,\n",
    "              aes(x = ann.x+.25+x.offset, y = ann.y+ann.textoffset+y.offset,label = ann.text))\n",
    "                \n",
    "print(integrated)"
   ]
  },
  {
   "cell_type": "code",
   "execution_count": 52,
   "metadata": {
    "collapsed": false
   },
   "outputs": [
    {
     "data": {
      "text/html": [
       "<table>\n",
       "<thead><tr><th></th><th scope=col>Substrate</th><th scope=col>Experiment</th><th scope=col>ann.x</th><th scope=col>ann.xend</th><th scope=col>ann.y</th><th scope=col>ann.yend</th><th scope=col>ann.text</th><th scope=col>ann.textoffset</th><th scope=col>channel</th><th scope=col>x.offset</th><th scope=col>y.offset</th></tr></thead>\n",
       "<tbody>\n",
       "\t<tr><th scope=row>1</th><td>dg</td><td>substrate</td><td>0.75</td><td>1.25</td><td>0.0033</td><td>0.0033</td><td>***</td><td>1e-04</td><td>left</td><td>1</td><td>0.0021</td></tr>\n",
       "\t<tr><th scope=row>2</th><td>mannose</td><td>ctrl</td><td>0.75</td><td>1.25</td><td>0.0037</td><td>0.0037</td><td>***</td><td>1e-04</td><td>left</td><td>1</td><td>0.0012</td></tr>\n",
       "\t<tr><th scope=row>3</th><td>lg</td><td>substrate</td><td>0.75</td><td>1.25</td><td>0.0033</td><td>0.0033</td><td> n.s.</td><td>4e-04</td><td>left</td><td>1</td><td>0.0012</td></tr>\n",
       "\t<tr><th scope=row>4</th><td>amppcp</td><td>ctrl</td><td>0.75</td><td>1.25</td><td>0.0037</td><td>0.0037</td><td> n.s.</td><td>4e-04</td><td>left</td><td>1</td><td>0.001</td></tr>\n",
       "</tbody>\n",
       "</table>\n"
      ],
      "text/latex": [
       "\\begin{tabular}{r|lllllllllll}\n",
       "  & Substrate & Experiment & ann.x & ann.xend & ann.y & ann.yend & ann.text & ann.textoffset & channel & x.offset & y.offset\\\\\n",
       "\\hline\n",
       "\t1 & dg & substrate & 0.75 & 1.25 & 0.0033 & 0.0033 & *** & 1e-04 & left & 1 & 0.0021\\\\\n",
       "\t2 & mannose & ctrl & 0.75 & 1.25 & 0.0037 & 0.0037 & *** & 1e-04 & left & 1 & 0.0012\\\\\n",
       "\t3 & lg & substrate & 0.75 & 1.25 & 0.0033 & 0.0033 &  n.s. & 4e-04 & left & 1 & 0.0012\\\\\n",
       "\t4 & amppcp & ctrl & 0.75 & 1.25 & 0.0037 & 0.0037 &  n.s. & 4e-04 & left & 1 & 0.001\\\\\n",
       "\\end{tabular}\n"
      ],
      "text/plain": [
       "  Substrate Experiment ann.x ann.xend  ann.y ann.yend ann.text ann.textoffset\n",
       "1        dg  substrate  0.75     1.25 0.0033   0.0033      ***          1e-04\n",
       "2   mannose       ctrl  0.75     1.25 0.0037   0.0037      ***          1e-04\n",
       "3        lg  substrate  0.75     1.25 0.0033   0.0033     n.s.          4e-04\n",
       "4    amppcp       ctrl  0.75     1.25 0.0037   0.0037     n.s.          4e-04\n",
       "  channel x.offset y.offset\n",
       "1    left        1   0.0021\n",
       "2    left        1   0.0012\n",
       "3    left        1   0.0012\n",
       "4    left        1   0.0010"
      ]
     },
     "execution_count": 52,
     "metadata": {},
     "output_type": "execute_result"
    }
   ],
   "source": [
    "ann.data"
   ]
  },
  {
   "cell_type": "code",
   "execution_count": 53,
   "metadata": {
    "collapsed": false
   },
   "outputs": [
    {
     "ename": "ERROR",
     "evalue": "Error in filter_(.data, .dots = lazyeval::lazy_dots(...)): object 'fig3_recap' not found\n",
     "output_type": "error",
     "traceback": [
      "Error in filter_(.data, .dots = lazyeval::lazy_dots(...)): object 'fig3_recap' not found\n"
     ]
    },
    {
     "name": "stdout",
     "output_type": "stream",
     "text": [
      "function (length = 0L) \n",
      ".Internal(vector(\"raw\", length))\n",
      "<bytecode: 0x2071150>\n",
      "<environment: namespace:base>\n"
     ]
    }
   ],
   "source": [
    "options(repr.plot.width = 7.5, repr.plot.height = 2)\n",
    "\n",
    "raw <- ggplot(data = filter(fig3_recap),aes(x = distance-160,color = Experiment)) + \n",
    "    geom_point(aes(y = orig), size = 0.1) +\n",
    "    geom_line(aes(y = smooth)) +\n",
    "    ylab(\"N.F.I.\") +\n",
    "    xlab(expression(paste(\"Distance from center (\", mu, \"m)\", sep = \"\"))) +\n",
    "    facet_grid(. ~ Substrate,\n",
    "               labeller = labeller(Substrate =c(dg = 'D-Glucose/ATP',lg = 'L-Glucose/ATP', mannose = 'Mannose/ATP',\n",
    "                                       amppcp = \"D-Glucose/AMP-PCP\"))) +\n",
    "    theme_bw() +     \n",
    "    theme(panel.border = element_rect(size = 0.8, colour = \"black\"),\n",
    "        axis.text.y = element_text(size=0),\n",
    "        legend.title=element_blank(),\n",
    "         strip.text = element_text(size = 9, vjust = -150),\n",
    "         strip.background = element_rect(fill = NA, size = NA)) +\n",
    "    annotate(\"rect\", xmin = -160, xmax = -60, ymin = 0.00002, ymax = +.000092, alpha = .2) +\n",
    "    annotate(\"rect\", xmin = 60, xmax = 160, ymin = 0.00002, ymax = +.000092, alpha = .2) +\n",
    "scale_color_brewer(palette = 'Set1',labels = c(\"Control\",\"Substrate in\\ncentral channel\"))\n",
    "\n",
    "    \n",
    "print(raw)"
   ]
  },
  {
   "cell_type": "code",
   "execution_count": 54,
   "metadata": {
    "collapsed": false
   },
   "outputs": [
    {
     "ename": "ERROR",
     "evalue": "Error in plot_grid(raw, integrated, labels = c(\"A\", \"B\"), ncol = 1): object 'integrated' not found\n",
     "output_type": "error",
     "traceback": [
      "Error in plot_grid(raw, integrated, labels = c(\"A\", \"B\"), ncol = 1): object 'integrated' not found\n"
     ]
    }
   ],
   "source": [
    "options(repr.plot.width = 7.6, repr.plot.height = 4)\n",
    "\n",
    "plot_grid(raw,integrated, labels = c(\"A\",\"B\"),ncol = 1)"
   ]
  },
  {
   "cell_type": "code",
   "execution_count": 55,
   "metadata": {
    "collapsed": false
   },
   "outputs": [
    {
     "ename": "ERROR",
     "evalue": "Error in if (is.waive(data) || empty(data)) return(cbind(data, PANEL = integer(0))): missing value where TRUE/FALSE needed\n",
     "output_type": "error",
     "traceback": [
      "Error in if (is.waive(data) || empty(data)) return(cbind(data, PANEL = integer(0))): missing value where TRUE/FALSE needed\n"
     ]
    }
   ],
   "source": [
    "ggsave(\"../img/FocusingExperimentPlot_v3.png\",width = 7.6, height = 4)"
   ]
  },
  {
   "cell_type": "code",
   "execution_count": 56,
   "metadata": {
    "collapsed": false
   },
   "outputs": [
    {
     "ename": "ERROR",
     "evalue": "Error in filter_(.data, .dots = lazyeval::lazy_dots(...)): object 'bychannel_bs' not found\n",
     "output_type": "error",
     "traceback": [
      "Error in filter_(.data, .dots = lazyeval::lazy_dots(...)): object 'bychannel_bs' not found\n"
     ]
    },
    {
     "ename": "ERROR",
     "evalue": "Error in UseMethod(\"filter_\"): no applicable method for 'filter_' applied to an object of class \"function\"\n",
     "output_type": "error",
     "traceback": [
      "Error in UseMethod(\"filter_\"): no applicable method for 'filter_' applied to an object of class \"function\"\n"
     ]
    },
    {
     "ename": "ERROR",
     "evalue": "Error in UseMethod(\"filter_\"): no applicable method for 'filter_' applied to an object of class \"function\"\n",
     "output_type": "error",
     "traceback": [
      "Error in UseMethod(\"filter_\"): no applicable method for 'filter_' applied to an object of class \"function\"\n"
     ]
    }
   ],
   "source": [
    "subset <- filter(bychannel_bs,Substrate == \"dg\", channel == \"center\")\n",
    "control_LG <- filter(subset, Experiment == \"ctrl\")$concentration\n",
    "atp_LG <- filter(subset, Experiment == \"substrate\")$concentration"
   ]
  },
  {
   "cell_type": "code",
   "execution_count": 57,
   "metadata": {
    "collapsed": false
   },
   "outputs": [
    {
     "ename": "ERROR",
     "evalue": "Error in t.test(atp_LG, control_LG, alternative = \"greater\"): object 'atp_LG' not found\n",
     "output_type": "error",
     "traceback": [
      "Error in t.test(atp_LG, control_LG, alternative = \"greater\"): object 'atp_LG' not found\n"
     ]
    }
   ],
   "source": [
    "t.test(atp_LG,control_LG,alternative = 'greater')"
   ]
  },
  {
   "cell_type": "code",
   "execution_count": null,
   "metadata": {
    "collapsed": true
   },
   "outputs": [],
   "source": []
  }
 ],
 "metadata": {
  "kernelspec": {
   "display_name": "R",
   "language": "R",
   "name": "ir"
  },
  "language_info": {
   "codemirror_mode": "r",
   "file_extension": ".r",
   "mimetype": "text/x-r-source",
   "name": "R",
   "pygments_lexer": "r",
   "version": "3.2.2"
  }
 },
 "nbformat": 4,
 "nbformat_minor": 0
}
