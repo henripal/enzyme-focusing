{
 "cells": [
  {
   "cell_type": "markdown",
   "metadata": {},
   "source": [
    "# Focusing Data figure\n",
    "Temporarily called figure 3. Could change. We want to smooth and plot bars with confidence intervals for the data in xixi's new experiments\n"
   ]
  },
  {
   "cell_type": "code",
   "execution_count": 10,
   "metadata": {
    "collapsed": false
   },
   "outputs": [
    {
     "name": "stderr",
     "output_type": "stream",
     "text": [
      "\n",
      "Attaching package: ‘dplyr’\n",
      "\n",
      "The following objects are masked from ‘package:stats’:\n",
      "\n",
      "    filter, lag\n",
      "\n",
      "The following objects are masked from ‘package:base’:\n",
      "\n",
      "    intersect, setdiff, setequal, union\n",
      "\n",
      "\n",
      "Attaching package: ‘cowplot’\n",
      "\n",
      "The following object is masked from ‘package:ggplot2’:\n",
      "\n",
      "    ggsave\n",
      "\n",
      "\n",
      "Attaching package: ‘tidyr’\n",
      "\n",
      "The following object is masked from ‘package:magrittr’:\n",
      "\n",
      "    extract\n",
      "\n"
     ]
    }
   ],
   "source": [
    "library(dplyr)\n",
    "library(ggplot2)\n",
    "library(cowplot)\n",
    "library(magrittr)\n",
    "library(tidyr)\n",
    "library(broom)\n",
    "library(splines)"
   ]
  },
  {
   "cell_type": "code",
   "execution_count": null,
   "metadata": {
    "collapsed": false
   },
   "outputs": [],
   "source": [
    "focusing = read.csv(\"./rawdata/focusing2.csv\")\n",
    "focusing %<>% rename(Substrate = Experiment)"
   ]
  },
  {
   "cell_type": "code",
   "execution_count": null,
   "metadata": {
    "collapsed": false
   },
   "outputs": [],
   "source": [
    "focusing %<>% gather(Experiment,Concentration,Control, Add_ATP,Wait)\n",
    "focusing$channel[focusing$Distance <= 100] <- 'left'\n",
    "focusing$channel[focusing$Distance > 100 & focusing$Distance <= 220] <- 'center'\n",
    "focusing$channel[focusing$Distance > 220] <- 'right'"
   ]
  },
  {
   "cell_type": "code",
   "execution_count": null,
   "metadata": {
    "collapsed": true
   },
   "outputs": [],
   "source": [
    "m <- function(df,m) {\n",
    "    temp <- df %>%\n",
    "        bootstrap(m) %>%\n",
    "#          do(augment(glm(data = ., Concentration ~ ns(Distance, df = 6)),.))\n",
    "         do(augment(loess(data = ., Concentration ~ Distance, span =0.5),.))\n",
    "    temp\n",
    "}"
   ]
  },
  {
   "cell_type": "code",
   "execution_count": null,
   "metadata": {
    "collapsed": false
   },
   "outputs": [],
   "source": [
    "focusing_bs <- focusing %>%\n",
    "    group_by(Substrate, Experiment) %>%\n",
    "    do(m(.,25))"
   ]
  },
  {
   "cell_type": "markdown",
   "metadata": {},
   "source": [
    "Now we need to normalize each bootstrap sample integral to 1. We do this by sorting the distance then integrating concnetration with distances."
   ]
  },
  {
   "cell_type": "code",
   "execution_count": null,
   "metadata": {
    "collapsed": false
   },
   "outputs": [],
   "source": [
    "focusing_bs$channel <- 0\n",
    "focusing_bs$channel[focusing_bs$Distance <= 100] <- 'left'\n",
    "focusing_bs$channel[focusing_bs$Distance > 100 & focusing_bs$Distance <= 220] <- 'center'\n",
    "focusing_bs$channel[focusing_bs$Distance > 220] <- 'right'\n",
    "focusing_bs$channel <- factor(focusing_bs$channel, levels = c ('left','center','right'))"
   ]
  },
  {
   "cell_type": "code",
   "execution_count": null,
   "metadata": {
    "collapsed": false
   },
   "outputs": [],
   "source": [
    "focusing_bs %<>% group_by(replicate,Substrate,Experiment,channel) %>% arrange(Distance) %>%\n",
    "    mutate(concentration.channel.integral = t(diff(Distance)) %*% Concentration[1:(length(Concentration)-1)])\n",
    "focusing_bs %<>% group_by(replicate,Substrate,Experiment,channel) %>% arrange(Distance) %>%\n",
    "    mutate(.fitted.channel.integral = t(diff(Distance)) %*% .fitted[1:(length(.fitted)-1)])\n",
    "focusing_bs %<>% ungroup() %>% group_by(Substrate,Experiment,replicate) %>% \n",
    "    mutate(concentration.integral = sum(concentration.channel.integral))\n",
    "focusing_bs %<>% ungroup() %>% group_by(Substrate,Experiment,replicate) %>% \n",
    "    mutate(.fitted.integral = sum(.fitted.channel.integral))\n",
    "# focusing_bs %<>% ungroup() %>% group_by(Experiment,replicate,channel,Substrate) %>% \n",
    "#     mutate(concentration.normalized = sum(Integral)/mean(normalized))\n",
    "focusing_bs$concentration.normalized <- focusing_bs$Concentration / focusing_bs$concentration.integral\n",
    "focusing_bs$.fitted.normalized <- as.vector(focusing_bs$.fitted) / as.vector(focusing_bs$.fitted.integral)\n",
    "focusing_bs$.fitted.normalized.channel.integral <- as.vector(focusing_bs$.fitted.channel.integral) / as.vector(focusing_bs$.fitted.integral )\n",
    "glimpse(focusing_bs)"
   ]
  },
  {
   "cell_type": "code",
   "execution_count": null,
   "metadata": {
    "collapsed": false
   },
   "outputs": [],
   "source": [
    "alpha <- 0.05\n",
    "bs_recap <- focusing_bs %>%\n",
    "    group_by(Experiment, Substrate, Distance,channel) %>% \n",
    "    summarise(lo = quantile(.fitted.normalized,alpha/2), \n",
    "              hi = quantile(.fitted.normalized,1-alpha/2), \n",
    "              smooth = mean(.fitted.normalized), \n",
    "              orig = mean(concentration.normalized))\n",
    "focusing_bs %<>% group_by(Experiment, Substrate, Distance,channel) %>% \n",
    "    mutate(lo = quantile(.fitted.normalized,alpha/2), hi = quantile(.fitted.normalized,1-alpha/2))"
   ]
  },
  {
   "cell_type": "code",
   "execution_count": null,
   "metadata": {
    "collapsed": false
   },
   "outputs": [],
   "source": [
    "bychannel_bs <- focusing_bs %>% group_by(replicate,Substrate,Experiment,channel) %>% arrange(Distance) %>%\n",
    "    summarise(Integral = t(diff(Distance)) %*% Concentration[1:(length(Concentration)-1)])\n",
    "bychannel_bs %<>% ungroup() %>% group_by(Substrate,Experiment,replicate) %>% mutate(normalized = sum(Integral))\n",
    "bychannel_bs %<>% ungroup() %>% group_by(Experiment,replicate,channel,Substrate) %>% mutate(concentration = sum(Integral)/mean(normalized))\n",
    "check <- bychannel_bs %>% ungroup() %>% group_by(Substrate,Experiment,replicate) %>% summarise(sum = sum(concentration))\n",
    "head(check)"
   ]
  },
  {
   "cell_type": "code",
   "execution_count": null,
   "metadata": {
    "collapsed": true
   },
   "outputs": [],
   "source": [
    "bychannel_recap <- bs_recap %>% \n",
    "    group_by(channel,Substrate,Experiment) %>% \n",
    "    summarise(orig = sum(orig), smooth = sum(smooth), lo = sum(lo), hi = sum(hi))"
   ]
  },
  {
   "cell_type": "code",
   "execution_count": null,
   "metadata": {
    "collapsed": false
   },
   "outputs": [],
   "source": [
    "# glimpse(bychannel_recap)\n",
    "write.csv(filter(bychannel_recap, Experiment !=\"Wait\"),\"./bychannel_recap.csv\")"
   ]
  },
  {
   "cell_type": "code",
   "execution_count": null,
   "metadata": {
    "collapsed": false,
    "scrolled": false
   },
   "outputs": [],
   "source": [
    "options(repr.plot.width = 5, repr.plot.height = 2)\n",
    "integrated <- ggplot(data = filter(bychannel_recap, Experiment !=\"Wait\") , \n",
    "                     aes(x=channel, y= smooth,fill = Experiment)) + \n",
    "    geom_bar(stat = \"identity\",position = \"dodge\") +\n",
    "    xlab(\"Channel\") +\n",
    "    ylab(\"Integrated N.F.I\") +\n",
    "    facet_grid(. ~ Substrate,\n",
    "        labeller = labeller(Substrate =c(DG = 'D-Glucose',LG = 'L-Glucose'))) +\n",
    "    theme_bw() +\n",
    "    theme(panel.border = element_rect(size = .8, colour = \"black\"),\n",
    "         axis.text.y = element_text(size=0),\n",
    "         legend.title=element_blank(),\n",
    "         strip.text = element_text(size = 9, vjust = -150),\n",
    "         strip.background = element_rect(fill = NA, size = NA),\n",
    "         panel.grid.major = element_line()) + \n",
    "    annotate(\"rect\", xmin = 0.5, xmax = 1.5, ymin = 0, ymax = +.0055, alpha = .2) +\n",
    "    annotate(\"rect\", xmin = 2.5, xmax = 3.5, ymin = 0, ymax = +.0055, alpha = .2) + \n",
    "    geom_bar(stat = \"identity\",position = \"dodge\") +\n",
    "    geom_errorbar(aes(ymin = lo,ymax = hi ),position = position_dodge(1), width = 0) +\n",
    "scale_fill_brewer(palette = 'Set1',labels = c(\"Control\",\"ATP in\\ncentral channel\"))\n",
    "\n",
    "# data frame for annotation bar\n",
    "\n",
    "ann.data <- data.frame(Substrate = c(\"DG\",\"LG\"), Experiment = c(\"Control\",\"Add_ATP\"), \n",
    "                      ann.x = c(0.75, 0.75), ann.xend = c(1.25,1.25), ann.y = c(0.0033, 0.0037),\n",
    "                      ann.yend = c(0.0033,0.0037), ann.text = c(\"***\",\" n.s.\"), ann.textoffset = c (0.0001,0.0004))\n",
    "\n",
    "ann.data <- ann.data[rep(seq_len(nrow(ann.data)), each = 3),]\n",
    "ann.data$channel <- factor(c('left','center','right','left','center','right'), levels = c ('left','center','right'))\n",
    "#order is DG l,c,r LG l,c,r\n",
    "ann.data$x.offset <- c(0,1,2,0,1,2)\n",
    "ann.data$y.offset <- c(0,0.002,0,0,0.001,0)\n",
    "\n",
    "\n",
    "integrated <- integrated + \n",
    "    geom_segment(data = ann.data, size=.3,\n",
    "                 aes(x = ann.x+x.offset, y=ann.y+y.offset, xend=ann.xend+x.offset, yend=ann.yend+y.offset)) +\n",
    "    geom_segment(data = ann.data, size = .3,\n",
    "                 aes(x = ann.x+x.offset,xend=ann.x+x.offset,y=ann.y-0.0002+y.offset,yend=ann.y+y.offset)) +\n",
    "    geom_segment(data = ann.data, size =.3,\n",
    "                 aes(x = ann.xend+x.offset,xend=ann.xend+x.offset,y=ann.y-0.0002+y.offset,yend=ann.y+y.offset)) +\n",
    "    geom_text(data = ann.data, size= 3.5,\n",
    "              aes(x = ann.x+.25+x.offset, y = ann.y+ann.textoffset+y.offset,label = ann.text))\n",
    "                \n",
    "print(integrated)"
   ]
  },
  {
   "cell_type": "code",
   "execution_count": null,
   "metadata": {
    "collapsed": false
   },
   "outputs": [],
   "source": [
    "options(repr.plot.width = 5, repr.plot.height = 2)\n",
    "\n",
    "raw <- ggplot(data = filter(bs_recap, Experiment != \"Wait\"),aes(x = Distance-160,color = Experiment)) + \n",
    "    geom_point(aes(y = orig), size = 0.1) +\n",
    "    geom_line(aes(y = smooth)) +\n",
    "    ylab(\"N.F.I.\") +\n",
    "    xlab(expression(paste(\"Distance from center (\", mu, \"m)\", sep = \"\"))) +\n",
    "    facet_grid(. ~ Substrate,\n",
    "               labeller = labeller(Substrate =c(DG = 'D-Glucose',LG = 'L-Glucose'))) +\n",
    "    theme_bw() +     \n",
    "    theme(panel.border = element_rect(size = 0.8, colour = \"black\"),\n",
    "        axis.text.y = element_text(size=0),\n",
    "        legend.title=element_blank(),\n",
    "         strip.text = element_text(size = 9, vjust = -150),\n",
    "         strip.background = element_rect(fill = NA, size = NA)) +\n",
    "    annotate(\"rect\", xmin = -160, xmax = -60, ymin = 0.0000, ymax = +.000091, alpha = .2) +\n",
    "    annotate(\"rect\", xmin = 60, xmax = 160, ymin = 0.00000, ymax = +.000091, alpha = .2) +\n",
    "scale_color_brewer(palette = 'Set1',labels = c(\"Control\",\"ATP in\\ncentral channel\"))\n",
    "\n",
    "    \n",
    "print(raw)"
   ]
  },
  {
   "cell_type": "code",
   "execution_count": null,
   "metadata": {
    "collapsed": false
   },
   "outputs": [],
   "source": [
    "options(repr.plot.width = 5, repr.plot.height = 4)\n",
    "\n",
    "plot_grid(raw,integrated, labels = c(\"A\",\"B\"),ncol = 1)"
   ]
  },
  {
   "cell_type": "code",
   "execution_count": null,
   "metadata": {
    "collapsed": false
   },
   "outputs": [],
   "source": [
    "ggsave(\"./img/FocusingExperimentPlot.png\",width = 5, height = 4)"
   ]
  },
  {
   "cell_type": "code",
   "execution_count": null,
   "metadata": {
    "collapsed": false
   },
   "outputs": [],
   "source": [
    "subset <- filter(bychannel_bs,Substrate == \"LG\", channel == \"left\")\n",
    "pairwise.t.test(x = subset$concentration, g =subset$Experiment)"
   ]
  },
  {
   "cell_type": "code",
   "execution_count": null,
   "metadata": {
    "collapsed": false
   },
   "outputs": [],
   "source": [
    "subset <- filter(bychannel_bs,Substrate == \"DG\", channel == \"left\")\n",
    "pairwise.t.test(x = subset$concentration, g =subset$Experiment)"
   ]
  },
  {
   "cell_type": "code",
   "execution_count": null,
   "metadata": {
    "collapsed": false
   },
   "outputs": [],
   "source": [
    "my.anova <- aov(formula = concentration.integral*10000 ~ Experiment, data = subset)"
   ]
  },
  {
   "cell_type": "code",
   "execution_count": null,
   "metadata": {
    "collapsed": false
   },
   "outputs": [],
   "source": [
    "summary(my.anova)"
   ]
  },
  {
   "cell_type": "code",
   "execution_count": null,
   "metadata": {
    "collapsed": false
   },
   "outputs": [],
   "source": [
    "pairwise.t.test(x = subset$concentration.integral, g =subset$Experiment)"
   ]
  },
  {
   "cell_type": "code",
   "execution_count": null,
   "metadata": {
    "collapsed": false
   },
   "outputs": [],
   "source": [
    "ggplot(data = subset, aes(x = Experiment, y=concentration)) + geom_boxplot()"
   ]
  },
  {
   "cell_type": "code",
   "execution_count": null,
   "metadata": {
    "collapsed": false
   },
   "outputs": [],
   "source": [
    "subset <- filter(bychannel_bs,Substrate == \"LG\", channel == \"left\")\n",
    "control_LG <- filter(subset, Experiment == \"Control\")$concentration\n",
    "atp_LG <- filter(subset, Experiment == \"Add_ATP\")$concentration"
   ]
  },
  {
   "cell_type": "code",
   "execution_count": null,
   "metadata": {
    "collapsed": false
   },
   "outputs": [],
   "source": [
    "mean(control_LG)"
   ]
  },
  {
   "cell_type": "code",
   "execution_count": null,
   "metadata": {
    "collapsed": false
   },
   "outputs": [],
   "source": [
    "mean(atp_LG)"
   ]
  },
  {
   "cell_type": "code",
   "execution_count": null,
   "metadata": {
    "collapsed": false
   },
   "outputs": [],
   "source": [
    "sd_ctrl_LG <- sd(control_LG)\n",
    "sd_atp_LG <- sd(atp_LG)"
   ]
  },
  {
   "cell_type": "code",
   "execution_count": null,
   "metadata": {
    "collapsed": false
   },
   "outputs": [],
   "source": [
    "sd_atp_LG"
   ]
  },
  {
   "cell_type": "code",
   "execution_count": null,
   "metadata": {
    "collapsed": false
   },
   "outputs": [],
   "source": [
    "sd_ctrl_LG"
   ]
  },
  {
   "cell_type": "code",
   "execution_count": null,
   "metadata": {
    "collapsed": true
   },
   "outputs": [],
   "source": [
    "t <- (mean(control_LG)-mean(atp_LG)) / sqrt(var(control_LG)/25+var(atp_LG)/25)"
   ]
  },
  {
   "cell_type": "code",
   "execution_count": null,
   "metadata": {
    "collapsed": false
   },
   "outputs": [],
   "source": [
    "t"
   ]
  },
  {
   "cell_type": "code",
   "execution_count": null,
   "metadata": {
    "collapsed": false
   },
   "outputs": [],
   "source": [
    "t.test(control_LG,atp_LG)"
   ]
  },
  {
   "cell_type": "markdown",
   "metadata": {
    "collapsed": true
   },
   "source": [
    "# Figure 3, August 15 2016\n",
    "Redoing figure 3 with xixi's new data for focusing for Mannose, and using AMPCPP. Also, just received the triplicate data for the glucose experiment, so should account for this as well. Since the format is different than before i am going to copy the data anaysis part from RoleOfCatalysisPlot-v4."
   ]
  },
  {
   "cell_type": "code",
   "execution_count": 73,
   "metadata": {
    "collapsed": true
   },
   "outputs": [],
   "source": [
    "fig3<- read.csv(\"../newdata/alldata_081516.csv\")"
   ]
  },
  {
   "cell_type": "code",
   "execution_count": 74,
   "metadata": {
    "collapsed": true
   },
   "outputs": [],
   "source": [
    "n<-dim(fig3)[1]\n",
    "fig3<-fig3[1:(n-1),]"
   ]
  },
  {
   "cell_type": "code",
   "execution_count": 75,
   "metadata": {
    "collapsed": false
   },
   "outputs": [
    {
     "data": {
      "text/html": [
       "<table>\n",
       "<thead><tr><th></th><th scope=col>distance</th><th scope=col>dg</th><th scope=col>dg.ctrl</th><th scope=col>amppcp</th><th scope=col>amppcp.ctrl</th><th scope=col>mannose.ctrl</th><th scope=col>mannose</th><th scope=col>lg.ctrl</th><th scope=col>lg</th></tr></thead>\n",
       "<tbody>\n",
       "\t<tr><th scope=row>161</th><td>302.1419</td><td>33.7738</td><td>43.3214</td><td>114.667</td><td>129.333</td><td>161.333</td><td>137.5</td><td>37</td><td>44</td></tr>\n",
       "\t<tr><th scope=row>162</th><td>304.0303</td><td>31.6875</td><td>41.6875</td><td>108.667</td><td>131.667</td><td>160.5</td><td>136</td><td>39.6667</td><td>40.6667</td></tr>\n",
       "\t<tr><th scope=row>163</th><td>305.9187</td><td>31</td><td>37.9286</td><td>108.333</td><td>131</td><td>153.667</td><td>135.333</td><td>40</td><td>41.3333</td></tr>\n",
       "\t<tr><th scope=row>164</th><td>307.8071</td><td>30.2351</td><td>37</td><td>107</td><td>131.333</td><td>142</td><td>137.5</td><td>39</td><td>41</td></tr>\n",
       "\t<tr><th scope=row>165</th><td>309.6955</td><td>29.2381</td><td>37</td><td>111.333</td><td>130</td><td>138</td><td>128.667</td><td>38.6667</td><td>40.3333</td></tr>\n",
       "\t<tr><th scope=row>166</th><td>311.5839</td><td>26.7232</td><td>38.5179</td><td>108</td><td>133</td><td>134.5</td><td>132.167</td><td>36.3333</td><td>37</td></tr>\n",
       "</tbody>\n",
       "</table>\n"
      ],
      "text/latex": [
       "\\begin{tabular}{r|lllllllll}\n",
       "  & distance & dg & dg.ctrl & amppcp & amppcp.ctrl & mannose.ctrl & mannose & lg.ctrl & lg\\\\\n",
       "\\hline\n",
       "\t161 & 302.1419 & 33.7738 & 43.3214 & 114.667 & 129.333 & 161.333 & 137.5 & 37 & 44\\\\\n",
       "\t162 & 304.0303 & 31.6875 & 41.6875 & 108.667 & 131.667 & 160.5 & 136 & 39.6667 & 40.6667\\\\\n",
       "\t163 & 305.9187 & 31 & 37.9286 & 108.333 & 131 & 153.667 & 135.333 & 40 & 41.3333\\\\\n",
       "\t164 & 307.8071 & 30.2351 & 37 & 107 & 131.333 & 142 & 137.5 & 39 & 41\\\\\n",
       "\t165 & 309.6955 & 29.2381 & 37 & 111.333 & 130 & 138 & 128.667 & 38.6667 & 40.3333\\\\\n",
       "\t166 & 311.5839 & 26.7232 & 38.5179 & 108 & 133 & 134.5 & 132.167 & 36.3333 & 37\\\\\n",
       "\\end{tabular}\n"
      ],
      "text/plain": [
       "    distance      dg dg.ctrl  amppcp amppcp.ctrl mannose.ctrl mannose lg.ctrl\n",
       "161 302.1419 33.7738 43.3214 114.667     129.333      161.333 137.500 37.0000\n",
       "162 304.0303 31.6875 41.6875 108.667     131.667      160.500 136.000 39.6667\n",
       "163 305.9187 31.0000 37.9286 108.333     131.000      153.667 135.333 40.0000\n",
       "164 307.8071 30.2351 37.0000 107.000     131.333      142.000 137.500 39.0000\n",
       "165 309.6955 29.2381 37.0000 111.333     130.000      138.000 128.667 38.6667\n",
       "166 311.5839 26.7232 38.5179 108.000     133.000      134.500 132.167 36.3333\n",
       "         lg\n",
       "161 44.0000\n",
       "162 40.6667\n",
       "163 41.3333\n",
       "164 41.0000\n",
       "165 40.3333\n",
       "166 37.0000"
      ]
     },
     "execution_count": 75,
     "metadata": {},
     "output_type": "execute_result"
    }
   ],
   "source": [
    "tail(fig3)"
   ]
  },
  {
   "cell_type": "code",
   "execution_count": 76,
   "metadata": {
    "collapsed": false
   },
   "outputs": [],
   "source": [
    "fig3 <- gather(fig3,\"Experiment\",\"Concentration\",dg:lg)"
   ]
  },
  {
   "cell_type": "code",
   "execution_count": 77,
   "metadata": {
    "collapsed": false
   },
   "outputs": [
    {
     "data": {
      "text/html": [
       "<table>\n",
       "<thead><tr><th></th><th scope=col>distance</th><th scope=col>Experiment</th><th scope=col>Concentration</th></tr></thead>\n",
       "<tbody>\n",
       "\t<tr><th scope=row>1</th><td>0</td><td>dg</td><td>31.25</td></tr>\n",
       "\t<tr><th scope=row>2</th><td>1.8884</td><td>dg</td><td>32.247</td></tr>\n",
       "\t<tr><th scope=row>3</th><td>3.7768</td><td>dg</td><td>33</td></tr>\n",
       "\t<tr><th scope=row>4</th><td>5.6652</td><td>dg</td><td>33.4821</td></tr>\n",
       "\t<tr><th scope=row>5</th><td>7.5535</td><td>dg</td><td>35.2381</td></tr>\n",
       "\t<tr><th scope=row>6</th><td>9.4419</td><td>dg</td><td>36</td></tr>\n",
       "</tbody>\n",
       "</table>\n"
      ],
      "text/latex": [
       "\\begin{tabular}{r|lll}\n",
       "  & distance & Experiment & Concentration\\\\\n",
       "\\hline\n",
       "\t1 & 0 & dg & 31.25\\\\\n",
       "\t2 & 1.8884 & dg & 32.247\\\\\n",
       "\t3 & 3.7768 & dg & 33\\\\\n",
       "\t4 & 5.6652 & dg & 33.4821\\\\\n",
       "\t5 & 7.5535 & dg & 35.2381\\\\\n",
       "\t6 & 9.4419 & dg & 36\\\\\n",
       "\\end{tabular}\n"
      ],
      "text/plain": [
       "  distance Experiment Concentration\n",
       "1   0.0000         dg       31.2500\n",
       "2   1.8884         dg       32.2470\n",
       "3   3.7768         dg       33.0000\n",
       "4   5.6652         dg       33.4821\n",
       "5   7.5535         dg       35.2381\n",
       "6   9.4419         dg       36.0000"
      ]
     },
     "execution_count": 77,
     "metadata": {},
     "output_type": "execute_result"
    }
   ],
   "source": [
    "head(fig3)"
   ]
  },
  {
   "cell_type": "code",
   "execution_count": 78,
   "metadata": {
    "collapsed": true
   },
   "outputs": [],
   "source": [
    " normalit<-function(m){\n",
    "   (m - min(m))*100/sum(m-min(m))\n",
    " }"
   ]
  },
  {
   "cell_type": "code",
   "execution_count": 79,
   "metadata": {
    "collapsed": false
   },
   "outputs": [],
   "source": [
    "library(stringr)"
   ]
  },
  {
   "cell_type": "code",
   "execution_count": 80,
   "metadata": {
    "collapsed": false
   },
   "outputs": [],
   "source": [
    "fig3 %<>% group_by(Experiment) %>% mutate(Concentration.norm = normalit(Concentration))"
   ]
  },
  {
   "cell_type": "code",
   "execution_count": 81,
   "metadata": {
    "collapsed": false
   },
   "outputs": [],
   "source": [
    "fig3$Substrate = NA\n",
    "fig3$Substrate <- str_extract(fig3$Experiment, \"[a-z]+\")\n",
    "fig3$Experiment <- str_match(fig3$Experiment, \"[.]([a-z]+)\")[,2]\n",
    "fig3$Experiment[is.na(fig3$Experiment)] = \"substrate\""
   ]
  },
  {
   "cell_type": "code",
   "execution_count": 82,
   "metadata": {
    "collapsed": false
   },
   "outputs": [
    {
     "data": {
      "text/html": [
       "<table>\n",
       "<thead><tr><th></th><th scope=col>distance</th><th scope=col>Experiment</th><th scope=col>Concentration</th><th scope=col>Concentration.norm</th><th scope=col>Substrate</th></tr></thead>\n",
       "<tbody>\n",
       "\t<tr><th scope=row>1</th><td>62.3168</td><td>ctrl</td><td>46.5446</td><td>0.5145322</td><td>dg</td></tr>\n",
       "\t<tr><th scope=row>2</th><td>64.2052</td><td>ctrl</td><td>44</td><td>0.424514</td><td>dg</td></tr>\n",
       "\t<tr><th scope=row>3</th><td>66.0936</td><td>ctrl</td><td>44.2917</td><td>0.4348332</td><td>dg</td></tr>\n",
       "\t<tr><th scope=row>4</th><td>67.9819</td><td>ctrl</td><td>46.1429</td><td>0.5003216</td><td>dg</td></tr>\n",
       "\t<tr><th scope=row>5</th><td>69.8703</td><td>ctrl</td><td>47.4196</td><td>0.5454864</td><td>dg</td></tr>\n",
       "\t<tr><th scope=row>6</th><td>71.7587</td><td>ctrl</td><td>49.7262</td><td>0.627085</td><td>dg</td></tr>\n",
       "\t<tr><th scope=row>7</th><td>73.6471</td><td>ctrl</td><td>47.7321</td><td>0.5565414</td><td>dg</td></tr>\n",
       "\t<tr><th scope=row>8</th><td>75.5355</td><td>ctrl</td><td>46.131</td><td>0.4999006</td><td>dg</td></tr>\n",
       "\t<tr><th scope=row>9</th><td>77.4239</td><td>ctrl</td><td>46.872</td><td>0.5261144</td><td>dg</td></tr>\n",
       "\t<tr><th scope=row>10</th><td>79.3123</td><td>ctrl</td><td>46</td><td>0.4952664</td><td>dg</td></tr>\n",
       "\t<tr><th scope=row>11</th><td>81.2006</td><td>ctrl</td><td>46.122</td><td>0.4995822</td><td>dg</td></tr>\n",
       "</tbody>\n",
       "</table>\n"
      ],
      "text/latex": [
       "\\begin{tabular}{r|lllll}\n",
       "  & distance & Experiment & Concentration & Concentration.norm & Substrate\\\\\n",
       "\\hline\n",
       "\t1 & 62.3168 & ctrl & 46.5446 & 0.5145322 & dg\\\\\n",
       "\t2 & 64.2052 & ctrl & 44 & 0.424514 & dg\\\\\n",
       "\t3 & 66.0936 & ctrl & 44.2917 & 0.4348332 & dg\\\\\n",
       "\t4 & 67.9819 & ctrl & 46.1429 & 0.5003216 & dg\\\\\n",
       "\t5 & 69.8703 & ctrl & 47.4196 & 0.5454864 & dg\\\\\n",
       "\t6 & 71.7587 & ctrl & 49.7262 & 0.627085 & dg\\\\\n",
       "\t7 & 73.6471 & ctrl & 47.7321 & 0.5565414 & dg\\\\\n",
       "\t8 & 75.5355 & ctrl & 46.131 & 0.4999006 & dg\\\\\n",
       "\t9 & 77.4239 & ctrl & 46.872 & 0.5261144 & dg\\\\\n",
       "\t10 & 79.3123 & ctrl & 46 & 0.4952664 & dg\\\\\n",
       "\t11 & 81.2006 & ctrl & 46.122 & 0.4995822 & dg\\\\\n",
       "\\end{tabular}\n"
      ],
      "text/plain": [
       "Source: local data frame [11 x 5]\n",
       "Groups: Experiment [1]\n",
       "\n",
       "   distance Experiment Concentration Concentration.norm Substrate\n",
       "      (dbl)      (chr)         (dbl)              (dbl)     (chr)\n",
       "1   62.3168       ctrl       46.5446          0.5145322        dg\n",
       "2   64.2052       ctrl       44.0000          0.4245140        dg\n",
       "3   66.0936       ctrl       44.2917          0.4348332        dg\n",
       "4   67.9819       ctrl       46.1429          0.5003216        dg\n",
       "5   69.8703       ctrl       47.4196          0.5454864        dg\n",
       "6   71.7587       ctrl       49.7262          0.6270850        dg\n",
       "7   73.6471       ctrl       47.7321          0.5565414        dg\n",
       "8   75.5355       ctrl       46.1310          0.4999006        dg\n",
       "9   77.4239       ctrl       46.8720          0.5261144        dg\n",
       "10  79.3123       ctrl       46.0000          0.4952664        dg\n",
       "11  81.2006       ctrl       46.1220          0.4995822        dg"
      ]
     },
     "execution_count": 82,
     "metadata": {},
     "output_type": "execute_result"
    }
   ],
   "source": [
    "fig3[200:210,]"
   ]
  },
  {
   "cell_type": "code",
   "execution_count": 83,
   "metadata": {
    "collapsed": false
   },
   "outputs": [],
   "source": [
    "fig3$channel <- NA\n",
    "fig3$channel[fig3$distance <= 100] <- 'left'\n",
    "fig3$channel[fig3$distance > 100 & fig3$distance <= 220] <- 'center'\n",
    "fig3$channel[fig3$distance > 220] <- 'right'\n",
    "fig3$channel <- factor(fig3$channel, levels = c ('left','center','right'))"
   ]
  },
  {
   "cell_type": "code",
   "execution_count": 84,
   "metadata": {
    "collapsed": false
   },
   "outputs": [
    {
     "data": {
      "text/html": [
       "<table>\n",
       "<thead><tr><th></th><th scope=col>Substrate</th><th scope=col>Experiment</th><th scope=col>channel</th><th scope=col>summm</th></tr></thead>\n",
       "<tbody>\n",
       "\t<tr><th scope=row>1</th><td>amppcp</td><td>ctrl</td><td>left</td><td>27.27005</td></tr>\n",
       "\t<tr><th scope=row>2</th><td>amppcp</td><td>ctrl</td><td>center</td><td>48.18036</td></tr>\n",
       "\t<tr><th scope=row>3</th><td>amppcp</td><td>ctrl</td><td>right</td><td>24.5496</td></tr>\n",
       "\t<tr><th scope=row>4</th><td>amppcp</td><td>substrate</td><td>left</td><td>27.57251</td></tr>\n",
       "\t<tr><th scope=row>5</th><td>amppcp</td><td>substrate</td><td>center</td><td>48.94681</td></tr>\n",
       "\t<tr><th scope=row>6</th><td>amppcp</td><td>substrate</td><td>right</td><td>23.48068</td></tr>\n",
       "\t<tr><th scope=row>7</th><td>dg</td><td>ctrl</td><td>left</td><td>23.41418</td></tr>\n",
       "\t<tr><th scope=row>8</th><td>dg</td><td>ctrl</td><td>center</td><td>54.16364</td></tr>\n",
       "\t<tr><th scope=row>9</th><td>dg</td><td>ctrl</td><td>right</td><td>22.42218</td></tr>\n",
       "\t<tr><th scope=row>10</th><td>dg</td><td>substrate</td><td>left</td><td>18.449</td></tr>\n",
       "\t<tr><th scope=row>11</th><td>dg</td><td>substrate</td><td>center</td><td>64.54012</td></tr>\n",
       "\t<tr><th scope=row>12</th><td>dg</td><td>substrate</td><td>right</td><td>17.01088</td></tr>\n",
       "\t<tr><th scope=row>13</th><td>lg</td><td>ctrl</td><td>left</td><td>31.7246</td></tr>\n",
       "\t<tr><th scope=row>14</th><td>lg</td><td>ctrl</td><td>center</td><td>47.212</td></tr>\n",
       "\t<tr><th scope=row>15</th><td>lg</td><td>ctrl</td><td>right</td><td>21.0634</td></tr>\n",
       "\t<tr><th scope=row>16</th><td>lg</td><td>substrate</td><td>left</td><td>32.77145</td></tr>\n",
       "\t<tr><th scope=row>17</th><td>lg</td><td>substrate</td><td>center</td><td>43.71253</td></tr>\n",
       "\t<tr><th scope=row>18</th><td>lg</td><td>substrate</td><td>right</td><td>23.51602</td></tr>\n",
       "\t<tr><th scope=row>19</th><td>mannose</td><td>ctrl</td><td>left</td><td>32.26565</td></tr>\n",
       "\t<tr><th scope=row>20</th><td>mannose</td><td>ctrl</td><td>center</td><td>45.92208</td></tr>\n",
       "\t<tr><th scope=row>21</th><td>mannose</td><td>ctrl</td><td>right</td><td>21.81227</td></tr>\n",
       "\t<tr><th scope=row>22</th><td>mannose</td><td>substrate</td><td>left</td><td>22.39179</td></tr>\n",
       "\t<tr><th scope=row>23</th><td>mannose</td><td>substrate</td><td>center</td><td>56.29355</td></tr>\n",
       "\t<tr><th scope=row>24</th><td>mannose</td><td>substrate</td><td>right</td><td>21.31467</td></tr>\n",
       "</tbody>\n",
       "</table>\n"
      ],
      "text/latex": [
       "\\begin{tabular}{r|llll}\n",
       "  & Substrate & Experiment & channel & summm\\\\\n",
       "\\hline\n",
       "\t1 & amppcp & ctrl & left & 27.27005\\\\\n",
       "\t2 & amppcp & ctrl & center & 48.18036\\\\\n",
       "\t3 & amppcp & ctrl & right & 24.5496\\\\\n",
       "\t4 & amppcp & substrate & left & 27.57251\\\\\n",
       "\t5 & amppcp & substrate & center & 48.94681\\\\\n",
       "\t6 & amppcp & substrate & right & 23.48068\\\\\n",
       "\t7 & dg & ctrl & left & 23.41418\\\\\n",
       "\t8 & dg & ctrl & center & 54.16364\\\\\n",
       "\t9 & dg & ctrl & right & 22.42218\\\\\n",
       "\t10 & dg & substrate & left & 18.449\\\\\n",
       "\t11 & dg & substrate & center & 64.54012\\\\\n",
       "\t12 & dg & substrate & right & 17.01088\\\\\n",
       "\t13 & lg & ctrl & left & 31.7246\\\\\n",
       "\t14 & lg & ctrl & center & 47.212\\\\\n",
       "\t15 & lg & ctrl & right & 21.0634\\\\\n",
       "\t16 & lg & substrate & left & 32.77145\\\\\n",
       "\t17 & lg & substrate & center & 43.71253\\\\\n",
       "\t18 & lg & substrate & right & 23.51602\\\\\n",
       "\t19 & mannose & ctrl & left & 32.26565\\\\\n",
       "\t20 & mannose & ctrl & center & 45.92208\\\\\n",
       "\t21 & mannose & ctrl & right & 21.81227\\\\\n",
       "\t22 & mannose & substrate & left & 22.39179\\\\\n",
       "\t23 & mannose & substrate & center & 56.29355\\\\\n",
       "\t24 & mannose & substrate & right & 21.31467\\\\\n",
       "\\end{tabular}\n"
      ],
      "text/plain": [
       "Source: local data frame [24 x 4]\n",
       "Groups: Substrate, Experiment [?]\n",
       "\n",
       "   Substrate Experiment channel    summm\n",
       "       (chr)      (chr)  (fctr)    (dbl)\n",
       "1     amppcp       ctrl    left 27.27005\n",
       "2     amppcp       ctrl  center 48.18036\n",
       "3     amppcp       ctrl   right 24.54960\n",
       "4     amppcp  substrate    left 27.57251\n",
       "5     amppcp  substrate  center 48.94681\n",
       "6     amppcp  substrate   right 23.48068\n",
       "7         dg       ctrl    left 23.41418\n",
       "8         dg       ctrl  center 54.16364\n",
       "9         dg       ctrl   right 22.42218\n",
       "10        dg  substrate    left 18.44900\n",
       "..       ...        ...     ...      ..."
      ]
     },
     "execution_count": 84,
     "metadata": {},
     "output_type": "execute_result"
    }
   ],
   "source": [
    "fig3 %>% group_by(Substrate,Experiment,channel) %>% summarise(summm = sum(Concentration.norm))"
   ]
  },
  {
   "cell_type": "code",
   "execution_count": 85,
   "metadata": {
    "collapsed": false
   },
   "outputs": [],
   "source": [
    "\n",
    "fig3$Substrate <- factor(fig3$Substrate, levels = c ('dg','mannose','lg','amppcp'))"
   ]
  },
  {
   "cell_type": "code",
   "execution_count": 86,
   "metadata": {
    "collapsed": true
   },
   "outputs": [],
   "source": [
    "m <- function(df,m) {\n",
    "    temp <- df %>%\n",
    "        bootstrap(m) %>%\n",
    "#          do(augment(glm(data = ., Concentration ~ ns(Distance, df = 6)),.))\n",
    "         do(augment(loess(data = ., Concentration.norm ~ distance, span =0.5),.))\n",
    "    temp\n",
    "}"
   ]
  },
  {
   "cell_type": "code",
   "execution_count": 87,
   "metadata": {
    "collapsed": false
   },
   "outputs": [],
   "source": [
    "fig3_bs <- fig3 %>%\n",
    "    group_by(Substrate,Experiment) %>%\n",
    "    do(m(.,200))"
   ]
  },
  {
   "cell_type": "code",
   "execution_count": 88,
   "metadata": {
    "collapsed": false
   },
   "outputs": [
    {
     "name": "stdout",
     "output_type": "stream",
     "text": [
      "Observations: 265,600\n",
      "Variables: 10\n",
      "$ replicate          (int) 1, 1, 1, 1, 1, 1, 1, 1, 1, 1, 1, 1, 1, 1, 1, 1, ...\n",
      "$ distance           (dbl) 311.5839, 58.5400, 22.6606, 166.1781, 49.0981, 1...\n",
      "$ Experiment         (chr) \"ctrl\", \"ctrl\", \"ctrl\", \"ctrl\", \"ctrl\", \"ctrl\", ...\n",
      "$ Concentration      (dbl) 38.5179, 44.8423, 44.6429, 60.9881, 44.8274, 56....\n",
      "$ Concentration.norm (dbl) 0.2305783, 0.4543114, 0.4472574, 1.0254879, 0.45...\n",
      "$ Substrate          (fctr) dg, dg, dg, dg, dg, dg, dg, dg, dg, dg, dg, dg,...\n",
      "$ channel            (fctr) right, left, left, center, left, center, right,...\n",
      "$ .fitted            (dbl) 0.2867285, 0.5006318, 0.3163255, 0.9532744, 0.45...\n",
      "$ .se.fit            (dbl) 0.03075871, 0.01653530, 0.01598002, 0.01669227, ...\n",
      "$ .resid             (dbl) -0.0561502008, -0.0463204733, 0.1309318139, 0.07...\n"
     ]
    }
   ],
   "source": [
    "glimpse(fig3_bs)"
   ]
  },
  {
   "cell_type": "code",
   "execution_count": 89,
   "metadata": {
    "collapsed": false
   },
   "outputs": [
    {
     "name": "stdout",
     "output_type": "stream",
     "text": [
      "Observations: 265,600\n",
      "Variables: 11\n",
      "$ replicate          (int) 1, 1, 1, 1, 1, 1, 1, 1, 1, 1, 1, 1, 1, 1, 1, 1, ...\n",
      "$ distance           (dbl) 311.5839, 58.5400, 22.6606, 166.1781, 49.0981, 1...\n",
      "$ Experiment         (chr) \"ctrl\", \"ctrl\", \"ctrl\", \"ctrl\", \"ctrl\", \"ctrl\", ...\n",
      "$ Concentration      (dbl) 38.5179, 44.8423, 44.6429, 60.9881, 44.8274, 56....\n",
      "$ Concentration.norm (dbl) 0.2305783, 0.4543114, 0.4472574, 1.0254879, 0.45...\n",
      "$ Substrate          (fctr) dg, dg, dg, dg, dg, dg, dg, dg, dg, dg, dg, dg,...\n",
      "$ channel            (fctr) right, left, left, center, left, center, right,...\n",
      "$ .fitted            (dbl) 0.2867285, 0.5006318, 0.3163255, 0.9532744, 0.45...\n",
      "$ .se.fit            (dbl) 0.03075871, 0.01653530, 0.01598002, 0.01669227, ...\n",
      "$ .resid             (dbl) -0.0561502008, -0.0463204733, 0.1309318139, 0.07...\n",
      "$ .fitted.norm       (dbl) 0.2867285, 0.5006318, 0.3163255, 0.9532744, 0.45...\n"
     ]
    }
   ],
   "source": [
    "fig3_bs %<>% group_by(replicate,Substrate,Experiment) %>% \n",
    "    mutate(Concentration.norm = (Concentration.norm),\n",
    "          .fitted.norm = (.fitted))\n",
    "\n",
    "glimpse(fig3_bs)"
   ]
  },
  {
   "cell_type": "code",
   "execution_count": null,
   "metadata": {
    "collapsed": true
   },
   "outputs": [],
   "source": []
  },
  {
   "cell_type": "code",
   "execution_count": 90,
   "metadata": {
    "collapsed": false
   },
   "outputs": [
    {
     "data": {
      "text/html": [
       "<table>\n",
       "<thead><tr><th></th><th scope=col>Experiment</th><th scope=col>Substrate</th><th scope=col>channel</th><th scope=col>meh</th></tr></thead>\n",
       "<tbody>\n",
       "\t<tr><th scope=row>1</th><td>ctrl</td><td>dg</td><td>left</td><td>0.4446933</td></tr>\n",
       "\t<tr><th scope=row>2</th><td>ctrl</td><td>dg</td><td>center</td><td>0.8450761</td></tr>\n",
       "\t<tr><th scope=row>3</th><td>ctrl</td><td>dg</td><td>right</td><td>0.4594449</td></tr>\n",
       "\t<tr><th scope=row>4</th><td>ctrl</td><td>mannose</td><td>left</td><td>0.6099929</td></tr>\n",
       "\t<tr><th scope=row>5</th><td>ctrl</td><td>mannose</td><td>center</td><td>0.7170909</td></tr>\n",
       "\t<tr><th scope=row>6</th><td>ctrl</td><td>mannose</td><td>right</td><td>0.4442666</td></tr>\n",
       "\t<tr><th scope=row>7</th><td>ctrl</td><td>lg</td><td>left</td><td>0.5983608</td></tr>\n",
       "\t<tr><th scope=row>8</th><td>ctrl</td><td>lg</td><td>center</td><td>0.7383497</td></tr>\n",
       "\t<tr><th scope=row>9</th><td>ctrl</td><td>lg</td><td>right</td><td>0.432306</td></tr>\n",
       "\t<tr><th scope=row>10</th><td>ctrl</td><td>amppcp</td><td>left</td><td>0.5142821</td></tr>\n",
       "\t<tr><th scope=row>11</th><td>ctrl</td><td>amppcp</td><td>center</td><td>0.7523727</td></tr>\n",
       "\t<tr><th scope=row>12</th><td>ctrl</td><td>amppcp</td><td>right</td><td>0.4993162</td></tr>\n",
       "\t<tr><th scope=row>13</th><td>substrate</td><td>dg</td><td>left</td><td>0.3488129</td></tr>\n",
       "\t<tr><th scope=row>14</th><td>substrate</td><td>dg</td><td>center</td><td>1.008956</td></tr>\n",
       "\t<tr><th scope=row>15</th><td>substrate</td><td>dg</td><td>right</td><td>0.3473101</td></tr>\n",
       "\t<tr><th scope=row>16</th><td>substrate</td><td>mannose</td><td>left</td><td>0.4206343</td></tr>\n",
       "\t<tr><th scope=row>17</th><td>substrate</td><td>mannose</td><td>center</td><td>0.8788486</td></tr>\n",
       "\t<tr><th scope=row>18</th><td>substrate</td><td>mannose</td><td>right</td><td>0.4406921</td></tr>\n",
       "\t<tr><th scope=row>19</th><td>substrate</td><td>lg</td><td>left</td><td>0.6187224</td></tr>\n",
       "\t<tr><th scope=row>20</th><td>substrate</td><td>lg</td><td>center</td><td>0.6809466</td></tr>\n",
       "\t<tr><th scope=row>21</th><td>substrate</td><td>lg</td><td>right</td><td>0.4794009</td></tr>\n",
       "\t<tr><th scope=row>22</th><td>substrate</td><td>amppcp</td><td>left</td><td>0.5202957</td></tr>\n",
       "\t<tr><th scope=row>23</th><td>substrate</td><td>amppcp</td><td>center</td><td>0.7645286</td></tr>\n",
       "\t<tr><th scope=row>24</th><td>substrate</td><td>amppcp</td><td>right</td><td>0.4788042</td></tr>\n",
       "</tbody>\n",
       "</table>\n"
      ],
      "text/latex": [
       "\\begin{tabular}{r|llll}\n",
       "  & Experiment & Substrate & channel & meh\\\\\n",
       "\\hline\n",
       "\t1 & ctrl & dg & left & 0.4446933\\\\\n",
       "\t2 & ctrl & dg & center & 0.8450761\\\\\n",
       "\t3 & ctrl & dg & right & 0.4594449\\\\\n",
       "\t4 & ctrl & mannose & left & 0.6099929\\\\\n",
       "\t5 & ctrl & mannose & center & 0.7170909\\\\\n",
       "\t6 & ctrl & mannose & right & 0.4442666\\\\\n",
       "\t7 & ctrl & lg & left & 0.5983608\\\\\n",
       "\t8 & ctrl & lg & center & 0.7383497\\\\\n",
       "\t9 & ctrl & lg & right & 0.432306\\\\\n",
       "\t10 & ctrl & amppcp & left & 0.5142821\\\\\n",
       "\t11 & ctrl & amppcp & center & 0.7523727\\\\\n",
       "\t12 & ctrl & amppcp & right & 0.4993162\\\\\n",
       "\t13 & substrate & dg & left & 0.3488129\\\\\n",
       "\t14 & substrate & dg & center & 1.008956\\\\\n",
       "\t15 & substrate & dg & right & 0.3473101\\\\\n",
       "\t16 & substrate & mannose & left & 0.4206343\\\\\n",
       "\t17 & substrate & mannose & center & 0.8788486\\\\\n",
       "\t18 & substrate & mannose & right & 0.4406921\\\\\n",
       "\t19 & substrate & lg & left & 0.6187224\\\\\n",
       "\t20 & substrate & lg & center & 0.6809466\\\\\n",
       "\t21 & substrate & lg & right & 0.4794009\\\\\n",
       "\t22 & substrate & amppcp & left & 0.5202957\\\\\n",
       "\t23 & substrate & amppcp & center & 0.7645286\\\\\n",
       "\t24 & substrate & amppcp & right & 0.4788042\\\\\n",
       "\\end{tabular}\n"
      ],
      "text/plain": [
       "Source: local data frame [24 x 4]\n",
       "Groups: Experiment, Substrate [?]\n",
       "\n",
       "   Experiment Substrate channel       meh\n",
       "        (chr)    (fctr)  (fctr)     (dbl)\n",
       "1        ctrl        dg    left 0.4446933\n",
       "2        ctrl        dg  center 0.8450761\n",
       "3        ctrl        dg   right 0.4594449\n",
       "4        ctrl   mannose    left 0.6099929\n",
       "5        ctrl   mannose  center 0.7170909\n",
       "6        ctrl   mannose   right 0.4442666\n",
       "7        ctrl        lg    left 0.5983608\n",
       "8        ctrl        lg  center 0.7383497\n",
       "9        ctrl        lg   right 0.4323060\n",
       "10       ctrl    amppcp    left 0.5142821\n",
       "..        ...       ...     ...       ..."
      ]
     },
     "execution_count": 90,
     "metadata": {},
     "output_type": "execute_result"
    }
   ],
   "source": [
    "fig3_bs %>% group_by(Experiment,Substrate,channel) %>% summarise(meh = mean(Concentration.norm))"
   ]
  },
  {
   "cell_type": "code",
   "execution_count": 91,
   "metadata": {
    "collapsed": false
   },
   "outputs": [],
   "source": [
    "alpha <- 0.05\n",
    "fig3_recap <- fig3_bs %>%\n",
    "    group_by(Experiment, Substrate, distance,channel) %>% \n",
    "    summarise(lo = quantile(.fitted.norm,alpha/2), \n",
    "              hi = quantile(.fitted.norm,1-alpha/2), \n",
    "              smooth = mean(.fitted.norm), \n",
    "              orig = mean(Concentration.norm))\n",
    "fig3_bs %<>% group_by(Experiment, Substrate, distance,channel) %>% \n",
    "    mutate(lo = quantile(.fitted.norm,alpha/2), hi = quantile(.fitted.norm,1-alpha/2))"
   ]
  },
  {
   "cell_type": "code",
   "execution_count": null,
   "metadata": {
    "collapsed": true
   },
   "outputs": [],
   "source": []
  },
  {
   "cell_type": "code",
   "execution_count": 92,
   "metadata": {
    "collapsed": false
   },
   "outputs": [],
   "source": [
    "bychannel_recap <- fig3_recap %>% \n",
    "    group_by(channel,Substrate,Experiment) %>% \n",
    "    summarise(orig = sum(orig), smooth = sum(smooth), lo = sum(lo), hi = sum(hi))"
   ]
  },
  {
   "cell_type": "code",
   "execution_count": 105,
   "metadata": {
    "collapsed": false
   },
   "outputs": [],
   "source": [
    "a <- bychannel_recap %>% filter(channel == 'center', Experiment == 'ctrl', Substrate == 'dg')\n",
    "scale <- 100/a$smooth"
   ]
  },
  {
   "cell_type": "code",
   "execution_count": 106,
   "metadata": {
    "collapsed": true
   },
   "outputs": [],
   "source": [
    "bychannel_recap <- bychannel_recap %>% mutate(orig = orig*scale, smooth = smooth*scale, lo = lo*scale,\n",
    "                                              hi = hi*scale)"
   ]
  },
  {
   "cell_type": "code",
   "execution_count": 170,
   "metadata": {
    "collapsed": false,
    "scrolled": true
   },
   "outputs": [
    {
     "data": {
      "image/png": "[encoded data removed]",
      "text/plain": [
       "plot without title"
      ]
     },
     "metadata": {
      "image/svg+xml": {
       "isolated": true
      }
     },
     "output_type": "display_data"
    }
   ],
   "source": [
    "options(repr.plot.width = 7.5, repr.plot.height = 2)\n",
    "integrated <- ggplot(data = bychannel_recap, \n",
    "                     aes(x=channel, y= smooth,fill = Experiment)) + \n",
    "    geom_bar(stat = \"identity\",position = \"dodge\") +\n",
    "    xlab(\"Channel\") +\n",
    "    ylab(\"Integrated N.F.I\") +\n",
    "    facet_grid(. ~ Substrate,\n",
    "       labeller = labeller(Substrate =c(dg = 'D-Glucose/ATP',lg = 'L-Glucose/ATP', mannose = 'Mannose/ATP',\n",
    "                                       amppcp = \"D-Glucose/AMP-PCP\"))) +\n",
    "    theme_bw() +\n",
    "    theme(panel.border = element_rect(size = .8, colour = \"black\"),\n",
    "         axis.text.y = element_text(size=8),\n",
    "         legend.title=element_blank(),\n",
    "         strip.text = element_text(size = 9, vjust = -150),\n",
    "         strip.background = element_rect(fill = NA, size = NA),\n",
    "         panel.grid.major = element_line()) + \n",
    "  annotate(\"rect\", xmin = 0.5, xmax = 1.5, ymin = 0, ymax = 150, alpha = .2) +\n",
    "   annotate(\"rect\", xmin = 2.5, xmax = 3.5, ymin = 0, ymax = 150, alpha = .2) + \n",
    "    geom_bar(stat = \"identity\",position = \"dodge\") +\n",
    "    geom_errorbar(aes(ymin = lo,ymax = hi ),position = position_dodge(1), width = 0) +\n",
    "scale_fill_brewer(palette = 'Set1',labels = c(\"Control\",\"Substrate in\\ncentral channel\")) +\n",
    "coord_cartesian(ylim=c(25,131))\n",
    "\n",
    "# data frame for annotation bar\n",
    "\n",
    "ann.data <- data.frame(Substrate = c(\"dg\",\"mannose\",\"lg\",\"amppcp\"), Experiment = c(\"substrate\",\"ctrl\"), \n",
    "                      ann.x = c(0.75, 0.75), ann.xend = c(1.25,1.25), ann.y = c(0.0033, 0.0037),\n",
    "                      ann.yend = c(0.0033,0.0037), ann.text = c(\"***\",\"***\",\" n.s.\",\" n.s.\"), \n",
    "                       ann.textoffset = c (2,2,9,9))\n",
    "\n",
    "ann.data <- ann.data[rep(seq_len(nrow(ann.data)), each = 1),]\n",
    "#ann.data$channel <- factor(c('left','center','right','left','center','right'), levels = c ('left','center','right'))\n",
    "ann.data$channel <- factor(c('left'))\n",
    "#order is DG l,c,r LG l,c,r\n",
    "ann.data$x.offset <- c(1,1,1,1)\n",
    "ann.data$y.offset <- c(127,113,97,97)\n",
    "\n",
    "\n",
    "integrated <- integrated + \n",
    "    geom_segment(data = ann.data, size=.3,\n",
    "                 aes(x = ann.x+x.offset, y=ann.y+y.offset, xend=ann.xend+x.offset, yend=ann.yend+y.offset)) +\n",
    "    geom_segment(data = ann.data, size = .3,\n",
    "                 aes(x = ann.x+x.offset,xend=ann.x+x.offset,y=ann.y-3+y.offset,yend=ann.y+y.offset)) +\n",
    "    geom_segment(data = ann.data, size =.3,\n",
    "                 aes(x = ann.xend+x.offset,xend=ann.xend+x.offset,y=ann.y-3+y.offset,yend=ann.y+y.offset)) +\n",
    "    geom_text(data = ann.data, size= 3.5,\n",
    "              aes(x = ann.x+.25+x.offset, y = ann.y+ann.textoffset+y.offset,label = ann.text))\n",
    "                \n",
    "print(integrated)"
   ]
  },
  {
   "cell_type": "code",
   "execution_count": 171,
   "metadata": {
    "collapsed": false
   },
   "outputs": [
    {
     "data": {
      "text/html": [
       "<table>\n",
       "<thead><tr><th></th><th scope=col>Substrate</th><th scope=col>Experiment</th><th scope=col>ann.x</th><th scope=col>ann.xend</th><th scope=col>ann.y</th><th scope=col>ann.yend</th><th scope=col>ann.text</th><th scope=col>ann.textoffset</th><th scope=col>channel</th><th scope=col>x.offset</th><th scope=col>y.offset</th></tr></thead>\n",
       "<tbody>\n",
       "\t<tr><th scope=row>1</th><td>dg</td><td>substrate</td><td>0.75</td><td>1.25</td><td>0.0033</td><td>0.0033</td><td>***</td><td>2</td><td>left</td><td>1</td><td>127</td></tr>\n",
       "\t<tr><th scope=row>2</th><td>mannose</td><td>ctrl</td><td>0.75</td><td>1.25</td><td>0.0037</td><td>0.0037</td><td>***</td><td>2</td><td>left</td><td>1</td><td>113</td></tr>\n",
       "\t<tr><th scope=row>3</th><td>lg</td><td>substrate</td><td>0.75</td><td>1.25</td><td>0.0033</td><td>0.0033</td><td> n.s.</td><td>9</td><td>left</td><td>1</td><td>97</td></tr>\n",
       "\t<tr><th scope=row>4</th><td>amppcp</td><td>ctrl</td><td>0.75</td><td>1.25</td><td>0.0037</td><td>0.0037</td><td> n.s.</td><td>9</td><td>left</td><td>1</td><td>97</td></tr>\n",
       "</tbody>\n",
       "</table>\n"
      ],
      "text/latex": [
       "\\begin{tabular}{r|lllllllllll}\n",
       "  & Substrate & Experiment & ann.x & ann.xend & ann.y & ann.yend & ann.text & ann.textoffset & channel & x.offset & y.offset\\\\\n",
       "\\hline\n",
       "\t1 & dg & substrate & 0.75 & 1.25 & 0.0033 & 0.0033 & *** & 2 & left & 1 & 127\\\\\n",
       "\t2 & mannose & ctrl & 0.75 & 1.25 & 0.0037 & 0.0037 & *** & 2 & left & 1 & 113\\\\\n",
       "\t3 & lg & substrate & 0.75 & 1.25 & 0.0033 & 0.0033 &  n.s. & 9 & left & 1 & 97\\\\\n",
       "\t4 & amppcp & ctrl & 0.75 & 1.25 & 0.0037 & 0.0037 &  n.s. & 9 & left & 1 & 97\\\\\n",
       "\\end{tabular}\n"
      ],
      "text/plain": [
       "  Substrate Experiment ann.x ann.xend  ann.y ann.yend ann.text ann.textoffset\n",
       "1        dg  substrate  0.75     1.25 0.0033   0.0033      ***              2\n",
       "2   mannose       ctrl  0.75     1.25 0.0037   0.0037      ***              2\n",
       "3        lg  substrate  0.75     1.25 0.0033   0.0033     n.s.              9\n",
       "4    amppcp       ctrl  0.75     1.25 0.0037   0.0037     n.s.              9\n",
       "  channel x.offset y.offset\n",
       "1    left        1      127\n",
       "2    left        1      113\n",
       "3    left        1       97\n",
       "4    left        1       97"
      ]
     },
     "execution_count": 171,
     "metadata": {},
     "output_type": "execute_result"
    }
   ],
   "source": [
    "ann.data"
   ]
  },
  {
   "cell_type": "code",
   "execution_count": 172,
   "metadata": {
    "collapsed": false
   },
   "outputs": [
    {
     "data": {
      "image/png": "[encoded data removed]",
      "text/plain": [
       "plot without title"
      ]
     },
     "metadata": {
      "image/svg+xml": {
       "isolated": true
      }
     },
     "output_type": "display_data"
    }
   ],
   "source": [
    "options(repr.plot.width = 7.5, repr.plot.height = 2)\n",
    "\n",
    "raw <- ggplot(data = filter(fig3_recap),aes(x = distance-160,color = Experiment)) + \n",
    "    geom_point(aes(y = orig), size = 0.1) +\n",
    "    geom_line(aes(y = smooth)) +\n",
    "    ylab(\"N.F.I.\") +\n",
    "    xlab(expression(paste(\"Distance from center (\", mu, \"m)\", sep = \"\"))) +\n",
    "    facet_grid(. ~ Substrate,\n",
    "               labeller = labeller(Substrate =c(dg = 'D-Glucose/ATP',lg = 'L-Glucose/ATP', mannose = 'Mannose/ATP',\n",
    "                                       amppcp = \"D-Glucose/AMP-PCP\"))) +\n",
    "    theme_bw() +     \n",
    "    theme(panel.border = element_rect(size = 0.8, colour = \"black\"),\n",
    "        axis.text.y = element_text(size=8),\n",
    "        legend.title=element_blank(),\n",
    "         strip.text = element_text(size = 9, vjust = -150),\n",
    "         strip.background = element_rect(fill = NA, size = NA)) +\n",
    "    annotate(\"rect\", xmin = -160, xmax = -60, ymin = 0.00002, ymax = +.000092, alpha = .2) +\n",
    "    annotate(\"rect\", xmin = 60, xmax = 160, ymin = 0.00002, ymax = +.000092, alpha = .2) +\n",
    "scale_color_brewer(palette = 'Set1',labels = c(\"Control\",\"Substrate in\\ncentral channel\")) +\n",
    "coord_cartesian(ylim=c(0,1.5))\n",
    "\n",
    "    \n",
    "print(raw)"
   ]
  },
  {
   "cell_type": "code",
   "execution_count": 173,
   "metadata": {
    "collapsed": false,
    "scrolled": true
   },
   "outputs": [
    {
     "data": {
      "image/png": "[encoded data removed]",
      "text/plain": [
       "plot without title"
      ]
     },
     "metadata": {
      "image/svg+xml": {
       "isolated": true
      }
     },
     "output_type": "display_data"
    }
   ],
   "source": [
    "options(repr.plot.width = 7.6, repr.plot.height = 4)\n",
    "\n",
    "plot_grid(raw,integrated, labels = c(\"A\",\"B\"),ncol = 1)"
   ]
  },
  {
   "cell_type": "code",
   "execution_count": 174,
   "metadata": {
    "collapsed": false
   },
   "outputs": [],
   "source": [
    "ggsave(\"../img/FocusingExperimentPlot_v4.png\",width = 7.6, height = 4)"
   ]
  },
  {
   "cell_type": "code",
   "execution_count": null,
   "metadata": {
    "collapsed": true
   },
   "outputs": [],
   "source": [
    "subset <- filter(bychannel_bs,Substrate == \"dg\", channel == \"center\")\n",
    "control_LG <- filter(subset, Experiment == \"ctrl\")$concentration\n",
    "atp_LG <- filter(subset, Experiment == \"substrate\")$concentration"
   ]
  },
  {
   "cell_type": "code",
   "execution_count": null,
   "metadata": {
    "collapsed": false
   },
   "outputs": [],
   "source": [
    "t.test(atp_LG,control_LG,alternative = 'greater')"
   ]
  },
  {
   "cell_type": "code",
   "execution_count": null,
   "metadata": {
    "collapsed": false
   },
   "outputs": [],
   "source": [
    "head(bychannel_recap)"
   ]
  },
  {
   "cell_type": "code",
   "execution_count": null,
   "metadata": {
    "collapsed": false
   },
   "outputs": [],
   "source": [
    "write.csv(bychannel_recap,\"../newdata/bychannel_recap3.csv\",quote=FALSE,sep=\";\")"
   ]
  },
  {
   "cell_type": "code",
   "execution_count": null,
   "metadata": {
    "collapsed": false
   },
   "outputs": [],
   "source": [
    "as.matrix(bychannel_recap[-1])"
   ]
  },
  {
   "cell_type": "code",
   "execution_count": 96,
   "metadata": {
    "collapsed": false
   },
   "outputs": [
    {
     "data": {
      "text/html": [
       "\n",
       "<table width=\"100%\" summary=\"page for summarise_each {dplyr}\"><tr><td>summarise_each {dplyr}</td><td style=\"text-align: right;\">R Documentation</td></tr></table>\n",
       "\n",
       "<h2>Summarise and mutate multiple columns.</h2>\n",
       "\n",
       "<h3>Description</h3>\n",
       "\n",
       "<p>Apply one or more functions to one or more columns. Grouping variables\n",
       "are always excluded from modification.\n",
       "</p>\n",
       "\n",
       "\n",
       "<h3>Usage</h3>\n",
       "\n",
       "<pre>\n",
       "summarise_each(tbl, funs, ...)\n",
       "\n",
       "summarise_each_(tbl, funs, vars)\n",
       "\n",
       "summarize_each(tbl, funs, ...)\n",
       "\n",
       "summarize_each_(tbl, funs, vars)\n",
       "\n",
       "mutate_each(tbl, funs, ...)\n",
       "\n",
       "mutate_each_(tbl, funs, vars)\n",
       "</pre>\n",
       "\n",
       "\n",
       "<h3>Arguments</h3>\n",
       "\n",
       "<table summary=\"R argblock\">\n",
       "<tr valign=\"top\"><td><code>tbl</code></td>\n",
       "<td>\n",
       "<p>a tbl</p>\n",
       "</td></tr>\n",
       "<tr valign=\"top\"><td><code>funs</code></td>\n",
       "<td>\n",
       "<p>List of function calls, generated by <code>funs</code>, or\n",
       "a character vector of function names.</p>\n",
       "</td></tr>\n",
       "<tr valign=\"top\"><td><code>vars,...</code></td>\n",
       "<td>\n",
       "<p>Variables to include/exclude in mutate/summarise.\n",
       "You can use same specifications as in <code>select</code>. If missing,\n",
       "defaults to all non-grouping variables.\n",
       "</p>\n",
       "<p>For standard evaluation versions (ending in <code>_</code>) these can\n",
       "be either a list of expressions or a character vector.</p>\n",
       "</td></tr>\n",
       "</table>\n",
       "\n",
       "\n",
       "<h3>Examples</h3>\n",
       "\n",
       "<pre>\n",
       "# One function\n",
       "by_species &lt;- iris %&gt;% group_by(Species)\n",
       "by_species %&gt;% summarise_each(funs(length))\n",
       "by_species %&gt;% summarise_each(funs(mean))\n",
       "by_species %&gt;% summarise_each(funs(mean), Petal.Width)\n",
       "by_species %&gt;% summarise_each(funs(mean), matches(\"Width\"))\n",
       "\n",
       "by_species %&gt;% mutate_each(funs(half = . / 2))\n",
       "by_species %&gt;% mutate_each(funs(min_rank))\n",
       "\n",
       "# Two functions\n",
       "by_species %&gt;% summarise_each(funs(min, max))\n",
       "by_species %&gt;% summarise_each(funs(min, max), Petal.Width, Sepal.Width)\n",
       "by_species %&gt;% summarise_each(funs(min, max), matches(\"Width\"))\n",
       "\n",
       "# Alternative function specification\n",
       "iris %&gt;% summarise_each(funs(ul = length(unique(.))))\n",
       "by_species %&gt;% summarise_each(funs(ul = length(unique(.))))\n",
       "\n",
       "by_species %&gt;% summarise_each(c(\"min\", \"max\"))\n",
       "\n",
       "# Alternative variable specification\n",
       "summarise_each_(iris, funs(max), names(iris)[-5])\n",
       "summarise_each_(iris, funs(max), list(quote(-Species)))\n",
       "</pre>\n",
       "\n",
       "<hr /><div style=\"text-align: center;\">[Package <em>dplyr</em> version 0.4.3 ]</div>"
      ],
      "text/latex": [
       "\\inputencoding{utf8}\n",
       "\\HeaderA{summarise\\_each}{Summarise and mutate multiple columns.}{summarise.Rul.each}\n",
       "\\aliasA{mutate\\_each}{summarise\\_each}{mutate.Rul.each}\n",
       "\\aliasA{mutate\\_each\\_}{summarise\\_each}{mutate.Rul.each.Rul.}\n",
       "\\aliasA{mutate\\_each\\_q}{summarise\\_each}{mutate.Rul.each.Rul.q}\n",
       "\\aliasA{summarise\\_each\\_}{summarise\\_each}{summarise.Rul.each.Rul.}\n",
       "\\aliasA{summarise\\_each\\_q}{summarise\\_each}{summarise.Rul.each.Rul.q}\n",
       "\\aliasA{summarize\\_each}{summarise\\_each}{summarize.Rul.each}\n",
       "\\aliasA{summarize\\_each\\_}{summarise\\_each}{summarize.Rul.each.Rul.}\n",
       "%\n",
       "\\begin{Description}\\relax\n",
       "Apply one or more functions to one or more columns. Grouping variables\n",
       "are always excluded from modification.\n",
       "\\end{Description}\n",
       "%\n",
       "\\begin{Usage}\n",
       "\\begin{verbatim}\n",
       "summarise_each(tbl, funs, ...)\n",
       "\n",
       "summarise_each_(tbl, funs, vars)\n",
       "\n",
       "summarize_each(tbl, funs, ...)\n",
       "\n",
       "summarize_each_(tbl, funs, vars)\n",
       "\n",
       "mutate_each(tbl, funs, ...)\n",
       "\n",
       "mutate_each_(tbl, funs, vars)\n",
       "\\end{verbatim}\n",
       "\\end{Usage}\n",
       "%\n",
       "\\begin{Arguments}\n",
       "\\begin{ldescription}\n",
       "\\item[\\code{tbl}] a tbl\n",
       "\n",
       "\\item[\\code{funs}] List of function calls, generated by \\code{\\LinkA{funs}{funs}}, or\n",
       "a character vector of function names.\n",
       "\n",
       "\\item[\\code{vars,...}] Variables to include/exclude in mutate/summarise.\n",
       "You can use same specifications as in \\code{\\LinkA{select}{select}}. If missing,\n",
       "defaults to all non-grouping variables.\n",
       "\n",
       "For standard evaluation versions (ending in \\code{\\_}) these can\n",
       "be either a list of expressions or a character vector.\n",
       "\\end{ldescription}\n",
       "\\end{Arguments}\n",
       "%\n",
       "\\begin{Examples}\n",
       "\\begin{ExampleCode}\n",
       "# One function\n",
       "by_species <- iris %>% group_by(Species)\n",
       "by_species %>% summarise_each(funs(length))\n",
       "by_species %>% summarise_each(funs(mean))\n",
       "by_species %>% summarise_each(funs(mean), Petal.Width)\n",
       "by_species %>% summarise_each(funs(mean), matches(\"Width\"))\n",
       "\n",
       "by_species %>% mutate_each(funs(half = . / 2))\n",
       "by_species %>% mutate_each(funs(min_rank))\n",
       "\n",
       "# Two functions\n",
       "by_species %>% summarise_each(funs(min, max))\n",
       "by_species %>% summarise_each(funs(min, max), Petal.Width, Sepal.Width)\n",
       "by_species %>% summarise_each(funs(min, max), matches(\"Width\"))\n",
       "\n",
       "# Alternative function specification\n",
       "iris %>% summarise_each(funs(ul = length(unique(.))))\n",
       "by_species %>% summarise_each(funs(ul = length(unique(.))))\n",
       "\n",
       "by_species %>% summarise_each(c(\"min\", \"max\"))\n",
       "\n",
       "# Alternative variable specification\n",
       "summarise_each_(iris, funs(max), names(iris)[-5])\n",
       "summarise_each_(iris, funs(max), list(quote(-Species)))\n",
       "\\end{ExampleCode}\n",
       "\\end{Examples}"
      ],
      "text/plain": [
       "summarise_each              package:dplyr              R Documentation\n",
       "\n",
       "_\bS_\bu_\bm_\bm_\ba_\br_\bi_\bs_\be _\ba_\bn_\bd _\bm_\bu_\bt_\ba_\bt_\be _\bm_\bu_\bl_\bt_\bi_\bp_\bl_\be _\bc_\bo_\bl_\bu_\bm_\bn_\bs.\n",
       "\n",
       "_\bD_\be_\bs_\bc_\br_\bi_\bp_\bt_\bi_\bo_\bn:\n",
       "\n",
       "     Apply one or more functions to one or more columns. Grouping\n",
       "     variables are always excluded from modification.\n",
       "\n",
       "_\bU_\bs_\ba_\bg_\be:\n",
       "\n",
       "     summarise_each(tbl, funs, ...)\n",
       "     \n",
       "     summarise_each_(tbl, funs, vars)\n",
       "     \n",
       "     summarize_each(tbl, funs, ...)\n",
       "     \n",
       "     summarize_each_(tbl, funs, vars)\n",
       "     \n",
       "     mutate_each(tbl, funs, ...)\n",
       "     \n",
       "     mutate_each_(tbl, funs, vars)\n",
       "     \n",
       "_\bA_\br_\bg_\bu_\bm_\be_\bn_\bt_\bs:\n",
       "\n",
       "     tbl: a tbl\n",
       "\n",
       "    funs: List of function calls, generated by ‘funs’, or a character\n",
       "          vector of function names.\n",
       "\n",
       "vars,...: Variables to include/exclude in mutate/summarise.  You can\n",
       "          use same specifications as in ‘select’. If missing, defaults\n",
       "          to all non-grouping variables.\n",
       "\n",
       "          For standard evaluation versions (ending in ‘_’) these can be\n",
       "          either a list of expressions or a character vector.\n",
       "\n",
       "_\bE_\bx_\ba_\bm_\bp_\bl_\be_\bs:\n",
       "\n",
       "     # One function\n",
       "     by_species <- iris %>% group_by(Species)\n",
       "     by_species %>% summarise_each(funs(length))\n",
       "     by_species %>% summarise_each(funs(mean))\n",
       "     by_species %>% summarise_each(funs(mean), Petal.Width)\n",
       "     by_species %>% summarise_each(funs(mean), matches(\"Width\"))\n",
       "     \n",
       "     by_species %>% mutate_each(funs(half = . / 2))\n",
       "     by_species %>% mutate_each(funs(min_rank))\n",
       "     \n",
       "     # Two functions\n",
       "     by_species %>% summarise_each(funs(min, max))\n",
       "     by_species %>% summarise_each(funs(min, max), Petal.Width, Sepal.Width)\n",
       "     by_species %>% summarise_each(funs(min, max), matches(\"Width\"))\n",
       "     \n",
       "     # Alternative function specification\n",
       "     iris %>% summarise_each(funs(ul = length(unique(.))))\n",
       "     by_species %>% summarise_each(funs(ul = length(unique(.))))\n",
       "     \n",
       "     by_species %>% summarise_each(c(\"min\", \"max\"))\n",
       "     \n",
       "     # Alternative variable specification\n",
       "     summarise_each_(iris, funs(max), names(iris)[-5])\n",
       "     summarise_each_(iris, funs(max), list(quote(-Species)))\n",
       "     "
      ]
     },
     "execution_count": 96,
     "metadata": {},
     "output_type": "execute_result"
    }
   ],
   "source": [
    "?mutate_each"
   ]
  },
  {
   "cell_type": "code",
   "execution_count": 167,
   "metadata": {
    "collapsed": false
   },
   "outputs": [
    {
     "data": {
      "text/html": [
       "<table>\n",
       "<thead><tr><th></th><th scope=col>channel</th><th scope=col>Substrate</th><th scope=col>Experiment</th><th scope=col>orig</th><th scope=col>smooth</th><th scope=col>lo</th><th scope=col>hi</th></tr></thead>\n",
       "<tbody>\n",
       "\t<tr><th scope=row>1</th><td>left</td><td>dg</td><td>ctrl</td><td>43.20716</td><td>42.97923</td><td>39.72115</td><td>46.59823</td></tr>\n",
       "\t<tr><th scope=row>2</th><td>left</td><td>dg</td><td>substrate</td><td>34.0447</td><td>34.37444</td><td>32.64989</td><td>36.35473</td></tr>\n",
       "\t<tr><th scope=row>3</th><td>left</td><td>mannose</td><td>ctrl</td><td>59.54114</td><td>59.24108</td><td>55.89352</td><td>62.09263</td></tr>\n",
       "\t<tr><th scope=row>4</th><td>left</td><td>mannose</td><td>substrate</td><td>41.32049</td><td>41.39141</td><td>38.88644</td><td>44.0116</td></tr>\n",
       "\t<tr><th scope=row>5</th><td>left</td><td>lg</td><td>ctrl</td><td>58.54272</td><td>58.06417</td><td>53.75525</td><td>62.37521</td></tr>\n",
       "\t<tr><th scope=row>6</th><td>left</td><td>lg</td><td>substrate</td><td>60.47452</td><td>59.80191</td><td>55.58943</td><td>64.00887</td></tr>\n",
       "\t<tr><th scope=row>7</th><td>left</td><td>amppcp</td><td>ctrl</td><td>50.32255</td><td>49.75344</td><td>46.64263</td><td>53.28839</td></tr>\n",
       "\t<tr><th scope=row>8</th><td>left</td><td>amppcp</td><td>substrate</td><td>50.88069</td><td>50.25427</td><td>46.89434</td><td>53.60183</td></tr>\n",
       "\t<tr><th scope=row>9</th><td>center</td><td>dg</td><td>ctrl</td><td>99.95041</td><td>100</td><td>97.08653</td><td>103.0944</td></tr>\n",
       "\t<tr><th scope=row>10</th><td>center</td><td>dg</td><td>substrate</td><td>119.0986</td><td>118.7</td><td>115.0141</td><td>122.3568</td></tr>\n",
       "\t<tr><th scope=row>11</th><td>center</td><td>mannose</td><td>ctrl</td><td>84.74192</td><td>84.43455</td><td>81.70179</td><td>87.09295</td></tr>\n",
       "\t<tr><th scope=row>12</th><td>center</td><td>mannose</td><td>substrate</td><td>103.8808</td><td>104.1096</td><td>100.5875</td><td>107.4258</td></tr>\n",
       "\t<tr><th scope=row>13</th><td>center</td><td>lg</td><td>ctrl</td><td>87.12227</td><td>86.53377</td><td>83.46741</td><td>89.6847</td></tr>\n",
       "\t<tr><th scope=row>14</th><td>center</td><td>lg</td><td>substrate</td><td>80.66454</td><td>80.32709</td><td>76.65689</td><td>84.02925</td></tr>\n",
       "\t<tr><th scope=row>15</th><td>center</td><td>amppcp</td><td>ctrl</td><td>88.90921</td><td>88.68398</td><td>87.35861</td><td>89.98533</td></tr>\n",
       "\t<tr><th scope=row>16</th><td>center</td><td>amppcp</td><td>substrate</td><td>90.32359</td><td>90.35975</td><td>87.93936</td><td>92.56802</td></tr>\n",
       "\t<tr><th scope=row>17</th><td>right</td><td>dg</td><td>ctrl</td><td>41.37657</td><td>41.44599</td><td>38.21307</td><td>44.74888</td></tr>\n",
       "\t<tr><th scope=row>18</th><td>right</td><td>dg</td><td>substrate</td><td>31.39089</td><td>30.85592</td><td>28.48902</td><td>33.73291</td></tr>\n",
       "\t<tr><th scope=row>19</th><td>right</td><td>mannose</td><td>ctrl</td><td>40.25108</td><td>40.28259</td><td>37.89087</td><td>42.84634</td></tr>\n",
       "\t<tr><th scope=row>20</th><td>right</td><td>mannose</td><td>substrate</td><td>39.33284</td><td>39.64981</td><td>36.92015</td><td>42.21829</td></tr>\n",
       "\t<tr><th scope=row>21</th><td>right</td><td>lg</td><td>ctrl</td><td>38.86916</td><td>38.93869</td><td>37.18511</td><td>40.74569</td></tr>\n",
       "\t<tr><th scope=row>22</th><td>right</td><td>lg</td><td>substrate</td><td>43.39509</td><td>43.23396</td><td>41.1598</td><td>45.26378</td></tr>\n",
       "\t<tr><th scope=row>23</th><td>right</td><td>amppcp</td><td>ctrl</td><td>45.30239</td><td>45.6816</td><td>44.56614</td><td>46.73436</td></tr>\n",
       "\t<tr><th scope=row>24</th><td>right</td><td>amppcp</td><td>substrate</td><td>43.32987</td><td>43.20971</td><td>41.29998</td><td>44.81284</td></tr>\n",
       "</tbody>\n",
       "</table>\n"
      ],
      "text/latex": [
       "\\begin{tabular}{r|lllllll}\n",
       "  & channel & Substrate & Experiment & orig & smooth & lo & hi\\\\\n",
       "\\hline\n",
       "\t1 & left & dg & ctrl & 43.20716 & 42.97923 & 39.72115 & 46.59823\\\\\n",
       "\t2 & left & dg & substrate & 34.0447 & 34.37444 & 32.64989 & 36.35473\\\\\n",
       "\t3 & left & mannose & ctrl & 59.54114 & 59.24108 & 55.89352 & 62.09263\\\\\n",
       "\t4 & left & mannose & substrate & 41.32049 & 41.39141 & 38.88644 & 44.0116\\\\\n",
       "\t5 & left & lg & ctrl & 58.54272 & 58.06417 & 53.75525 & 62.37521\\\\\n",
       "\t6 & left & lg & substrate & 60.47452 & 59.80191 & 55.58943 & 64.00887\\\\\n",
       "\t7 & left & amppcp & ctrl & 50.32255 & 49.75344 & 46.64263 & 53.28839\\\\\n",
       "\t8 & left & amppcp & substrate & 50.88069 & 50.25427 & 46.89434 & 53.60183\\\\\n",
       "\t9 & center & dg & ctrl & 99.95041 & 100 & 97.08653 & 103.0944\\\\\n",
       "\t10 & center & dg & substrate & 119.0986 & 118.7 & 115.0141 & 122.3568\\\\\n",
       "\t11 & center & mannose & ctrl & 84.74192 & 84.43455 & 81.70179 & 87.09295\\\\\n",
       "\t12 & center & mannose & substrate & 103.8808 & 104.1096 & 100.5875 & 107.4258\\\\\n",
       "\t13 & center & lg & ctrl & 87.12227 & 86.53377 & 83.46741 & 89.6847\\\\\n",
       "\t14 & center & lg & substrate & 80.66454 & 80.32709 & 76.65689 & 84.02925\\\\\n",
       "\t15 & center & amppcp & ctrl & 88.90921 & 88.68398 & 87.35861 & 89.98533\\\\\n",
       "\t16 & center & amppcp & substrate & 90.32359 & 90.35975 & 87.93936 & 92.56802\\\\\n",
       "\t17 & right & dg & ctrl & 41.37657 & 41.44599 & 38.21307 & 44.74888\\\\\n",
       "\t18 & right & dg & substrate & 31.39089 & 30.85592 & 28.48902 & 33.73291\\\\\n",
       "\t19 & right & mannose & ctrl & 40.25108 & 40.28259 & 37.89087 & 42.84634\\\\\n",
       "\t20 & right & mannose & substrate & 39.33284 & 39.64981 & 36.92015 & 42.21829\\\\\n",
       "\t21 & right & lg & ctrl & 38.86916 & 38.93869 & 37.18511 & 40.74569\\\\\n",
       "\t22 & right & lg & substrate & 43.39509 & 43.23396 & 41.1598 & 45.26378\\\\\n",
       "\t23 & right & amppcp & ctrl & 45.30239 & 45.6816 & 44.56614 & 46.73436\\\\\n",
       "\t24 & right & amppcp & substrate & 43.32987 & 43.20971 & 41.29998 & 44.81284\\\\\n",
       "\\end{tabular}\n"
      ],
      "text/plain": [
       "Source: local data frame [24 x 7]\n",
       "Groups: channel, Substrate [12]\n",
       "\n",
       "   channel Substrate Experiment      orig    smooth        lo        hi\n",
       "    (fctr)    (fctr)      (chr)     (dbl)     (dbl)     (dbl)     (dbl)\n",
       "1     left        dg       ctrl  43.20716  42.97923  39.72115  46.59823\n",
       "2     left        dg  substrate  34.04470  34.37444  32.64989  36.35473\n",
       "3     left   mannose       ctrl  59.54114  59.24108  55.89352  62.09263\n",
       "4     left   mannose  substrate  41.32049  41.39141  38.88644  44.01160\n",
       "5     left        lg       ctrl  58.54272  58.06417  53.75525  62.37521\n",
       "6     left        lg  substrate  60.47452  59.80191  55.58943  64.00887\n",
       "7     left    amppcp       ctrl  50.32255  49.75344  46.64263  53.28839\n",
       "8     left    amppcp  substrate  50.88069  50.25427  46.89434  53.60183\n",
       "9   center        dg       ctrl  99.95041 100.00000  97.08653 103.09437\n",
       "10  center        dg  substrate 119.09856 118.70003 115.01413 122.35684\n",
       "..     ...       ...        ...       ...       ...       ...       ..."
      ]
     },
     "execution_count": 167,
     "metadata": {},
     "output_type": "execute_result"
    }
   ],
   "source": [
    "bychannel_recap"
   ]
  },
  {
   "cell_type": "code",
   "execution_count": 175,
   "metadata": {
    "collapsed": true
   },
   "outputs": [],
   "source": [
    "write.csv(bychannel_recap,\"../newdata/bychannel.csv\")"
   ]
  },
  {
   "cell_type": "code",
   "execution_count": null,
   "metadata": {
    "collapsed": true
   },
   "outputs": [],
   "source": []
  }
 ],
 "metadata": {
  "kernelspec": {
   "display_name": "R",
   "language": "R",
   "name": "ir"
  },
  "language_info": {
   "codemirror_mode": "r",
   "file_extension": ".r",
   "mimetype": "text/x-r-source",
   "name": "R",
   "pygments_lexer": "r",
   "version": "3.2.2"
  }
 },
 "nbformat": 4,
 "nbformat_minor": 0
}
