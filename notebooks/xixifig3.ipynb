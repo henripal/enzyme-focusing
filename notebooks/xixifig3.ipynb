{
 "cells": [
  {
   "cell_type": "markdown",
   "metadata": {},
   "source": [
    "# Enzyme Project\n",
    " \n",
    "## redoing xixi's fig 3"
   ]
  },
  {
   "cell_type": "code",
   "execution_count": 2,
   "metadata": {
    "collapsed": false,
    "scrolled": true
   },
   "outputs": [],
   "source": [
    "library(dplyr)\n",
    "library(ggplot2)\n",
    "library(cowplot)\n",
    "library(magrittr)\n",
    "library(tidyr)\n",
    "library(broom)\n",
    "library(splines)\n",
    "library(scales)"
   ]
  },
  {
   "cell_type": "code",
   "execution_count": 15,
   "metadata": {
    "collapsed": true
   },
   "outputs": [],
   "source": [
    "fig3.DF <- read.csv('../newdata/timedependent.csv')\n"
   ]
  },
  {
   "cell_type": "code",
   "execution_count": 16,
   "metadata": {
    "collapsed": true
   },
   "outputs": [],
   "source": [
    "fig3.DF <- as.data.frame(fig3.DF)"
   ]
  },
  {
   "cell_type": "code",
   "execution_count": 28,
   "metadata": {
    "collapsed": false
   },
   "outputs": [
    {
     "data": {
      "text/html": [
       "<table>\n",
       "<thead><tr><th></th><th scope=col>reaction.time</th><th scope=col>pct.excess.enzyme</th><th scope=col>stdev</th></tr></thead>\n",
       "<tbody>\n",
       "\t<tr><th scope=row>1</th><td>25.9</td><td>7.6</td><td>1.53</td></tr>\n",
       "\t<tr><th scope=row>2</th><td>34.6</td><td>23.6</td><td>3.88</td></tr>\n",
       "</tbody>\n",
       "</table>\n"
      ],
      "text/latex": [
       "\\begin{tabular}{r|lll}\n",
       "  & reaction.time & pct.excess.enzyme & stdev\\\\\n",
       "\\hline\n",
       "\t1 & 25.9 & 7.6 & 1.53\\\\\n",
       "\t2 & 34.6 & 23.6 & 3.88\\\\\n",
       "\\end{tabular}\n"
      ],
      "text/plain": [
       "  reaction.time pct.excess.enzyme stdev\n",
       "1          25.9               7.6  1.53\n",
       "2          34.6              23.6  3.88"
      ]
     },
     "execution_count": 28,
     "metadata": {},
     "output_type": "execute_result"
    }
   ],
   "source": [
    "fig3.DF"
   ]
  },
  {
   "cell_type": "code",
   "execution_count": 18,
   "metadata": {
    "collapsed": false
   },
   "outputs": [],
   "source": [
    "fig3.DF$reaction.time <- as.factor(fig3.DF$reaction.time)"
   ]
  },
  {
   "cell_type": "code",
   "execution_count": 47,
   "metadata": {
    "collapsed": false
   },
   "outputs": [
    {
     "data": {
      "image/png": "[encoded data removed]",
      "text/plain": [
       "plot without title"
      ]
     },
     "metadata": {
      "image/svg+xml": {
       "isolated": true
      }
     },
     "output_type": "display_data"
    }
   ],
   "source": [
    "options(repr.plot.width = 2.5, repr.plot.height = 2)\n",
    "\n",
    "barchart2 <- ggplot(data = fig3.DF , \n",
    "                     aes(x=reaction.time, y= pct.excess.enzyme)) + \n",
    "    geom_bar(stat = \"identity\", fill=\"#e41a1c\",width=.5) +\n",
    "xlab(\"Time in Channel (s)\") +\n",
    "  #  ylab(expression(paste(\"\\n Excess Enzyme in \\n central channel (%)\"))) +\n",
    "    theme_bw() +\n",
    "    theme(panel.border = element_rect(size = .8, colour = \"black\"),\n",
    "         axis.text.y = element_text(size=8),\n",
    "         legend.title=element_blank(),\n",
    "         strip.text = element_text(size = 9, vjust = -150),\n",
    "         strip.background = element_rect(fill = NA, size = NA),\n",
    "         panel.grid.major = element_line())+\n",
    "    geom_errorbar(aes(ymin = pct.excess.enzyme-stdev,ymax = pct.excess.enzyme+stdev ), width = 0) +\n",
    "scale_fill_brewer(palette = 'Set1') +\n",
    "scale_y_continuous(\"Excess Enzyme in \\n central channel (%)\")\n",
    "\n",
    "print(barchart2)"
   ]
  },
  {
   "cell_type": "code",
   "execution_count": 50,
   "metadata": {
    "collapsed": false
   },
   "outputs": [],
   "source": [
    "ggsave(\"../img/fig3v3.png\",width = 2.5, height = 2)"
   ]
  },
  {
   "cell_type": "code",
   "execution_count": null,
   "metadata": {
    "collapsed": true
   },
   "outputs": [],
   "source": []
  }
 ],
 "metadata": {
  "kernelspec": {
   "display_name": "R",
   "language": "R",
   "name": "ir"
  },
  "language_info": {
   "codemirror_mode": "r",
   "file_extension": ".r",
   "mimetype": "text/x-r-source",
   "name": "R",
   "pygments_lexer": "r",
   "version": "3.2.2"
  }
 },
 "nbformat": 4,
 "nbformat_minor": 0
}
