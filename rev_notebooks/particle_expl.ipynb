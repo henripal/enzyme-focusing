{
 "cells": [
  {
   "cell_type": "code",
   "execution_count": 1,
   "metadata": {
    "collapsed": false
   },
   "outputs": [],
   "source": [
    "import matplotlib as mpl\n",
    "import matplotlib.pyplot as plt\n",
    "\n",
    "import numpy as np\n",
    "import pandas as pd\n",
    "from pandas import DataFrame, Series\n",
    "import pims\n",
    "\n",
    "import trackpy as tp\n",
    "from IPython import display\n",
    "%matplotlib inline\n",
    "\n",
    "mpl.rc('figure',  figsize=(10, 10))"
   ]
  },
  {
   "cell_type": "markdown",
   "metadata": {},
   "source": [
    "# Video analysis for supplementary Information\n",
    "C = 0: green channel, HK. Generally less populated than\n",
    "C = 1: red channel, Ald.\n",
    "\n",
    "We are going to look at all videos and try to match particles and their trajectories.\n",
    "\n",
    "The null hypothesis is that the trajectories are not correlated. What is the probability of observing the given data, if this is true?"
   ]
  },
  {
   "cell_type": "markdown",
   "metadata": {},
   "source": [
    "## Step 1: locating the particles\n",
    "\n",
    "We are going to look at individual frames to spot the particles and calibrate the parameters"
   ]
  },
  {
   "cell_type": "code",
   "execution_count": null,
   "metadata": {
    "collapsed": false
   },
   "outputs": [],
   "source": [
    "# loading the video data\n",
    "frames_0 = pims.TiffStack(\"../stackdata/with glucose 2 - C=0.tif\")\n",
    "frames_1 = pims.TiffStack(\"../stackdata/with glucose 2 - C=1.tif\")"
   ]
  },
  {
   "cell_type": "code",
   "execution_count": null,
   "metadata": {
    "collapsed": false
   },
   "outputs": [],
   "source": [
    "# our parameters\n",
    "minmass = 60 # 60 for most, 150 for 20x objective\n",
    "minsize = 5\n",
    "separation = 20"
   ]
  },
  {
   "cell_type": "code",
   "execution_count": null,
   "metadata": {
    "collapsed": false
   },
   "outputs": [],
   "source": [
    "# locating the particles\n",
    "f_0 = tp.locate(frames_0[0], minsize, minmass = minmass, separation = separation)\n",
    "f_1 = tp.locate(frames_1[0], minsize, minmass = minmass, separation=separation)"
   ]
  },
  {
   "cell_type": "code",
   "execution_count": null,
   "metadata": {
    "collapsed": false
   },
   "outputs": [],
   "source": [
    "# looking at the first frame from Hexokinase\n",
    "tp.annotate(f_0, frames_0[0]);"
   ]
  },
  {
   "cell_type": "code",
   "execution_count": null,
   "metadata": {
    "collapsed": false
   },
   "outputs": [],
   "source": [
    "# looking at the first frame from Aldolase\n",
    "tp.annotate(f_1, frames_1[0]);"
   ]
  },
  {
   "cell_type": "markdown",
   "metadata": {},
   "source": [
    "The results look good for this frame, now let's run this for the video."
   ]
  },
  {
   "cell_type": "code",
   "execution_count": null,
   "metadata": {
    "collapsed": false
   },
   "outputs": [],
   "source": [
    "f_0 = tp.batch(frames_0, minsize, minmass=minmass, separation=separation)\n",
    "f_1 = tp.batch(frames_1, minsize, minmass=minmass, separation=separation)"
   ]
  },
  {
   "cell_type": "markdown",
   "metadata": {},
   "source": [
    "## Building trajectories\n",
    "Same as before, we need to check the parameters to evaluate valid trajectories."
   ]
  },
  {
   "cell_type": "code",
   "execution_count": null,
   "metadata": {
    "collapsed": true
   },
   "outputs": [],
   "source": [
    "skiphop = 10 # this is the numner of pixels a particle can jump between frames\n",
    "mem = 5 # this is the number of frames that a particle can 'disappear' for\n",
    "stubsize = 10 # the minium number of frames a trajectory has to exist for the trajectory to be considered"
   ]
  },
  {
   "cell_type": "code",
   "execution_count": null,
   "metadata": {
    "collapsed": false
   },
   "outputs": [],
   "source": [
    "# now we create the trajectories\n",
    "t_0 = tp.link_df(f_0, skiphop, memory = mem)\n",
    "t_1 = tp.link_df(f_1, skiphop, memory = mem)"
   ]
  },
  {
   "cell_type": "code",
   "execution_count": null,
   "metadata": {
    "collapsed": false
   },
   "outputs": [],
   "source": [
    "tl_0 = tp.filter_stubs(t_0, stubsize)\n",
    "tl_1 = tp.filter_stubs(t_1, stubsize)"
   ]
  },
  {
   "cell_type": "markdown",
   "metadata": {},
   "source": [
    "## Removing drift"
   ]
  },
  {
   "cell_type": "code",
   "execution_count": null,
   "metadata": {
    "collapsed": false
   },
   "outputs": [],
   "source": [
    "d = tp.compute_drift(tl_0) # we only compute drift for the 0 frame. "
   ]
  },
  {
   "cell_type": "code",
   "execution_count": null,
   "metadata": {
    "collapsed": false
   },
   "outputs": [],
   "source": [
    "d.plot();"
   ]
  },
  {
   "cell_type": "markdown",
   "metadata": {},
   "source": [
    "In the end we decide not to include drift because:\n",
    "- some particles are completely immobile\n",
    "- we are looking for correlated movement, and normalizing by the drift wouldn't either detract or help with the calculation of correlations"
   ]
  },
  {
   "cell_type": "code",
   "execution_count": null,
   "metadata": {
    "collapsed": false,
    "scrolled": true
   },
   "outputs": [],
   "source": [
    "# now we remove drift from both frames\n",
    "tp.subtract_drift(tl_1, drift=d, inplace=True)\n",
    "tp.subtract_drift(tl_0, drift=d, inplace=True)"
   ]
  },
  {
   "cell_type": "markdown",
   "metadata": {},
   "source": [
    "## Visualizing the trajectories\n",
    "Objectives:\n",
    "- check that we are really looking at real trajectories\n",
    "- see if there is a correlation with the other channel's particle\n",
    "- think about how to show this for suppl. info"
   ]
  },
  {
   "cell_type": "code",
   "execution_count": null,
   "metadata": {
    "collapsed": false
   },
   "outputs": [],
   "source": [
    "# first let's see how many trajectories we are going to have to watch\n",
    "traj_parts = [i for i in set(tl_0.particle) if len(tl_0[tl_0.particle ==i]) > 10]\n",
    "len(traj_parts)"
   ]
  },
  {
   "cell_type": "markdown",
   "metadata": {},
   "source": [
    "### Are the trajectories real? \n",
    "Use the code below to look at both the trajectories, and superpose with the other frame"
   ]
  },
  {
   "cell_type": "code",
   "execution_count": null,
   "metadata": {
    "collapsed": false
   },
   "outputs": [],
   "source": [
    "buff = 10 # the amount of space around the trajectory we want to vizualize\n",
    "\n",
    "# for each trajectory\n",
    "for no in traj_parts:\n",
    "    # we clear the figure\n",
    "    plt.clf();\n",
    "    fig, ax = plt.subplots();\n",
    "    \n",
    "    # we filter the data according to ehe figure we want to look at\n",
    "    x_traj =tl_0[tl_0.particle == no].x\n",
    "    y_traj=tl_0[tl_0.particle == no].y\n",
    "    \n",
    "    # we determine the limits of the plots\n",
    "    xmin, xmax = min(x_traj) - buff, max(x_traj) + buff\n",
    "    ymin, ymax = min(y_traj) - buff, max(y_traj) + buff\n",
    "\n",
    "    # this is the animation, for each frame in the trajectory\n",
    "    for (i,_) in x_traj.iteritems():\n",
    "        # ... we clear the axes\n",
    "        plt.cla();\n",
    "        # we show the background\n",
    "        ax.imshow(frames_1[i]); # ***** change this *******\n",
    "        \n",
    "        # we set the limits to the plot according to what we computed earlier\n",
    "        plt.xlim(xmin, xmax);\n",
    "        plt.ylim(ymin, ymax);\n",
    "        \n",
    "        # we plot our trajectory\n",
    "        ax.plot(x_traj,y_traj, color='red');\n",
    "        display.display(plt.gcf());\n",
    "        display.clear_output(wait=True);\n",
    "\n",
    "    display.clear_output(wait=True);"
   ]
  },
  {
   "cell_type": "markdown",
   "metadata": {},
   "source": [
    "### Showing this in graph form\n",
    "We're happy that it works, now we show this using little graphs that can be put in the suppl!"
   ]
  },
  {
   "cell_type": "code",
   "execution_count": null,
   "metadata": {
    "collapsed": false,
    "scrolled": true
   },
   "outputs": [],
   "source": [
    "nplots = len(traj_parts)\n",
    "\n",
    "nrows = int(nplots/3) +1\n",
    "ncols = 3\n",
    "buff = 10 # 10 for all but 2 for 2x\n",
    "plt.figure(figsize=(15,15))\n",
    "for j, part in enumerate(traj_parts):\n",
    "    ax = plt.subplot(nrows, ncols, j+1)\n",
    "    x_traj = tl_0[tl_0.particle == part].x\n",
    "    y_traj = tl_0[tl_0.particle == part].y\n",
    "    xlims = [np.min(x_traj)-buff, np.max(x_traj)+buff]\n",
    "    \n",
    "    ylims = [np.min(y_traj)-buff, np.max(y_traj)+buff]\n",
    "    framelims = [tl_0[tl_0.particle ==part].iloc[1].frame,\n",
    "                 tl_0[tl_0.particle ==part].iloc[-1].frame]\n",
    "    ax.set_xlim(xlims)\n",
    "    ax.set_ylim(ylims)\n",
    "    ax.plot(x_traj, y_traj)\n",
    "    # candidates\n",
    "    cands = tl_1[(tl_1.frame >= framelims[0]) &\n",
    "               (tl_1.frame <= framelims[1]) &\n",
    "               (tl_1.x >= xlims[0]) &\n",
    "               (tl_1.x <= xlims[1]) &\n",
    "               (tl_1.y >= ylims[0]) &\n",
    "               (tl_1.y <= ylims[1])]\n",
    "    \n",
    "    for candidate_particle in set(cands.particle):\n",
    "        cand = cands[cands.particle == candidate_particle]\n",
    "        ax.plot(cand.x, cand.y, color='red')\n",
    "        "
   ]
  },
  {
   "cell_type": "markdown",
   "metadata": {},
   "source": [
    "## Plotting the size distribution"
   ]
  },
  {
   "cell_type": "code",
   "execution_count": null,
   "metadata": {
    "collapsed": false
   },
   "outputs": [],
   "source": [
    "fig, ax = plt.subplots(figsize = (9, 6))\n",
    "ax.hist(f_0['mass'], bins=20);\n",
    "# this is the appearance at t = 0"
   ]
  },
  {
   "cell_type": "code",
   "execution_count": null,
   "metadata": {
    "collapsed": false
   },
   "outputs": [],
   "source": [
    "fig, ax = plt.subplots(figsize = (10, 10))\n",
    "# this is the average appearance over the trajectory\n",
    "tp.mass_size(tl_0.groupby('particle').mean());"
   ]
  },
  {
   "cell_type": "markdown",
   "metadata": {
    "collapsed": true
   },
   "source": [
    "## Iterating over the videos to build a DF."
   ]
  },
  {
   "cell_type": "code",
   "execution_count": 3,
   "metadata": {
    "collapsed": true
   },
   "outputs": [],
   "source": [
    "import os"
   ]
  },
  {
   "cell_type": "code",
   "execution_count": 4,
   "metadata": {
    "collapsed": false
   },
   "outputs": [
    {
     "name": "stdout",
     "output_type": "stream",
     "text": [
      "set(['l-glu_001', 'with glucose 4 but have flow', 'with glucose with 20X objective', 'with glucose 5', 'with glucose 2', 'with glucose 3', 'no glucose', 'L-glucose', 'no glucose 2', 'l-glu'])\n"
     ]
    }
   ],
   "source": [
    "# getting a list of all the base filenames\n",
    "root_filenames = []\n",
    "\n",
    "for filename in os.listdir(\"../stackdata/\"):\n",
    "    if not filename.endswith(\"C=2.tif\"):\n",
    "        root_filenames.append(filename.split(' - ')[0])\n",
    "        \n",
    "root_filenames = set(root_filenames)\n",
    "\n",
    "print root_filenames"
   ]
  },
  {
   "cell_type": "code",
   "execution_count": 18,
   "metadata": {
    "collapsed": false
   },
   "outputs": [
    {
     "name": "stdout",
     "output_type": "stream",
     "text": [
      "Frame 169: 19 trajectories present\n"
     ]
    }
   ],
   "source": [
    "# now for each filename, we load a pair of videos\n",
    "# and run them through everything\n",
    "aggregate_df = pd.DataFrame()\n",
    "\n",
    "for root_filename in list(root_filenames):\n",
    "    print \"working on file: \" + root_filename + \"\\n\"\n",
    "    # load files\n",
    "    frames_0 = pims.TiffStack(\"../stackdata/\" + root_filename + \" - C=0.tif\")\n",
    "    frames_1 = pims.TiffStack(\"../stackdata/\" + root_filename + \" - C=1.tif\")\n",
    "    \n",
    "    # setting the parameters\n",
    "    if \"20x\" in root_filename:\n",
    "        minmass = 150\n",
    "        minsize = 5\n",
    "        separation = 20\n",
    "        buff = 2\n",
    "    else:\n",
    "        minmass = 60\n",
    "        minsize = 5\n",
    "        separation = 20\n",
    "        buff = 10 # 10 for all but 2 for 2x\n",
    "    \n",
    "    # locating the features\n",
    "    f_0 = tp.batch(frames_0, minsize, minmass=minmass, separation=separation)\n",
    "    f_1 = tp.batch(frames_1, minsize, minmass=minmass, separation=separation)\n",
    "\n",
    "    skiphop = 10 # this is the numner of pixels a particle can jump between frames\n",
    "    mem = 5 # this is the number of frames that a particle can 'disappear' for\n",
    "    stubsize = 10 # the minium number of frames a trajectory has to exist for the trajectory to be consideredoO\n",
    "\n",
    "    # linking trajectories\n",
    "    t_0 = tp.link_df(f_0, skiphop, memory = mem)\n",
    "    t_1 = tp.link_df(f_1, skiphop, memory = mem)\n",
    "\n",
    "    tl_0 = tp.filter_stubs(t_0, stubsize)\n",
    "    tl_1 = tp.filter_stubs(t_1, stubsize)\n",
    "\n",
    "    # number of trajectories in the frame of interest\n",
    "    traj_parts = [i for i in set(tl_0.particle) if len(tl_0[tl_0.particle ==i]) > 10]\n",
    "    \n",
    "    n_traj = len(traj_parts)\n",
    "    \n",
    "    for j, part in enumerate(traj_parts):\n",
    "        # our main dataframe\n",
    "        df_0 = tl_0[tl_0.particle == part]\n",
    "        # this is our 'main' trajectory\n",
    "        x_traj = df_0.x\n",
    "        y_traj = df_0.y\n",
    "        \n",
    "        # this is the frame around our trajectory\n",
    "        xlims = [np.min(x_traj)-buff, np.max(x_traj)+buff]\n",
    "        ylims = [np.min(y_traj)-buff, np.max(y_traj)+buff]\n",
    "        framelims = [df_0.iloc[1].frame,\n",
    "                     df_0.iloc[-1].frame]\n",
    "        \n",
    "        # candidate data frame\n",
    "        cands = tl_1[(tl_1.frame >= framelims[0]) &\n",
    "                   (tl_1.frame <= framelims[1]) &\n",
    "                   (tl_1.x >= xlims[0]) &\n",
    "                   (tl_1.x <= xlims[1]) &\n",
    "                   (tl_1.y >= ylims[0]) &\n",
    "                   (tl_1.y <= ylims[1])]\n",
    "        \n",
    "        # now we find the longest candidate trajectory\n",
    "        length_traj = 0\n",
    "        chosen_particle = None\n",
    "        for candidate_particle in set(cands.particle):\n",
    "            cand = cands[cands.particle == candidate_particle]\n",
    "            if len(cand) > length_traj:\n",
    "                chosen_particle = candidate_particle\n",
    "                length_traj = len(cand)\n",
    "                \n",
    "        df_1 = cands[cands.particle == chosen_particle]\n",
    "        \n",
    "        # now we add some name fields and concatenate the things\n",
    "        df_0['filename'] = root_filename\n",
    "        df_1['filename'] = root_filename\n",
    "        df_0['channel'] = 0\n",
    "        df_1['channel'] = 1\n",
    "        df_0['pair_id'] = j\n",
    "        df_1['pair_id'] = j\n",
    "        \n",
    "        aggregate_df = pd.concat([aggregate_df, df_0, df_1])\n",
    "        \n",
    "            \n"
   ]
  },
  {
   "cell_type": "code",
   "execution_count": 19,
   "metadata": {
    "collapsed": false
   },
   "outputs": [],
   "source": [
    "aggregate_df.to_csv(\"../data/trajectory_df.csv\")"
   ]
  },
  {
   "cell_type": "code",
   "execution_count": 11,
   "metadata": {
    "collapsed": false
   },
   "outputs": [
    {
     "data": {
      "text/plain": [
       "'with glucose 2'"
      ]
     },
     "execution_count": 11,
     "metadata": {},
     "output_type": "execute_result"
    }
   ],
   "source": [
    "list(root_filenames)[4:5]\n",
    "testname = list(set(aggregate_df.filename))[0]\n",
    "testname"
   ]
  },
  {
   "cell_type": "code",
   "execution_count": 12,
   "metadata": {
    "collapsed": true
   },
   "outputs": [],
   "source": [
    "ha = aggregate_df[aggregate_df.filename == testname] \n",
    "ha_0 = ha[ha.channel ==0]\n",
    "ha_1 = ha[ha.channel == 1]"
   ]
  },
  {
   "cell_type": "code",
   "execution_count": 17,
   "metadata": {
    "collapsed": false
   },
   "outputs": [
    {
     "data": {
      "text/plain": [
       "[<matplotlib.lines.Line2D at 0x7f6eafe7ae50>]"
      ]
     },
     "execution_count": 17,
     "metadata": {},
     "output_type": "execute_result"
    },
    {
     "data": {
      "image/png": "[encoded data removed]",
      "text/plain": [
       "<matplotlib.figure.Figure at 0x7f6eb1437f10>"
      ]
     },
     "metadata": {},
     "output_type": "display_data"
    }
   ],
   "source": [
    "pair_id = 0\n",
    "test_0 = ha_0[ha_0.pair_id == pair_id]\n",
    "test_1 = ha_1[ha_1.pair_id == pair_id]\n",
    "fig, ax = plt.subplots()\n",
    "ax.plot(test_0.x, test_0.y)\n",
    "ax.plot(test_1.x, test_1.y)"
   ]
  },
  {
   "cell_type": "code",
   "execution_count": null,
   "metadata": {
    "collapsed": false
   },
   "outputs": [],
   "source": []
  },
  {
   "cell_type": "code",
   "execution_count": null,
   "metadata": {
    "collapsed": true
   },
   "outputs": [],
   "source": []
  }
 ],
 "metadata": {
  "kernelspec": {
   "display_name": "Python 2",
   "language": "python",
   "name": "python2"
  },
  "language_info": {
   "codemirror_mode": {
    "name": "ipython",
    "version": 2
   },
   "file_extension": ".py",
   "mimetype": "text/x-python",
   "name": "python",
   "nbconvert_exporter": "python",
   "pygments_lexer": "ipython2",
   "version": "2.7.13"
  }
 },
 "nbformat": 4,
 "nbformat_minor": 2
}
